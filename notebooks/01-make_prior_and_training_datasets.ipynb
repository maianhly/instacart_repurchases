{
 "cells": [
  {
   "cell_type": "markdown",
   "metadata": {
    "toc": true
   },
   "source": [
    "<h1>Table of Contents<span class=\"tocSkip\"></span></h1>\n",
    "<div class=\"toc\"><ul class=\"toc-item\"><li><span><a href=\"#Data-Cleaning-Outline\" data-toc-modified-id=\"Data-Cleaning-Outline-1\"><span class=\"toc-item-num\">1&nbsp;&nbsp;</span>Data Cleaning Outline</a></span><ul class=\"toc-item\"><li><span><a href=\"#References\" data-toc-modified-id=\"References-1.1\"><span class=\"toc-item-num\">1.1&nbsp;&nbsp;</span>References</a></span></li></ul></li><li><span><a href=\"#Mount-Google-Drive-to-Colab-notebook\" data-toc-modified-id=\"Mount-Google-Drive-to-Colab-notebook-2\"><span class=\"toc-item-num\">2&nbsp;&nbsp;</span>Mount Google Drive to Colab notebook</a></span></li><li><span><a href=\"#Install-modules-and-import-requirements\" data-toc-modified-id=\"Install-modules-and-import-requirements-3\"><span class=\"toc-item-num\">3&nbsp;&nbsp;</span>Install modules and import requirements</a></span></li><li><span><a href=\"#Define-dictionaries-for-DataFrame-datatype-casting\" data-toc-modified-id=\"Define-dictionaries-for-DataFrame-datatype-casting-4\"><span class=\"toc-item-num\">4&nbsp;&nbsp;</span>Define dictionaries for DataFrame datatype casting</a></span></li><li><span><a href=\"#Define-functions-for-cleaning-Instacart-data\" data-toc-modified-id=\"Define-functions-for-cleaning-Instacart-data-5\"><span class=\"toc-item-num\">5&nbsp;&nbsp;</span>Define functions for cleaning Instacart data</a></span></li><li><span><a href=\"#Create-all_products-dataset\" data-toc-modified-id=\"Create-all_products-dataset-6\"><span class=\"toc-item-num\">6&nbsp;&nbsp;</span>Create <code>all_products</code> dataset</a></span></li><li><span><a href=\"#Create-prior_products-and-training-dataset\" data-toc-modified-id=\"Create-prior_products-and-training-dataset-7\"><span class=\"toc-item-num\">7&nbsp;&nbsp;</span>Create <code>prior_products</code> and <code>training</code> dataset</a></span></li><li><span><a href=\"#Summary\" data-toc-modified-id=\"Summary-8\"><span class=\"toc-item-num\">8&nbsp;&nbsp;</span>Summary</a></span></li><li><span><a href=\"#Next-steps\" data-toc-modified-id=\"Next-steps-9\"><span class=\"toc-item-num\">9&nbsp;&nbsp;</span>Next steps</a></span></li></ul></div>"
   ]
  },
  {
   "cell_type": "markdown",
   "metadata": {
    "colab_type": "text",
    "id": "Ypt8_RS7swJS"
   },
   "source": [
    "# Cleaning Instacart raw data\n",
    "\n",
    "A subset of [Instacart production data](https://www.instacart.com/datasets/grocery-shopping-2017) was released in 2017. It contains information on 3 million orders from approximately 200 thousand users, with 4-100 orders per user.\n",
    "\n",
    "<center>![Instacart data schema](instacart_schema.png)</center>\n",
    "\n",
    "According to the [data dictionary](https://gist.github.com/jeremystan/c3b39d947d9b88b3ccff3147dbcf6c6b?source=post_page) provided by Instacart, the ordering data has been split between a `order_products__prior` set, which contains all orders made by each user except for their latest order, and an `order_products__train` set, which contains each user's latest order.  \n",
    "\n",
    "In order to protect the privacy of their users and retail partners, Instacart have provided the following [caveats](https://tech.instacart.com/3-million-instacart-orders-open-sourced-d40d29ead6f2) about this dataset:\n",
    "\n",
    "> - The only information provided about users is their sequence of orders and the products in those orders\n",
    "- All of the IDs in the dataset are entirely randomized, and cannot be linked back to any other ID\n",
    "- Only products that are bought by multiple people at multiple retailers are included, and no retailer ID is provided\n",
    "- The data includes orders from many different retailers and is a heavily biased subset of Instacart’s production data\n",
    "\n",
    "## Data Cleaning Outline\n",
    "\n",
    "For the data to be in a format appropriate for creation of new features/predictors for modelling with the resources available:\n",
    "\n",
    "1. The tables `products`, `aisles`, `departments` must be merged to form a table containing data on `all_products`\n",
    "2. The tables `all_products`, `orders` and `order_products__prior` must be merged to form a `prior_products` ordering history\n",
    "3. The tables `all_products`, `orders` and `order_products__train` must be merged to form a `training` set.\n",
    "\n",
    "---\n",
    "### References\n",
    "\n",
    "__1. Data source__: “The Instacart Online Grocery Shopping Dataset 2017”, Accessed from https://www.instacart.com/datasets/grocery-shopping-2017 on 24 June 2019\n",
    "\n",
    "__2. Data dictionary__: \"The Instacart Online Grocery Shopping Dataset 2017 Data Descriptions\", Accessed from https://gist.github.com/jeremystan/c3b39d947d9b88b3ccff3147dbcf6c6b?source=post_page on 24 June 2019\n",
    "\n",
    "__3. More data information__: \"3 Million Instacart Orders, Open Sourced\", Accessed from https://tech.instacart.com/3-million-instacart-orders-open-sourced-d40d29ead6f2 on 24 June 2019\n"
   ]
  },
  {
   "cell_type": "markdown",
   "metadata": {
    "colab_type": "text",
    "id": "Os1GdHZZnP9a"
   },
   "source": [
    "## Mount Google Drive to Colab notebook\n",
    "\n",
    "Uncomment if running in Google Colab"
   ]
  },
  {
   "cell_type": "code",
   "execution_count": 1,
   "metadata": {
    "colab": {
     "base_uri": "https://localhost:8080/",
     "height": 139
    },
    "colab_type": "code",
    "executionInfo": {
     "elapsed": 60313,
     "status": "ok",
     "timestamp": 1563926083890,
     "user": {
      "displayName": "Mai Anh Ly",
      "photoUrl": "",
      "userId": "13204928062056036662"
     },
     "user_tz": -600
    },
    "id": "90U9sDFDmdJo",
    "outputId": "039acb18-6e17-440c-e869-593ca6b542c6"
   },
   "outputs": [
    {
     "name": "stdout",
     "output_type": "stream",
     "text": [
      "Go to this URL in a browser: https://accounts.google.com/o/oauth2/auth?client_id=947318989803-6bn6qk8qdgf4n4g3pfee6491hc0brc4i.apps.googleusercontent.com&redirect_uri=urn%3Aietf%3Awg%3Aoauth%3A2.0%3Aoob&scope=email%20https%3A%2F%2Fwww.googleapis.com%2Fauth%2Fdocs.test%20https%3A%2F%2Fwww.googleapis.com%2Fauth%2Fdrive%20https%3A%2F%2Fwww.googleapis.com%2Fauth%2Fdrive.photos.readonly%20https%3A%2F%2Fwww.googleapis.com%2Fauth%2Fpeopleapi.readonly&response_type=code\n",
      "\n",
      "Enter your authorization code:\n",
      "··········\n",
      "Mounted at /content/drive\n",
      "/content/drive/My Drive/datsci/instacart/notebooks\n"
     ]
    }
   ],
   "source": [
    "## Mount Google Drive to Colab VM \n",
    "\n",
    "#import sys\n",
    "#from google.colab import drive\n",
    "\n",
    "#drive.mount('/content/drive', force_remount=True)\n",
    "\n",
    "# change directory to Google Drive filepath for Instacart project notebook directory \n",
    "\n",
    "#%cd \"/content/drive/My Drive/datsci/instacart/notebooks\""
   ]
  },
  {
   "cell_type": "markdown",
   "metadata": {
    "colab_type": "text",
    "id": "NfTwQ7bvn2WO"
   },
   "source": [
    "## Install modules and import requirements"
   ]
  },
  {
   "cell_type": "code",
   "execution_count": 2,
   "metadata": {
    "colab": {
     "base_uri": "https://localhost:8080/",
     "height": 255
    },
    "colab_type": "code",
    "executionInfo": {
     "elapsed": 8202,
     "status": "ok",
     "timestamp": 1563926153853,
     "user": {
      "displayName": "Mai Anh Ly",
      "photoUrl": "",
      "userId": "13204928062056036662"
     },
     "user_tz": -600
    },
    "id": "dBV22GyLoEFc",
    "outputId": "bc037aaf-f771-40bb-8a75-ede5d003840f"
   },
   "outputs": [
    {
     "name": "stdout",
     "output_type": "stream",
     "text": [
      "Collecting datatable==0.8.0 from https://s3.amazonaws.com/h2o-release/datatable/stable/datatable-0.8.0/datatable-0.8.0-cp36-cp36m-linux_x86_64.whl\n",
      "\u001b[?25l  Downloading https://s3.amazonaws.com/h2o-release/datatable/stable/datatable-0.8.0/datatable-0.8.0-cp36-cp36m-linux_x86_64.whl (10.2MB)\n",
      "\u001b[K     |████████████████████████████████| 10.2MB 3.4MB/s \n",
      "\u001b[?25hCollecting typesentry>=0.2.6 (from datatable==0.8.0)\n",
      "  Downloading https://files.pythonhosted.org/packages/0f/37/3757249f05aac8a08d9742f9a35c17ab6895eb916b83bbf3a23eae6842b2/typesentry-0.2.7-py2.py3-none-any.whl\n",
      "Collecting blessed (from datatable==0.8.0)\n",
      "\u001b[?25l  Downloading https://files.pythonhosted.org/packages/3f/96/1915827a8e411613d364dd3a56ef1fbfab84ee878070a69c21b10b5ad1bb/blessed-1.15.0-py2.py3-none-any.whl (60kB)\n",
      "\u001b[K     |████████████████████████████████| 61kB 5.6MB/s \n",
      "\u001b[?25hCollecting colorama>=0.3 (from typesentry>=0.2.6->datatable==0.8.0)\n",
      "  Downloading https://files.pythonhosted.org/packages/4f/a6/728666f39bfff1719fc94c481890b2106837da9318031f71a8424b662e12/colorama-0.4.1-py2.py3-none-any.whl\n",
      "Requirement already satisfied: wcwidth>=0.1.4 in /usr/local/lib/python3.6/dist-packages (from blessed->datatable==0.8.0) (0.1.7)\n",
      "Requirement already satisfied: six>=1.9.0 in /usr/local/lib/python3.6/dist-packages (from blessed->datatable==0.8.0) (1.12.0)\n",
      "Installing collected packages: colorama, typesentry, blessed, datatable\n",
      "Successfully installed blessed-1.15.0 colorama-0.4.1 datatable-0.8.0 typesentry-0.2.7\n"
     ]
    }
   ],
   "source": [
    "# install datatable\n",
    "\n",
    "!pip install https://s3.amazonaws.com/h2o-release/datatable/stable/datatable-0.8.0/datatable-0.8.0-cp36-cp36m-linux_x86_64.whl"
   ]
  },
  {
   "cell_type": "code",
   "execution_count": 0,
   "metadata": {
    "colab": {},
    "colab_type": "code",
    "id": "q1QCsDyhq0kE"
   },
   "outputs": [],
   "source": [
    "# Import data manipulation\n",
    "\n",
    "import pandas as pd\n",
    "import datatable as dt \n",
    "import numpy as np\n",
    "\n",
    "# Import data viz\n",
    "\n",
    "import seaborn as sns\n",
    "import matplotlib.pyplot as plt"
   ]
  },
  {
   "cell_type": "markdown",
   "metadata": {
    "colab_type": "text",
    "id": "THP-5112rLhv"
   },
   "source": [
    "## Define dictionaries for DataFrame datatype casting"
   ]
  },
  {
   "cell_type": "code",
   "execution_count": 0,
   "metadata": {
    "colab": {},
    "colab_type": "code",
    "id": "3wYr_NlKrKda"
   },
   "outputs": [],
   "source": [
    "# Create one datatype dictionary per table\n",
    "\n",
    "product_dtype = {'product_id': 'int32',\n",
    "                 'aisle_id': 'int32',\n",
    "                 'department_id': 'int32'}\n",
    "\n",
    "aisle_dtype = {'aisle_id': 'int32',\n",
    "               'aisle': 'category'}\n",
    "\n",
    "department_dtype = {'department_id': 'int32',\n",
    "                    'department': 'category'}              \n",
    "\n",
    "orders_dtype = {'order_id': 'int32',\n",
    "                'user_id': 'int32',\n",
    "                'eval_set': 'category',\n",
    "                'order_number': 'int32',\n",
    "                'order_dow': 'int8',\n",
    "                'order_hour_of_day': 'int8',\n",
    "                'days_since_prior_order': 'float16'}\n",
    "\n",
    "sets_dtype = {'order_id': 'int32',\n",
    "              'product_id': 'int32',\n",
    "              'add_to_cart_order': 'int8',\n",
    "              'reordered': 'int8'}"
   ]
  },
  {
   "cell_type": "markdown",
   "metadata": {
    "colab_type": "text",
    "id": "oAWsVRCNzY3b"
   },
   "source": [
    "## Define functions for cleaning Instacart data"
   ]
  },
  {
   "cell_type": "code",
   "execution_count": 0,
   "metadata": {
    "colab": {},
    "colab_type": "code",
    "id": "LGWlO6KZzeXO"
   },
   "outputs": [],
   "source": [
    "def prepare_products_df(instacart_data_fp):\n",
    "    \n",
    "    # Load dataframes\n",
    "    \n",
    "    products = dt.fread(instacart_data_fp+\"products.csv\").to_pandas().astype(product_dtype)\n",
    "    aisles = dt.fread(instacart_data_fp+\"aisles.csv\").to_pandas().astype(aisle_dtype)\n",
    "    departments = dt.fread(instacart_data_fp+\"departments.csv\").to_pandas().astype(department_dtype)\n",
    "    \n",
    "    # Merge dataframes\n",
    "    \n",
    "    products_aisle = pd.merge(products, aisles, on='aisle_id')\n",
    "    all_products = pd.merge(products_aisle, departments, on='department_id')\n",
    "    \n",
    "    return all_products\n",
    "\n",
    "\n",
    "def prepare_merged_product_orders(instacart_data_fp):\n",
    "\n",
    "    # Use products_df function to merge product data\n",
    "\n",
    "    all_products = prepare_products_df(instacart_data_fp)\n",
    "\n",
    "    # Load dataframes\n",
    "\n",
    "    orders = dt.fread(instacart_data_fp+'orders.csv').to_pandas().astype(orders_dtype)\n",
    "    prior_products = dt.fread(instacart_data_fp+'order_products__prior.csv').to_pandas().astype(sets_dtype)  \n",
    "    train_products = dt.fread(instacart_data_fp+'order_products__train.csv').to_pandas().astype(sets_dtype)\n",
    "\n",
    "    # Create merged dataframes\n",
    "\n",
    "    merged_dfs = dict()\n",
    "\n",
    "    for label, df in zip(['prior', 'train'], [prior_products, train_products]):\n",
    "        order_set = pd.merge(df, orders[orders['eval_set'] == label], on='order_id', how='left')\n",
    "        order_products = pd.merge(order_set, all_products, on='product_id', how='left')\n",
    "        merged_dfs[label] = order_products.drop(['eval_set', 'product_name', 'aisle', 'department'], axis=1) # drop product, aisle and department names to save RAM\n",
    "\n",
    "    return merged_dfs "
   ]
  },
  {
   "cell_type": "code",
   "execution_count": null,
   "metadata": {},
   "outputs": [],
   "source": [
    "# Create directories for data\n",
    "\n",
    "!mkdir ../data/interim\n",
    "!mkdir ../data/training"
   ]
  },
  {
   "cell_type": "code",
   "execution_count": 0,
   "metadata": {
    "colab": {},
    "colab_type": "code",
    "id": "js0F_8E3zTP1"
   },
   "outputs": [],
   "source": [
    "# Define Instacart raw data directory filepath\n",
    "\n",
    "instacart_fp = '../data/instacart_2017_05_01/'\n",
    "\n",
    "# Define directory filepath for interim data files\n",
    "\n",
    "interim_outpath = '../data/interim/'"
   ]
  },
  {
   "cell_type": "markdown",
   "metadata": {
    "colab_type": "text",
    "id": "ankCRIYSz6Ow"
   },
   "source": [
    "## Create `all_products` dataset"
   ]
  },
  {
   "cell_type": "code",
   "execution_count": 0,
   "metadata": {
    "colab": {},
    "colab_type": "code",
    "id": "IHqqFea60YC9"
   },
   "outputs": [],
   "source": [
    "# Create all_products DataFrame\n",
    "\n",
    "all_products = prepare_products_df(instacart_fp)"
   ]
  },
  {
   "cell_type": "code",
   "execution_count": 8,
   "metadata": {
    "colab": {
     "base_uri": "https://localhost:8080/",
     "height": 204
    },
    "colab_type": "code",
    "executionInfo": {
     "elapsed": 611,
     "status": "ok",
     "timestamp": 1563926166175,
     "user": {
      "displayName": "Mai Anh Ly",
      "photoUrl": "",
      "userId": "13204928062056036662"
     },
     "user_tz": -600
    },
    "id": "Hi15LjIi07sk",
    "outputId": "2e18e17b-b360-499b-bec7-8d6ee370dd7e"
   },
   "outputs": [
    {
     "name": "stdout",
     "output_type": "stream",
     "text": [
      "<class 'pandas.core.frame.DataFrame'>\n",
      "Int64Index: 49688 entries, 0 to 49687\n",
      "Data columns (total 6 columns):\n",
      "product_id       49688 non-null int32\n",
      "product_name     49688 non-null object\n",
      "aisle_id         49688 non-null int32\n",
      "department_id    49688 non-null int32\n",
      "aisle            49688 non-null category\n",
      "department       49688 non-null category\n",
      "dtypes: category(2), int32(3), object(1)\n",
      "memory usage: 1.5+ MB\n"
     ]
    }
   ],
   "source": [
    "# Check info on all_products \n",
    "\n",
    "all_products.info()"
   ]
  },
  {
   "cell_type": "code",
   "execution_count": 9,
   "metadata": {
    "colab": {
     "base_uri": "https://localhost:8080/",
     "height": 204
    },
    "colab_type": "code",
    "executionInfo": {
     "elapsed": 615,
     "status": "ok",
     "timestamp": 1563926168711,
     "user": {
      "displayName": "Mai Anh Ly",
      "photoUrl": "",
      "userId": "13204928062056036662"
     },
     "user_tz": -600
    },
    "id": "D3Gf9TJE2yYY",
    "outputId": "8edf41e1-18a5-4f44-bad5-4eac7f83c1d1"
   },
   "outputs": [
    {
     "data": {
      "text/html": [
       "<div>\n",
       "<style scoped>\n",
       "    .dataframe tbody tr th:only-of-type {\n",
       "        vertical-align: middle;\n",
       "    }\n",
       "\n",
       "    .dataframe tbody tr th {\n",
       "        vertical-align: top;\n",
       "    }\n",
       "\n",
       "    .dataframe thead th {\n",
       "        text-align: right;\n",
       "    }\n",
       "</style>\n",
       "<table border=\"1\" class=\"dataframe\">\n",
       "  <thead>\n",
       "    <tr style=\"text-align: right;\">\n",
       "      <th></th>\n",
       "      <th>product_id</th>\n",
       "      <th>product_name</th>\n",
       "      <th>aisle_id</th>\n",
       "      <th>department_id</th>\n",
       "      <th>aisle</th>\n",
       "      <th>department</th>\n",
       "    </tr>\n",
       "  </thead>\n",
       "  <tbody>\n",
       "    <tr>\n",
       "      <th>0</th>\n",
       "      <td>1</td>\n",
       "      <td>Chocolate Sandwich Cookies</td>\n",
       "      <td>61</td>\n",
       "      <td>19</td>\n",
       "      <td>cookies cakes</td>\n",
       "      <td>snacks</td>\n",
       "    </tr>\n",
       "    <tr>\n",
       "      <th>1</th>\n",
       "      <td>78</td>\n",
       "      <td>Nutter Butter Cookie Bites Go-Pak</td>\n",
       "      <td>61</td>\n",
       "      <td>19</td>\n",
       "      <td>cookies cakes</td>\n",
       "      <td>snacks</td>\n",
       "    </tr>\n",
       "    <tr>\n",
       "      <th>2</th>\n",
       "      <td>102</td>\n",
       "      <td>Danish Butter Cookies</td>\n",
       "      <td>61</td>\n",
       "      <td>19</td>\n",
       "      <td>cookies cakes</td>\n",
       "      <td>snacks</td>\n",
       "    </tr>\n",
       "    <tr>\n",
       "      <th>3</th>\n",
       "      <td>172</td>\n",
       "      <td>Gluten Free All Natural Chocolate Chip Cookies</td>\n",
       "      <td>61</td>\n",
       "      <td>19</td>\n",
       "      <td>cookies cakes</td>\n",
       "      <td>snacks</td>\n",
       "    </tr>\n",
       "    <tr>\n",
       "      <th>4</th>\n",
       "      <td>285</td>\n",
       "      <td>Mini Nilla Wafers Munch Pack</td>\n",
       "      <td>61</td>\n",
       "      <td>19</td>\n",
       "      <td>cookies cakes</td>\n",
       "      <td>snacks</td>\n",
       "    </tr>\n",
       "  </tbody>\n",
       "</table>\n",
       "</div>"
      ],
      "text/plain": [
       "   product_id  ... department\n",
       "0           1  ...     snacks\n",
       "1          78  ...     snacks\n",
       "2         102  ...     snacks\n",
       "3         172  ...     snacks\n",
       "4         285  ...     snacks\n",
       "\n",
       "[5 rows x 6 columns]"
      ]
     },
     "execution_count": 9,
     "metadata": {
      "tags": []
     },
     "output_type": "execute_result"
    }
   ],
   "source": [
    "all_products.head()"
   ]
  },
  {
   "cell_type": "code",
   "execution_count": 0,
   "metadata": {
    "colab": {},
    "colab_type": "code",
    "id": "TGLvF2Bc0eXY"
   },
   "outputs": [],
   "source": [
    "# Save all_products in interim data directory\n",
    "\n",
    "all_products.to_csv(interim_outpath+'all_products_merge.gz',\n",
    "\tindex=False,\n",
    "\tcompression='gzip',\n",
    "\tchunksize=1000)"
   ]
  },
  {
   "cell_type": "markdown",
   "metadata": {
    "colab_type": "text",
    "id": "REl8tDujzImd"
   },
   "source": [
    "## Create `prior_products` and `training` dataset"
   ]
  },
  {
   "cell_type": "code",
   "execution_count": 0,
   "metadata": {
    "colab": {},
    "colab_type": "code",
    "id": "Cltvclt2z0Ya"
   },
   "outputs": [],
   "source": [
    "# Create dictionary containing prior_products and training datasets as values\n",
    "\n",
    "merged_order_products = prepare_merged_product_orders(instacart_fp)"
   ]
  },
  {
   "cell_type": "code",
   "execution_count": 27,
   "metadata": {
    "colab": {
     "base_uri": "https://localhost:8080/",
     "height": 289
    },
    "colab_type": "code",
    "executionInfo": {
     "elapsed": 23302,
     "status": "ok",
     "timestamp": 1563927012016,
     "user": {
      "displayName": "Mai Anh Ly",
      "photoUrl": "",
      "userId": "13204928062056036662"
     },
     "user_tz": -600
    },
    "id": "96XCcAVy1CBX",
    "outputId": "95f9b744-456e-4edc-c396-4d6bd5250765"
   },
   "outputs": [
    {
     "name": "stdout",
     "output_type": "stream",
     "text": [
      "<class 'pandas.core.frame.DataFrame'>\n",
      "Int64Index: 32434489 entries, 0 to 32434488\n",
      "Data columns (total 11 columns):\n",
      "order_id                  int32\n",
      "product_id                int32\n",
      "add_to_cart_order         int8\n",
      "reordered                 int8\n",
      "user_id                   int32\n",
      "order_number              int32\n",
      "order_dow                 int8\n",
      "order_hour_of_day         int8\n",
      "days_since_prior_order    float16\n",
      "aisle_id                  int32\n",
      "department_id             int32\n",
      "dtypes: float16(1), int32(6), int8(4)\n",
      "memory usage: 1.1 GB\n"
     ]
    }
   ],
   "source": [
    "# Check info on prior_products\n",
    "\n",
    "merged_order_products['prior'].info()"
   ]
  },
  {
   "cell_type": "code",
   "execution_count": 28,
   "metadata": {
    "colab": {
     "base_uri": "https://localhost:8080/",
     "height": 204
    },
    "colab_type": "code",
    "executionInfo": {
     "elapsed": 21008,
     "status": "ok",
     "timestamp": 1563927012017,
     "user": {
      "displayName": "Mai Anh Ly",
      "photoUrl": "",
      "userId": "13204928062056036662"
     },
     "user_tz": -600
    },
    "id": "8mwxtRPG24aW",
    "outputId": "6c75320d-6cbd-4817-90ab-f4a03dafa0bc"
   },
   "outputs": [
    {
     "data": {
      "text/html": [
       "<div>\n",
       "<style scoped>\n",
       "    .dataframe tbody tr th:only-of-type {\n",
       "        vertical-align: middle;\n",
       "    }\n",
       "\n",
       "    .dataframe tbody tr th {\n",
       "        vertical-align: top;\n",
       "    }\n",
       "\n",
       "    .dataframe thead th {\n",
       "        text-align: right;\n",
       "    }\n",
       "</style>\n",
       "<table border=\"1\" class=\"dataframe\">\n",
       "  <thead>\n",
       "    <tr style=\"text-align: right;\">\n",
       "      <th></th>\n",
       "      <th>order_id</th>\n",
       "      <th>product_id</th>\n",
       "      <th>add_to_cart_order</th>\n",
       "      <th>reordered</th>\n",
       "      <th>user_id</th>\n",
       "      <th>order_number</th>\n",
       "      <th>order_dow</th>\n",
       "      <th>order_hour_of_day</th>\n",
       "      <th>days_since_prior_order</th>\n",
       "      <th>aisle_id</th>\n",
       "      <th>department_id</th>\n",
       "    </tr>\n",
       "  </thead>\n",
       "  <tbody>\n",
       "    <tr>\n",
       "      <th>0</th>\n",
       "      <td>2</td>\n",
       "      <td>33120</td>\n",
       "      <td>1</td>\n",
       "      <td>1</td>\n",
       "      <td>202279</td>\n",
       "      <td>3</td>\n",
       "      <td>5</td>\n",
       "      <td>9</td>\n",
       "      <td>8.0</td>\n",
       "      <td>86</td>\n",
       "      <td>16</td>\n",
       "    </tr>\n",
       "    <tr>\n",
       "      <th>1</th>\n",
       "      <td>2</td>\n",
       "      <td>28985</td>\n",
       "      <td>2</td>\n",
       "      <td>1</td>\n",
       "      <td>202279</td>\n",
       "      <td>3</td>\n",
       "      <td>5</td>\n",
       "      <td>9</td>\n",
       "      <td>8.0</td>\n",
       "      <td>83</td>\n",
       "      <td>4</td>\n",
       "    </tr>\n",
       "    <tr>\n",
       "      <th>2</th>\n",
       "      <td>2</td>\n",
       "      <td>9327</td>\n",
       "      <td>3</td>\n",
       "      <td>0</td>\n",
       "      <td>202279</td>\n",
       "      <td>3</td>\n",
       "      <td>5</td>\n",
       "      <td>9</td>\n",
       "      <td>8.0</td>\n",
       "      <td>104</td>\n",
       "      <td>13</td>\n",
       "    </tr>\n",
       "    <tr>\n",
       "      <th>3</th>\n",
       "      <td>2</td>\n",
       "      <td>45918</td>\n",
       "      <td>4</td>\n",
       "      <td>1</td>\n",
       "      <td>202279</td>\n",
       "      <td>3</td>\n",
       "      <td>5</td>\n",
       "      <td>9</td>\n",
       "      <td>8.0</td>\n",
       "      <td>19</td>\n",
       "      <td>13</td>\n",
       "    </tr>\n",
       "    <tr>\n",
       "      <th>4</th>\n",
       "      <td>2</td>\n",
       "      <td>30035</td>\n",
       "      <td>5</td>\n",
       "      <td>0</td>\n",
       "      <td>202279</td>\n",
       "      <td>3</td>\n",
       "      <td>5</td>\n",
       "      <td>9</td>\n",
       "      <td>8.0</td>\n",
       "      <td>17</td>\n",
       "      <td>13</td>\n",
       "    </tr>\n",
       "  </tbody>\n",
       "</table>\n",
       "</div>"
      ],
      "text/plain": [
       "   order_id  product_id  ...  aisle_id  department_id\n",
       "0         2       33120  ...        86             16\n",
       "1         2       28985  ...        83              4\n",
       "2         2        9327  ...       104             13\n",
       "3         2       45918  ...        19             13\n",
       "4         2       30035  ...        17             13\n",
       "\n",
       "[5 rows x 11 columns]"
      ]
     },
     "execution_count": 28,
     "metadata": {
      "tags": []
     },
     "output_type": "execute_result"
    }
   ],
   "source": [
    "merged_order_products['prior'].head()"
   ]
  },
  {
   "cell_type": "code",
   "execution_count": 0,
   "metadata": {
    "colab": {},
    "colab_type": "code",
    "id": "6j3Hx6MJ0twr"
   },
   "outputs": [],
   "source": [
    "# Save prior_products to file\n",
    "\n",
    "merged_order_products['prior'].to_csv(interim_outpath+'prior_products.final.gz', \n",
    "\tindex=False, \n",
    "\tcompression='gzip', \n",
    "\tchunksize=1000)"
   ]
  },
  {
   "cell_type": "code",
   "execution_count": 30,
   "metadata": {
    "colab": {
     "base_uri": "https://localhost:8080/",
     "height": 289
    },
    "colab_type": "code",
    "executionInfo": {
     "elapsed": 335555,
     "status": "ok",
     "timestamp": 1563927556661,
     "user": {
      "displayName": "Mai Anh Ly",
      "photoUrl": "",
      "userId": "13204928062056036662"
     },
     "user_tz": -600
    },
    "id": "wVv9oM8d1F-3",
    "outputId": "a447f7b8-6c1d-436d-e418-4f369f506145"
   },
   "outputs": [
    {
     "name": "stdout",
     "output_type": "stream",
     "text": [
      "<class 'pandas.core.frame.DataFrame'>\n",
      "Int64Index: 1384617 entries, 0 to 1384616\n",
      "Data columns (total 11 columns):\n",
      "order_id                  1384617 non-null int32\n",
      "product_id                1384617 non-null int32\n",
      "add_to_cart_order         1384617 non-null int8\n",
      "reordered                 1384617 non-null int8\n",
      "user_id                   1384617 non-null int32\n",
      "order_number              1384617 non-null int32\n",
      "order_dow                 1384617 non-null int8\n",
      "order_hour_of_day         1384617 non-null int8\n",
      "days_since_prior_order    1384617 non-null float16\n",
      "aisle_id                  1384617 non-null int32\n",
      "department_id             1384617 non-null int32\n",
      "dtypes: float16(1), int32(6), int8(4)\n",
      "memory usage: 50.2 MB\n"
     ]
    }
   ],
   "source": [
    "# Check info on training set\n",
    "\n",
    "merged_order_products['train'].info()"
   ]
  },
  {
   "cell_type": "code",
   "execution_count": 31,
   "metadata": {
    "colab": {
     "base_uri": "https://localhost:8080/",
     "height": 204
    },
    "colab_type": "code",
    "executionInfo": {
     "elapsed": 334488,
     "status": "ok",
     "timestamp": 1563927556663,
     "user": {
      "displayName": "Mai Anh Ly",
      "photoUrl": "",
      "userId": "13204928062056036662"
     },
     "user_tz": -600
    },
    "id": "JVCuN9mq260p",
    "outputId": "2b5ad1fb-f557-4792-ee7e-b5cea7a38178"
   },
   "outputs": [
    {
     "data": {
      "text/html": [
       "<div>\n",
       "<style scoped>\n",
       "    .dataframe tbody tr th:only-of-type {\n",
       "        vertical-align: middle;\n",
       "    }\n",
       "\n",
       "    .dataframe tbody tr th {\n",
       "        vertical-align: top;\n",
       "    }\n",
       "\n",
       "    .dataframe thead th {\n",
       "        text-align: right;\n",
       "    }\n",
       "</style>\n",
       "<table border=\"1\" class=\"dataframe\">\n",
       "  <thead>\n",
       "    <tr style=\"text-align: right;\">\n",
       "      <th></th>\n",
       "      <th>order_id</th>\n",
       "      <th>product_id</th>\n",
       "      <th>add_to_cart_order</th>\n",
       "      <th>reordered</th>\n",
       "      <th>user_id</th>\n",
       "      <th>order_number</th>\n",
       "      <th>order_dow</th>\n",
       "      <th>order_hour_of_day</th>\n",
       "      <th>days_since_prior_order</th>\n",
       "      <th>aisle_id</th>\n",
       "      <th>department_id</th>\n",
       "    </tr>\n",
       "  </thead>\n",
       "  <tbody>\n",
       "    <tr>\n",
       "      <th>0</th>\n",
       "      <td>2</td>\n",
       "      <td>33120</td>\n",
       "      <td>1</td>\n",
       "      <td>1</td>\n",
       "      <td>202279</td>\n",
       "      <td>3</td>\n",
       "      <td>5</td>\n",
       "      <td>9</td>\n",
       "      <td>8.0</td>\n",
       "      <td>86</td>\n",
       "      <td>16</td>\n",
       "    </tr>\n",
       "    <tr>\n",
       "      <th>1</th>\n",
       "      <td>2</td>\n",
       "      <td>28985</td>\n",
       "      <td>2</td>\n",
       "      <td>1</td>\n",
       "      <td>202279</td>\n",
       "      <td>3</td>\n",
       "      <td>5</td>\n",
       "      <td>9</td>\n",
       "      <td>8.0</td>\n",
       "      <td>83</td>\n",
       "      <td>4</td>\n",
       "    </tr>\n",
       "    <tr>\n",
       "      <th>2</th>\n",
       "      <td>2</td>\n",
       "      <td>9327</td>\n",
       "      <td>3</td>\n",
       "      <td>0</td>\n",
       "      <td>202279</td>\n",
       "      <td>3</td>\n",
       "      <td>5</td>\n",
       "      <td>9</td>\n",
       "      <td>8.0</td>\n",
       "      <td>104</td>\n",
       "      <td>13</td>\n",
       "    </tr>\n",
       "    <tr>\n",
       "      <th>3</th>\n",
       "      <td>2</td>\n",
       "      <td>45918</td>\n",
       "      <td>4</td>\n",
       "      <td>1</td>\n",
       "      <td>202279</td>\n",
       "      <td>3</td>\n",
       "      <td>5</td>\n",
       "      <td>9</td>\n",
       "      <td>8.0</td>\n",
       "      <td>19</td>\n",
       "      <td>13</td>\n",
       "    </tr>\n",
       "    <tr>\n",
       "      <th>4</th>\n",
       "      <td>2</td>\n",
       "      <td>30035</td>\n",
       "      <td>5</td>\n",
       "      <td>0</td>\n",
       "      <td>202279</td>\n",
       "      <td>3</td>\n",
       "      <td>5</td>\n",
       "      <td>9</td>\n",
       "      <td>8.0</td>\n",
       "      <td>17</td>\n",
       "      <td>13</td>\n",
       "    </tr>\n",
       "  </tbody>\n",
       "</table>\n",
       "</div>"
      ],
      "text/plain": [
       "   order_id  product_id  ...  aisle_id  department_id\n",
       "0         2       33120  ...        86             16\n",
       "1         2       28985  ...        83              4\n",
       "2         2        9327  ...       104             13\n",
       "3         2       45918  ...        19             13\n",
       "4         2       30035  ...        17             13\n",
       "\n",
       "[5 rows x 11 columns]"
      ]
     },
     "execution_count": 31,
     "metadata": {
      "tags": []
     },
     "output_type": "execute_result"
    }
   ],
   "source": [
    "merged_order_products['prior'].head()"
   ]
  },
  {
   "cell_type": "code",
   "execution_count": 0,
   "metadata": {
    "colab": {},
    "colab_type": "code",
    "id": "iSTXR3f80yOn"
   },
   "outputs": [],
   "source": [
    "# Save training set to file\n",
    "\n",
    "merged_order_products['train'].to_csv('../data/training/train_products.final.gz', \n",
    "\tindex=False, \n",
    "\tcompression='gzip', \n",
    "\tchunksize=1000)    "
   ]
  },
  {
   "cell_type": "markdown",
   "metadata": {
    "colab_type": "text",
    "id": "3l0qwBFw3JZJ"
   },
   "source": [
    "## Summary\n",
    "\n",
    "- The tables `all_products` and `prior_products` have been created and saved as zipped files in the `interim` directory within the Instacart project `data` folder. \n",
    "- The `training` table has ben saved as a `.csv` file in the `training` directory within the Instacart project `data` folder.\n",
    "\n",
    "## Next steps\n",
    "\n",
    "- Create user, order and product-based features based on user ordering history"
   ]
  }
 ],
 "metadata": {
  "accelerator": "GPU",
  "colab": {
   "name": "FINAL-01-make_prior_and_training_datasets.ipynb",
   "provenance": [],
   "version": "0.3.2"
  },
  "kernelspec": {
   "display_name": "Python [default]",
   "language": "python",
   "name": "python3"
  },
  "language_info": {
   "codemirror_mode": {
    "name": "ipython",
    "version": 3
   },
   "file_extension": ".py",
   "mimetype": "text/x-python",
   "name": "python",
   "nbconvert_exporter": "python",
   "pygments_lexer": "ipython3",
   "version": "3.6.8"
  },
  "toc": {
   "nav_menu": {},
   "number_sections": true,
   "sideBar": true,
   "skip_h1_title": true,
   "title_cell": "Table of Contents",
   "title_sidebar": "Contents",
   "toc_cell": true,
   "toc_position": {},
   "toc_section_display": true,
   "toc_window_display": false
  }
 },
 "nbformat": 4,
 "nbformat_minor": 1
}
