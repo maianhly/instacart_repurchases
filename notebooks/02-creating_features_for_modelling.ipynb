{
 "cells": [
  {
   "cell_type": "markdown",
   "metadata": {
    "toc": true
   },
   "source": [
    "<h1>Table of Contents<span class=\"tocSkip\"></span></h1>\n",
    "<div class=\"toc\"><ul class=\"toc-item\"><li><span><a href=\"#Feature-creation-and-engineering-outline\" data-toc-modified-id=\"Feature-creation-and-engineering-outline-1\"><span class=\"toc-item-num\">1&nbsp;&nbsp;</span>Feature creation and engineering outline</a></span></li><li><span><a href=\"#Mount-Google-Drive-to-Colab-notebook\" data-toc-modified-id=\"Mount-Google-Drive-to-Colab-notebook-2\"><span class=\"toc-item-num\">2&nbsp;&nbsp;</span>Mount Google Drive to Colab notebook</a></span></li><li><span><a href=\"#Import-requirements\" data-toc-modified-id=\"Import-requirements-3\"><span class=\"toc-item-num\">3&nbsp;&nbsp;</span>Import requirements</a></span></li><li><span><a href=\"#Define-dictionaries-for-DataFrame-datatype-casting\" data-toc-modified-id=\"Define-dictionaries-for-DataFrame-datatype-casting-4\"><span class=\"toc-item-num\">4&nbsp;&nbsp;</span>Define dictionaries for DataFrame datatype casting</a></span></li><li><span><a href=\"#Define-functions-for-feature-engineering\" data-toc-modified-id=\"Define-functions-for-feature-engineering-5\"><span class=\"toc-item-num\">5&nbsp;&nbsp;</span>Define functions for feature engineering</a></span></li><li><span><a href=\"#Import-prior_products-and-all_products-tables\" data-toc-modified-id=\"Import-prior_products-and-all_products-tables-6\"><span class=\"toc-item-num\">6&nbsp;&nbsp;</span>Import <code>prior_products</code> and <code>all_products</code> tables</a></span></li><li><span><a href=\"#Subset-prior_products-to-contain-reordered-products-only\" data-toc-modified-id=\"Subset-prior_products-to-contain-reordered-products-only-7\"><span class=\"toc-item-num\">7&nbsp;&nbsp;</span>Subset <code>prior_products</code> to contain reordered products only</a></span></li><li><span><a href=\"#User-X-order-based-features\" data-toc-modified-id=\"User-X-order-based-features-8\"><span class=\"toc-item-num\">8&nbsp;&nbsp;</span>User X order-based features</a></span><ul class=\"toc-item\"><li><span><a href=\"#Find-number-of-orders-per-user\" data-toc-modified-id=\"Find-number-of-orders-per-user-8.1\"><span class=\"toc-item-num\">8.1&nbsp;&nbsp;</span>Find number of orders per user</a></span></li><li><span><a href=\"#Find-number-of-orders-with-reordered-product-per-user\" data-toc-modified-id=\"Find-number-of-orders-with-reordered-product-per-user-8.2\"><span class=\"toc-item-num\">8.2&nbsp;&nbsp;</span>Find number of orders with reordered product per user</a></span></li><li><span><a href=\"#Find-number-of-products-ordered-per-user\" data-toc-modified-id=\"Find-number-of-products-ordered-per-user-8.3\"><span class=\"toc-item-num\">8.3&nbsp;&nbsp;</span>Find number of products ordered per user</a></span></li><li><span><a href=\"#Find-number-of-reordered-products-by-user\" data-toc-modified-id=\"Find-number-of-reordered-products-by-user-8.4\"><span class=\"toc-item-num\">8.4&nbsp;&nbsp;</span>Find number of reordered products by user</a></span></li><li><span><a href=\"#Find-mean-cart-size-per-user\" data-toc-modified-id=\"Find-mean-cart-size-per-user-8.5\"><span class=\"toc-item-num\">8.5&nbsp;&nbsp;</span>Find mean cart size per user</a></span></li><li><span><a href=\"#Find-mean-days-between-orders\" data-toc-modified-id=\"Find-mean-days-between-orders-8.6\"><span class=\"toc-item-num\">8.6&nbsp;&nbsp;</span>Find mean days between orders</a></span></li><li><span><a href=\"#Find-days-since-last-order\" data-toc-modified-id=\"Find-days-since-last-order-8.7\"><span class=\"toc-item-num\">8.7&nbsp;&nbsp;</span>Find days since last order</a></span></li><li><span><a href=\"#Find-most-frequent-weekday-user-made-order\" data-toc-modified-id=\"Find-most-frequent-weekday-user-made-order-8.8\"><span class=\"toc-item-num\">8.8&nbsp;&nbsp;</span>Find most frequent weekday user made order</a></span></li><li><span><a href=\"#Find-mean-hour-of-order-by-user\" data-toc-modified-id=\"Find-mean-hour-of-order-by-user-8.9\"><span class=\"toc-item-num\">8.9&nbsp;&nbsp;</span>Find mean hour of order by user</a></span></li><li><span><a href=\"#Create-user-order-history\" data-toc-modified-id=\"Create-user-order-history-8.10\"><span class=\"toc-item-num\">8.10&nbsp;&nbsp;</span>Create user order history</a></span></li></ul></li><li><span><a href=\"#User-X-order-based-features-(last-3-orders)\" data-toc-modified-id=\"User-X-order-based-features-(last-3-orders)-9\"><span class=\"toc-item-num\">9&nbsp;&nbsp;</span>User X order based features (last 3 orders)</a></span><ul class=\"toc-item\"><li><span><a href=\"#Find-number-and-%-of-repurchased-items-per-order-and-subset-to-last-3-orders\" data-toc-modified-id=\"Find-number-and-%-of-repurchased-items-per-order-and-subset-to-last-3-orders-9.1\"><span class=\"toc-item-num\">9.1&nbsp;&nbsp;</span>Find number and % of repurchased items per order and subset to last 3 orders</a></span></li></ul></li><li><span><a href=\"#User-X-product-based-features\" data-toc-modified-id=\"User-X-product-based-features-10\"><span class=\"toc-item-num\">10&nbsp;&nbsp;</span>User X product-based features</a></span><ul class=\"toc-item\"><li><span><a href=\"#Find-most-popular-reordered-products-by-user\" data-toc-modified-id=\"Find-most-popular-reordered-products-by-user-10.1\"><span class=\"toc-item-num\">10.1&nbsp;&nbsp;</span>Find most popular reordered products by user</a></span></li><li><span><a href=\"#Find-most-popular-reordered-aisles-by-user\" data-toc-modified-id=\"Find-most-popular-reordered-aisles-by-user-10.2\"><span class=\"toc-item-num\">10.2&nbsp;&nbsp;</span>Find most popular reordered aisles by user</a></span></li><li><span><a href=\"#Find-most-popular-reordered-departments-by-customer\" data-toc-modified-id=\"Find-most-popular-reordered-departments-by-customer-10.3\"><span class=\"toc-item-num\">10.3&nbsp;&nbsp;</span>Find most popular reordered departments by customer</a></span></li><li><span><a href=\"#Conclusions-from-analysis\" data-toc-modified-id=\"Conclusions-from-analysis-10.4\"><span class=\"toc-item-num\">10.4&nbsp;&nbsp;</span>Conclusions from analysis</a></span></li><li><span><a href=\"#Create-features-describing-user-purchases-by-department\" data-toc-modified-id=\"Create-features-describing-user-purchases-by-department-10.5\"><span class=\"toc-item-num\">10.5&nbsp;&nbsp;</span>Create features describing user purchases by department</a></span></li></ul></li><li><span><a href=\"#Create-features-describing-purchases-of-speciality-items-by-user\" data-toc-modified-id=\"Create-features-describing-purchases-of-speciality-items-by-user-11\"><span class=\"toc-item-num\">11&nbsp;&nbsp;</span>Create features describing purchases of speciality items by user</a></span></li><li><span><a href=\"#Import-training\" data-toc-modified-id=\"Import-training-12\"><span class=\"toc-item-num\">12&nbsp;&nbsp;</span>Import <code>training</code></a></span></li><li><span><a href=\"#Merge-training-and-user_order_history\" data-toc-modified-id=\"Merge-training-and-user_order_history-13\"><span class=\"toc-item-num\">13&nbsp;&nbsp;</span>Merge <code>training</code> and <code>user_order_history</code></a></span></li><li><span><a href=\"#Merge-training_2-and-times_ordered_from_aisle\" data-toc-modified-id=\"Merge-training_2-and-times_ordered_from_aisle-14\"><span class=\"toc-item-num\">14&nbsp;&nbsp;</span>Merge <code>training_2</code> and <code>times_ordered_from_aisle</code></a></span></li><li><span><a href=\"#Summary\" data-toc-modified-id=\"Summary-15\"><span class=\"toc-item-num\">15&nbsp;&nbsp;</span>Summary</a></span></li></ul></div>"
   ]
  },
  {
   "cell_type": "markdown",
   "metadata": {
    "colab_type": "text",
    "id": "AJF9gy_84vLp"
   },
   "source": [
    "# Creating features for Instacart user repurchasing predictions\n",
    "\n",
    "Previously, the Instacart data was cleaned to create three tables: \n",
    "\n",
    "- `all_products`: A merged table containing all products in the Instacart dataset, including their aisles and department groups/id numbers \n",
    "- `prior_products`: A table containing ordering and product data on all user orders except for each user's latest \n",
    "- `training`: A table containing ordering and product data on the latest order made by all users\n",
    "\n",
    "In order to create features that may be userful predictors of user repurchases, we will use the `prior_products` and `all_products` table to create a user-indexed ordering history. We can then use each user's ordering history to engineer features describing their ordering behaviour and preferences.\n",
    "\n",
    "## Feature creation and engineering outline\n",
    "\n",
    "1. Create user X order -based features based on all user's prior orders\n",
    "2. Create user X order -based features based on user's last 3 orders\n",
    "3. Create user X product -based features\n",
    "4. Merge new features with `training` dataset\n",
    "  \n",
    "\n"
   ]
  },
  {
   "cell_type": "markdown",
   "metadata": {
    "colab_type": "text",
    "id": "Y8UaJtGP7SsC"
   },
   "source": [
    "## Mount Google Drive to Colab notebook\n",
    "\n",
    "Uncomment if running in Google Colab"
   ]
  },
  {
   "cell_type": "code",
   "execution_count": 1,
   "metadata": {
    "colab": {
     "base_uri": "https://localhost:8080/",
     "height": 139
    },
    "colab_type": "code",
    "executionInfo": {
     "elapsed": 40126,
     "status": "ok",
     "timestamp": 1564367994059,
     "user": {
      "displayName": "Mai Anh Ly",
      "photoUrl": "",
      "userId": "13204928062056036662"
     },
     "user_tz": -600
    },
    "id": "P6P0LwS24nyp",
    "outputId": "a3a0736c-0003-4b5f-c59d-e49a3c92e7af"
   },
   "outputs": [
    {
     "name": "stdout",
     "output_type": "stream",
     "text": [
      "Go to this URL in a browser: https://accounts.google.com/o/oauth2/auth?client_id=947318989803-6bn6qk8qdgf4n4g3pfee6491hc0brc4i.apps.googleusercontent.com&redirect_uri=urn%3Aietf%3Awg%3Aoauth%3A2.0%3Aoob&scope=email%20https%3A%2F%2Fwww.googleapis.com%2Fauth%2Fdocs.test%20https%3A%2F%2Fwww.googleapis.com%2Fauth%2Fdrive%20https%3A%2F%2Fwww.googleapis.com%2Fauth%2Fdrive.photos.readonly%20https%3A%2F%2Fwww.googleapis.com%2Fauth%2Fpeopleapi.readonly&response_type=code\n",
      "\n",
      "Enter your authorization code:\n",
      "··········\n",
      "Mounted at /content/drive\n",
      "/content/drive/My Drive/datsci/instacart/notebooks\n"
     ]
    }
   ],
   "source": [
    "## Mount Google Drive to Colab VM \n",
    "\n",
    "#import sys\n",
    "#from google.colab import drive\n",
    "\n",
    "#drive.mount('/content/drive', force_remount=True)\n",
    "\n",
    "## change directory to Google Drive filepath for Instacart project notebook directory \n",
    "\n",
    "#%cd \"/content/drive/My Drive/datsci/instacart/notebooks\""
   ]
  },
  {
   "cell_type": "markdown",
   "metadata": {
    "colab_type": "text",
    "id": "VGAurV2e7iGN"
   },
   "source": [
    "## Import requirements"
   ]
  },
  {
   "cell_type": "code",
   "execution_count": 0,
   "metadata": {
    "colab": {},
    "colab_type": "code",
    "id": "KbO02EbN7lAG"
   },
   "outputs": [],
   "source": [
    "# Import data manipulation\n",
    "\n",
    "import pandas as pd\n",
    "import numpy as np\n",
    "\n",
    "# Import data viz\n",
    "\n",
    "import seaborn as sns\n",
    "import matplotlib.pyplot as plt"
   ]
  },
  {
   "cell_type": "markdown",
   "metadata": {
    "colab_type": "text",
    "id": "eqXv_9Bv7nF7"
   },
   "source": [
    "## Define dictionaries for DataFrame datatype casting"
   ]
  },
  {
   "cell_type": "code",
   "execution_count": 0,
   "metadata": {
    "colab": {},
    "colab_type": "code",
    "id": "9rU7Cl1J7sNh"
   },
   "outputs": [],
   "source": [
    "# Create one datatype dictionary per table\n",
    "\n",
    "all_products_dtype = {'product_id': 'int32',\n",
    "                      'aisle_id': 'int32',\n",
    "                      'department_id': 'int32',\n",
    "                      'aisle': 'category',\n",
    "                      'department': 'category'}\n",
    "\n",
    "prior_products_dtype = {'order_id': 'int32',\n",
    "                        'product_id': 'int32',\n",
    "                        'user_id': 'int32',\n",
    "                        'add_to_cart_order': 'int8',\n",
    "                        'reordered': 'int8',\n",
    "                        'order_number': 'int32',\n",
    "                        'order_dow': 'int8',\n",
    "                        'order_hour_of_day': 'int8',\n",
    "                        'days_since_prior_order': 'float16',\n",
    "                        'aisle_id': 'int32',\n",
    "                        'department_id': 'int32'}"
   ]
  },
  {
   "cell_type": "code",
   "execution_count": 0,
   "metadata": {
    "colab": {},
    "colab_type": "code",
    "id": "kifGyUle8bAG"
   },
   "outputs": [],
   "source": [
    "# Define directory filepath for interim data files\n",
    "\n",
    "interim_outpath = '../data/interim/'\n",
    "\n",
    "# Define directory filepath for training data files\n",
    "\n",
    "training_outpath = '../data/training/'"
   ]
  },
  {
   "cell_type": "markdown",
   "metadata": {
    "colab_type": "text",
    "id": "uC7LiRux7u5d"
   },
   "source": [
    "## Define functions for feature engineering"
   ]
  },
  {
   "cell_type": "code",
   "execution_count": 0,
   "metadata": {
    "colab": {},
    "colab_type": "code",
    "id": "R0jBeF8Z70Np"
   },
   "outputs": [],
   "source": [
    "def find_mean_items_cat(cat_name, cat_col, prior_orders_df, series_name):\n",
    "    \n",
    "    series = prior_orders_df[prior_orders_df[cat_col] == cat_name].groupby(['user_id', 'order_id'])[cat_col].size().reset_index().groupby('user_id')[cat_col].mean().astype('float32')\n",
    "    series.name = series_name\n",
    "    \n",
    "    return series\n",
    "\n",
    "\n",
    "def find_mean_items_regex(prior_orders, products_df, products_col, pattern, series_name):\n",
    "    \n",
    "    match_ids = products_df[products_df[products_col].str.contains(pattern, regex=True)]['product_id'].to_list()\n",
    "    mean_items_per_order = prior_orders[prior_orders['product_id'].isin(match_ids)].groupby(['user_id', 'order_id'])['product_id'].size().reset_index().groupby('user_id')['product_id'].mean().astype('float32')\n",
    "    mean_items_per_order.name = series_name\n",
    "    \n",
    "    return mean_items_per_order"
   ]
  },
  {
   "cell_type": "markdown",
   "metadata": {
    "colab_type": "text",
    "id": "RrtmtJAl8qkp"
   },
   "source": [
    "## Import `prior_products` and `all_products` tables"
   ]
  },
  {
   "cell_type": "code",
   "execution_count": 6,
   "metadata": {
    "colab": {
     "base_uri": "https://localhost:8080/",
     "height": 204
    },
    "colab_type": "code",
    "executionInfo": {
     "elapsed": 35429,
     "status": "ok",
     "timestamp": 1564368057472,
     "user": {
      "displayName": "Mai Anh Ly",
      "photoUrl": "",
      "userId": "13204928062056036662"
     },
     "user_tz": -600
    },
    "id": "zTaiCbx08vBM",
    "outputId": "67a9acd1-274a-442a-fa02-f4198c5c918c"
   },
   "outputs": [
    {
     "data": {
      "text/html": [
       "<div>\n",
       "<style scoped>\n",
       "    .dataframe tbody tr th:only-of-type {\n",
       "        vertical-align: middle;\n",
       "    }\n",
       "\n",
       "    .dataframe tbody tr th {\n",
       "        vertical-align: top;\n",
       "    }\n",
       "\n",
       "    .dataframe thead th {\n",
       "        text-align: right;\n",
       "    }\n",
       "</style>\n",
       "<table border=\"1\" class=\"dataframe\">\n",
       "  <thead>\n",
       "    <tr style=\"text-align: right;\">\n",
       "      <th></th>\n",
       "      <th>order_id</th>\n",
       "      <th>product_id</th>\n",
       "      <th>add_to_cart_order</th>\n",
       "      <th>reordered</th>\n",
       "      <th>user_id</th>\n",
       "      <th>order_number</th>\n",
       "      <th>order_dow</th>\n",
       "      <th>order_hour_of_day</th>\n",
       "      <th>days_since_prior_order</th>\n",
       "      <th>aisle_id</th>\n",
       "      <th>department_id</th>\n",
       "    </tr>\n",
       "  </thead>\n",
       "  <tbody>\n",
       "    <tr>\n",
       "      <th>0</th>\n",
       "      <td>2</td>\n",
       "      <td>33120</td>\n",
       "      <td>1</td>\n",
       "      <td>1</td>\n",
       "      <td>202279</td>\n",
       "      <td>3</td>\n",
       "      <td>5</td>\n",
       "      <td>9</td>\n",
       "      <td>8.0</td>\n",
       "      <td>86</td>\n",
       "      <td>16</td>\n",
       "    </tr>\n",
       "    <tr>\n",
       "      <th>1</th>\n",
       "      <td>2</td>\n",
       "      <td>28985</td>\n",
       "      <td>2</td>\n",
       "      <td>1</td>\n",
       "      <td>202279</td>\n",
       "      <td>3</td>\n",
       "      <td>5</td>\n",
       "      <td>9</td>\n",
       "      <td>8.0</td>\n",
       "      <td>83</td>\n",
       "      <td>4</td>\n",
       "    </tr>\n",
       "    <tr>\n",
       "      <th>2</th>\n",
       "      <td>2</td>\n",
       "      <td>9327</td>\n",
       "      <td>3</td>\n",
       "      <td>0</td>\n",
       "      <td>202279</td>\n",
       "      <td>3</td>\n",
       "      <td>5</td>\n",
       "      <td>9</td>\n",
       "      <td>8.0</td>\n",
       "      <td>104</td>\n",
       "      <td>13</td>\n",
       "    </tr>\n",
       "    <tr>\n",
       "      <th>3</th>\n",
       "      <td>2</td>\n",
       "      <td>45918</td>\n",
       "      <td>4</td>\n",
       "      <td>1</td>\n",
       "      <td>202279</td>\n",
       "      <td>3</td>\n",
       "      <td>5</td>\n",
       "      <td>9</td>\n",
       "      <td>8.0</td>\n",
       "      <td>19</td>\n",
       "      <td>13</td>\n",
       "    </tr>\n",
       "    <tr>\n",
       "      <th>4</th>\n",
       "      <td>2</td>\n",
       "      <td>30035</td>\n",
       "      <td>5</td>\n",
       "      <td>0</td>\n",
       "      <td>202279</td>\n",
       "      <td>3</td>\n",
       "      <td>5</td>\n",
       "      <td>9</td>\n",
       "      <td>8.0</td>\n",
       "      <td>17</td>\n",
       "      <td>13</td>\n",
       "    </tr>\n",
       "  </tbody>\n",
       "</table>\n",
       "</div>"
      ],
      "text/plain": [
       "   order_id  product_id  ...  aisle_id  department_id\n",
       "0         2       33120  ...        86             16\n",
       "1         2       28985  ...        83              4\n",
       "2         2        9327  ...       104             13\n",
       "3         2       45918  ...        19             13\n",
       "4         2       30035  ...        17             13\n",
       "\n",
       "[5 rows x 11 columns]"
      ]
     },
     "execution_count": 6,
     "metadata": {
      "tags": []
     },
     "output_type": "execute_result"
    }
   ],
   "source": [
    "# Import prior_products\n",
    "\n",
    "prior_products = pd.read_csv(\"../data/interim/prior_products.final.gz\", compression='gzip', low_memory=True, dtype=prior_products_dtype)\n",
    "\n",
    "prior_products.head()"
   ]
  },
  {
   "cell_type": "code",
   "execution_count": 0,
   "metadata": {
    "colab": {},
    "colab_type": "code",
    "id": "Ol3apAb0_Ntn"
   },
   "outputs": [],
   "source": [
    "prior_products.info()"
   ]
  },
  {
   "cell_type": "code",
   "execution_count": 8,
   "metadata": {
    "colab": {
     "base_uri": "https://localhost:8080/",
     "height": 34
    },
    "colab_type": "code",
    "executionInfo": {
     "elapsed": 30045,
     "status": "ok",
     "timestamp": 1564367650627,
     "user": {
      "displayName": "Mai Anh Ly",
      "photoUrl": "",
      "userId": "13204928062056036662"
     },
     "user_tz": -600
    },
    "id": "dI9CgXxQIBjP",
    "outputId": "587a1874-dac6-4c6b-e804-e11ed0ce3848"
   },
   "outputs": [
    {
     "name": "stdout",
     "output_type": "stream",
     "text": [
      "There are 206209 users in the dataset\n"
     ]
    }
   ],
   "source": [
    "# How many users are in the propr_products dataset?\n",
    "\n",
    "print(\"There are {} users in the dataset\".format(prior_products['user_id'].nunique()))"
   ]
  },
  {
   "cell_type": "code",
   "execution_count": 7,
   "metadata": {
    "colab": {
     "base_uri": "https://localhost:8080/",
     "height": 235
    },
    "colab_type": "code",
    "executionInfo": {
     "elapsed": 31600,
     "status": "ok",
     "timestamp": 1564368057476,
     "user": {
      "displayName": "Mai Anh Ly",
      "photoUrl": "",
      "userId": "13204928062056036662"
     },
     "user_tz": -600
    },
    "id": "m-QwRy6-AkjM",
    "outputId": "ad89a635-1dbd-4005-8b27-651fc12bc752"
   },
   "outputs": [
    {
     "data": {
      "text/html": [
       "<div>\n",
       "<style scoped>\n",
       "    .dataframe tbody tr th:only-of-type {\n",
       "        vertical-align: middle;\n",
       "    }\n",
       "\n",
       "    .dataframe tbody tr th {\n",
       "        vertical-align: top;\n",
       "    }\n",
       "\n",
       "    .dataframe thead th {\n",
       "        text-align: right;\n",
       "    }\n",
       "</style>\n",
       "<table border=\"1\" class=\"dataframe\">\n",
       "  <thead>\n",
       "    <tr style=\"text-align: right;\">\n",
       "      <th></th>\n",
       "      <th>product_name</th>\n",
       "      <th>aisle_id</th>\n",
       "      <th>department_id</th>\n",
       "      <th>aisle</th>\n",
       "      <th>department</th>\n",
       "    </tr>\n",
       "    <tr>\n",
       "      <th>product_id</th>\n",
       "      <th></th>\n",
       "      <th></th>\n",
       "      <th></th>\n",
       "      <th></th>\n",
       "      <th></th>\n",
       "    </tr>\n",
       "  </thead>\n",
       "  <tbody>\n",
       "    <tr>\n",
       "      <th>1</th>\n",
       "      <td>Chocolate Sandwich Cookies</td>\n",
       "      <td>61</td>\n",
       "      <td>19</td>\n",
       "      <td>cookies cakes</td>\n",
       "      <td>snacks</td>\n",
       "    </tr>\n",
       "    <tr>\n",
       "      <th>78</th>\n",
       "      <td>Nutter Butter Cookie Bites Go-Pak</td>\n",
       "      <td>61</td>\n",
       "      <td>19</td>\n",
       "      <td>cookies cakes</td>\n",
       "      <td>snacks</td>\n",
       "    </tr>\n",
       "    <tr>\n",
       "      <th>102</th>\n",
       "      <td>Danish Butter Cookies</td>\n",
       "      <td>61</td>\n",
       "      <td>19</td>\n",
       "      <td>cookies cakes</td>\n",
       "      <td>snacks</td>\n",
       "    </tr>\n",
       "    <tr>\n",
       "      <th>172</th>\n",
       "      <td>Gluten Free All Natural Chocolate Chip Cookies</td>\n",
       "      <td>61</td>\n",
       "      <td>19</td>\n",
       "      <td>cookies cakes</td>\n",
       "      <td>snacks</td>\n",
       "    </tr>\n",
       "    <tr>\n",
       "      <th>285</th>\n",
       "      <td>Mini Nilla Wafers Munch Pack</td>\n",
       "      <td>61</td>\n",
       "      <td>19</td>\n",
       "      <td>cookies cakes</td>\n",
       "      <td>snacks</td>\n",
       "    </tr>\n",
       "  </tbody>\n",
       "</table>\n",
       "</div>"
      ],
      "text/plain": [
       "                                              product_name  ...  department\n",
       "product_id                                                  ...            \n",
       "1                               Chocolate Sandwich Cookies  ...      snacks\n",
       "78                       Nutter Butter Cookie Bites Go-Pak  ...      snacks\n",
       "102                                  Danish Butter Cookies  ...      snacks\n",
       "172         Gluten Free All Natural Chocolate Chip Cookies  ...      snacks\n",
       "285                           Mini Nilla Wafers Munch Pack  ...      snacks\n",
       "\n",
       "[5 rows x 5 columns]"
      ]
     },
     "execution_count": 7,
     "metadata": {
      "tags": []
     },
     "output_type": "execute_result"
    }
   ],
   "source": [
    "# Load all_products\n",
    "\n",
    "all_products = pd.read_csv(\"../data/interim/all_products_merge.gz\", low_memory=True, dtype=all_products_dtype).set_index('product_id')\n",
    "\n",
    "# Check \n",
    "\n",
    "all_products.head()"
   ]
  },
  {
   "cell_type": "code",
   "execution_count": 10,
   "metadata": {
    "colab": {
     "base_uri": "https://localhost:8080/",
     "height": 187
    },
    "colab_type": "code",
    "executionInfo": {
     "elapsed": 25905,
     "status": "ok",
     "timestamp": 1564367650629,
     "user": {
      "displayName": "Mai Anh Ly",
      "photoUrl": "",
      "userId": "13204928062056036662"
     },
     "user_tz": -600
    },
    "id": "wHwHauUlBMxA",
    "outputId": "374a1f3d-6014-48db-aad9-ccdbe6520178"
   },
   "outputs": [
    {
     "name": "stdout",
     "output_type": "stream",
     "text": [
      "<class 'pandas.core.frame.DataFrame'>\n",
      "Int64Index: 49688 entries, 1 to 48778\n",
      "Data columns (total 5 columns):\n",
      "product_name     49688 non-null object\n",
      "aisle_id         49688 non-null int32\n",
      "department_id    49688 non-null int32\n",
      "aisle            49688 non-null category\n",
      "department       49688 non-null category\n",
      "dtypes: category(2), int32(2), object(1)\n",
      "memory usage: 1.3+ MB\n"
     ]
    }
   ],
   "source": [
    "all_products.info()"
   ]
  },
  {
   "cell_type": "code",
   "execution_count": 0,
   "metadata": {
    "colab": {},
    "colab_type": "code",
    "id": "ypdVzVjsCwlh"
   },
   "outputs": [],
   "source": [
    "# Create product_id to product_name dictionary\n",
    "\n",
    "product_id_to_name = all_products['product_name'].to_dict()\n",
    "\n",
    "# Create aisle_id to aisle name \n",
    "\n",
    "aisle_id_to_name = dict(zip(all_products['aisle_id'].tolist(), all_products['aisle'].tolist()))\n",
    "\n",
    "# Create department_id to aisle name \n",
    "\n",
    "dep_id_to_name = dict(zip(all_products['department_id'].tolist(), all_products['department'].tolist()))"
   ]
  },
  {
   "cell_type": "markdown",
   "metadata": {
    "colab_type": "text",
    "id": "dd39qHqwDz2K"
   },
   "source": [
    "## Subset `prior_products` to contain reordered products only "
   ]
  },
  {
   "cell_type": "code",
   "execution_count": 0,
   "metadata": {
    "colab": {},
    "colab_type": "code",
    "id": "RhspZpFzD6Qd"
   },
   "outputs": [],
   "source": [
    "# Filter by reordered items\n",
    "\n",
    "prior_reorders = prior_products[prior_products['reordered'] == 1]"
   ]
  },
  {
   "cell_type": "markdown",
   "metadata": {
    "colab_type": "text",
    "id": "Ad5KAcC4RCMU"
   },
   "source": [
    "## User X order-based features\n",
    "\n",
    "Create features that describe a user's ordering behaviour based on all orders in their purchase history"
   ]
  },
  {
   "cell_type": "markdown",
   "metadata": {
    "colab_type": "text",
    "id": "pr1Kd9iuRv7V"
   },
   "source": [
    "### Find number of orders per user"
   ]
  },
  {
   "cell_type": "code",
   "execution_count": 0,
   "metadata": {
    "colab": {
     "base_uri": "https://localhost:8080/",
     "height": 136
    },
    "colab_type": "code",
    "executionInfo": {
     "elapsed": 10578,
     "status": "ok",
     "timestamp": 1563927971578,
     "user": {
      "displayName": "Mai Anh Ly",
      "photoUrl": "",
      "userId": "13204928062056036662"
     },
     "user_tz": -600
    },
    "id": "0J_-65fKRy8g",
    "outputId": "10111152-456d-4995-a433-ef4f408bdcee"
   },
   "outputs": [
    {
     "data": {
      "text/plain": [
       "user_id\n",
       "1    10\n",
       "2    14\n",
       "3    12\n",
       "4     5\n",
       "5     4\n",
       "Name: num_prior_orders, dtype: int32"
      ]
     },
     "execution_count": 23,
     "metadata": {
      "tags": []
     },
     "output_type": "execute_result"
    }
   ],
   "source": [
    "orders_per_user = prior_products.groupby('user_id')['order_id'].nunique().astype('int32')\n",
    "orders_per_user.name = 'num_prior_orders'\n",
    "\n",
    "orders_per_user.head()"
   ]
  },
  {
   "cell_type": "code",
   "execution_count": 0,
   "metadata": {
    "colab": {
     "base_uri": "https://localhost:8080/",
     "height": 392
    },
    "colab_type": "code",
    "executionInfo": {
     "elapsed": 8665,
     "status": "ok",
     "timestamp": 1563927971581,
     "user": {
      "displayName": "Mai Anh Ly",
      "photoUrl": "",
      "userId": "13204928062056036662"
     },
     "user_tz": -600
    },
    "id": "nCZvcH6LSKM_",
    "outputId": "46de8cff-90ad-4b27-f697-b5ecc3aea7c5"
   },
   "outputs": [
    {
     "data": {
      "image/png": "[encoded data removed]",
      "text/plain": [
       "<Figure size 1080x432 with 1 Axes>"
      ]
     },
     "metadata": {
      "tags": []
     },
     "output_type": "display_data"
    }
   ],
   "source": [
    "# Plot distribution of number of orders per user\n",
    "\n",
    "orders_per_user.plot.hist(figsize=(15, 6), \n",
    "                          bins=np.arange(0, 105, 5))\n",
    "plt.xlabel('Num. orders per user')\n",
    "plt.show()"
   ]
  },
  {
   "cell_type": "code",
   "execution_count": 0,
   "metadata": {
    "colab": {
     "base_uri": "https://localhost:8080/",
     "height": 170
    },
    "colab_type": "code",
    "executionInfo": {
     "elapsed": 5716,
     "status": "ok",
     "timestamp": 1563927971822,
     "user": {
      "displayName": "Mai Anh Ly",
      "photoUrl": "",
      "userId": "13204928062056036662"
     },
     "user_tz": -600
    },
    "id": "LZqn0OQYTP6S",
    "outputId": "f3fdb79a-9b0f-498a-fdce-bd8a0eb727b5"
   },
   "outputs": [
    {
     "data": {
      "text/plain": [
       "count    206209.000000\n",
       "mean         15.590367\n",
       "std          16.654774\n",
       "min           3.000000\n",
       "25%           5.000000\n",
       "50%           9.000000\n",
       "75%          19.000000\n",
       "max          99.000000\n",
       "Name: num_prior_orders, dtype: float64"
      ]
     },
     "execution_count": 25,
     "metadata": {
      "tags": []
     },
     "output_type": "execute_result"
    }
   ],
   "source": [
    "# Get descriptive statistics for the distribution of customer orders\n",
    "\n",
    "orders_per_user.describe()"
   ]
  },
  {
   "cell_type": "markdown",
   "metadata": {
    "colab_type": "text",
    "id": "1xS_HYpRS9aC"
   },
   "source": [
    "From the histogram: \n",
    " - The distribution is highly skewed to low values\n",
    " - The majority of users make 3-10 orders. \n",
    " - The number of users who make more than 15 orders is less than the number of users who made less\n",
    " - There are users who have made 90-99 orders"
   ]
  },
  {
   "cell_type": "markdown",
   "metadata": {
    "colab_type": "text",
    "id": "7pjBY7AsWtWj"
   },
   "source": [
    "### Find number of orders with reordered product per user"
   ]
  },
  {
   "cell_type": "code",
   "execution_count": 0,
   "metadata": {
    "colab": {
     "base_uri": "https://localhost:8080/",
     "height": 136
    },
    "colab_type": "code",
    "executionInfo": {
     "elapsed": 9773,
     "status": "ok",
     "timestamp": 1563927977808,
     "user": {
      "displayName": "Mai Anh Ly",
      "photoUrl": "",
      "userId": "13204928062056036662"
     },
     "user_tz": -600
    },
    "id": "26CuNBIQWsWk",
    "outputId": "23c01e9f-c98e-4999-e109-d5c7a07c5ba5"
   },
   "outputs": [
    {
     "data": {
      "text/plain": [
       "user_id\n",
       "1     9\n",
       "2    12\n",
       "3    11\n",
       "4     1\n",
       "5     3\n",
       "Name: num_prior_orders_with_repurchase, dtype: int32"
      ]
     },
     "execution_count": 26,
     "metadata": {
      "tags": []
     },
     "output_type": "execute_result"
    }
   ],
   "source": [
    "# Count number of unique order ids associated with repurchases per user\n",
    "\n",
    "orders_with_repurchase = prior_reorders.groupby('user_id')['order_id'].nunique().astype('int32')\n",
    "orders_with_repurchase.name = 'num_prior_orders_with_repurchase'\n",
    "\n",
    "orders_with_repurchase.head()"
   ]
  },
  {
   "cell_type": "code",
   "execution_count": 0,
   "metadata": {
    "colab": {
     "base_uri": "https://localhost:8080/",
     "height": 34
    },
    "colab_type": "code",
    "executionInfo": {
     "elapsed": 8310,
     "status": "ok",
     "timestamp": 1563927977812,
     "user": {
      "displayName": "Mai Anh Ly",
      "photoUrl": "",
      "userId": "13204928062056036662"
     },
     "user_tz": -600
    },
    "id": "Zxm9YzYBriFj",
    "outputId": "99c2981e-9290-457b-e199-69d9ca70516d"
   },
   "outputs": [
    {
     "name": "stdout",
     "output_type": "stream",
     "text": [
      "Users with order containing a repurchased product: 203164\n"
     ]
    }
   ],
   "source": [
    "# Count number of users who made an order with a repurchased product\n",
    "\n",
    "print(\"Users with order containing a repurchased product: {}\".format(len(orders_with_repurchase)))"
   ]
  },
  {
   "cell_type": "code",
   "execution_count": 0,
   "metadata": {
    "colab": {
     "base_uri": "https://localhost:8080/",
     "height": 34
    },
    "colab_type": "code",
    "executionInfo": {
     "elapsed": 6745,
     "status": "ok",
     "timestamp": 1563927977815,
     "user": {
      "displayName": "Mai Anh Ly",
      "photoUrl": "",
      "userId": "13204928062056036662"
     },
     "user_tz": -600
    },
    "id": "E2RbJuCZvChx",
    "outputId": "da1404c0-8a16-44b5-8297-c7059aefbede"
   },
   "outputs": [
    {
     "name": "stdout",
     "output_type": "stream",
     "text": [
      "Users with no orders containing a repurchased product: 3045\n"
     ]
    }
   ],
   "source": [
    "# Count number of users who made no orders with a repurchased product\n",
    "\n",
    "print(\"Users with no orders containing a repurchased product: {}\".format(prior_products['user_id'].nunique() - len(orders_with_repurchase)))"
   ]
  },
  {
   "cell_type": "markdown",
   "metadata": {
    "colab_type": "text",
    "id": "Bx2wke8tvs5E"
   },
   "source": [
    "There are 3045 users who made no prior orders containing a product they have purchased previously. Adding a feature counting the number of prior orders containing a repurchased item could be a helpful predictor of user ordering behaviour."
   ]
  },
  {
   "cell_type": "markdown",
   "metadata": {
    "colab_type": "text",
    "id": "0OeYwpnNRgHc"
   },
   "source": [
    "### Find number of products ordered per user"
   ]
  },
  {
   "cell_type": "code",
   "execution_count": 0,
   "metadata": {
    "colab": {
     "base_uri": "https://localhost:8080/",
     "height": 136
    },
    "colab_type": "code",
    "executionInfo": {
     "elapsed": 4977,
     "status": "ok",
     "timestamp": 1563927978815,
     "user": {
      "displayName": "Mai Anh Ly",
      "photoUrl": "",
      "userId": "13204928062056036662"
     },
     "user_tz": -600
    },
    "id": "LdZmxYqSRlwE",
    "outputId": "9a4bf71b-9bb9-4e95-9918-bd78bc27a04b"
   },
   "outputs": [
    {
     "data": {
      "text/plain": [
       "user_id\n",
       "1     59\n",
       "2    195\n",
       "3     88\n",
       "4     18\n",
       "5     37\n",
       "Name: total_products_ordered, dtype: int32"
      ]
     },
     "execution_count": 29,
     "metadata": {
      "tags": []
     },
     "output_type": "execute_result"
    }
   ],
   "source": [
    "total_products_by_user = prior_products.groupby('user_id').size().astype('int32')\n",
    "total_products_by_user.name = 'total_products_ordered'\n",
    "\n",
    "total_products_by_user.head()"
   ]
  },
  {
   "cell_type": "markdown",
   "metadata": {
    "colab_type": "text",
    "id": "H8sAOpPiRJ84"
   },
   "source": [
    "### Find number of reordered products by user"
   ]
  },
  {
   "cell_type": "code",
   "execution_count": 0,
   "metadata": {
    "colab": {
     "base_uri": "https://localhost:8080/",
     "height": 136
    },
    "colab_type": "code",
    "executionInfo": {
     "elapsed": 4004,
     "status": "ok",
     "timestamp": 1563927979223,
     "user": {
      "displayName": "Mai Anh Ly",
      "photoUrl": "",
      "userId": "13204928062056036662"
     },
     "user_tz": -600
    },
    "id": "0eH_toJaRFoG",
    "outputId": "8e87ebdc-d47a-4a62-953a-d8228ff886f7"
   },
   "outputs": [
    {
     "data": {
      "text/plain": [
       "user_id\n",
       "1    41\n",
       "2    93\n",
       "3    55\n",
       "4     1\n",
       "5    14\n",
       "Name: total_products_reordered, dtype: int32"
      ]
     },
     "execution_count": 30,
     "metadata": {
      "tags": []
     },
     "output_type": "execute_result"
    }
   ],
   "source": [
    "reorders_by_user = prior_reorders.groupby('user_id').size().astype('int32')\n",
    "reorders_by_user.name = 'total_products_reordered'\n",
    "\n",
    "reorders_by_user.head()"
   ]
  },
  {
   "cell_type": "markdown",
   "metadata": {
    "colab_type": "text",
    "id": "ZdI6LeKAX1HY"
   },
   "source": [
    "### Find mean cart size per user"
   ]
  },
  {
   "cell_type": "code",
   "execution_count": 0,
   "metadata": {
    "colab": {
     "base_uri": "https://localhost:8080/",
     "height": 136
    },
    "colab_type": "code",
    "executionInfo": {
     "elapsed": 6904,
     "status": "ok",
     "timestamp": 1563927983702,
     "user": {
      "displayName": "Mai Anh Ly",
      "photoUrl": "",
      "userId": "13204928062056036662"
     },
     "user_tz": -600
    },
    "id": "d_D3GjB0X3w3",
    "outputId": "0925e718-bba0-496f-a5a9-64b03a103ece"
   },
   "outputs": [
    {
     "data": {
      "text/plain": [
       "user_id\n",
       "1     5.900000\n",
       "2    13.928572\n",
       "3     7.333333\n",
       "4     3.600000\n",
       "5     9.250000\n",
       "Name: mean_cart_size, dtype: float32"
      ]
     },
     "execution_count": 31,
     "metadata": {
      "tags": []
     },
     "output_type": "execute_result"
    }
   ],
   "source": [
    "# Count average cart size per user id\n",
    "\n",
    "cart_size = prior_products.groupby(['user_id', 'order_id'])['add_to_cart_order'].max().reset_index().groupby('user_id')['add_to_cart_order'].mean().astype('float32')\n",
    "cart_size.name = 'mean_cart_size'\n",
    "cart_size.head()"
   ]
  },
  {
   "cell_type": "code",
   "execution_count": 0,
   "metadata": {
    "colab": {
     "base_uri": "https://localhost:8080/",
     "height": 392
    },
    "colab_type": "code",
    "executionInfo": {
     "elapsed": 5477,
     "status": "ok",
     "timestamp": 1563927984068,
     "user": {
      "displayName": "Mai Anh Ly",
      "photoUrl": "",
      "userId": "13204928062056036662"
     },
     "user_tz": -600
    },
    "id": "jf8T5qEez8K-",
    "outputId": "651871b3-f116-40dc-b5df-2a968b326ed3"
   },
   "outputs": [
    {
     "data": {
      "image/png": "[encoded data removed]",
      "text/plain": [
       "<Figure size 1080x432 with 1 Axes>"
      ]
     },
     "metadata": {
      "tags": []
     },
     "output_type": "display_data"
    }
   ],
   "source": [
    "cart_size.plot.hist(figsize=(15, 6), bins=np.arange(0, 75, 5))\n",
    "plt.xlabel('Mean cart size')\n",
    "plt.show()"
   ]
  },
  {
   "cell_type": "markdown",
   "metadata": {
    "colab_type": "text",
    "id": "JrsSKWb_2Rwo"
   },
   "source": [
    "__Mean cart size__ (or mean products per order) is highly skewed with a long right tail. It seems that most users order a mean of 5-10 products at a time. "
   ]
  },
  {
   "cell_type": "markdown",
   "metadata": {
    "colab_type": "text",
    "id": "_pcmmrw3YrNH"
   },
   "source": [
    "### Find mean days between orders"
   ]
  },
  {
   "cell_type": "code",
   "execution_count": 0,
   "metadata": {
    "colab": {
     "base_uri": "https://localhost:8080/",
     "height": 136
    },
    "colab_type": "code",
    "executionInfo": {
     "elapsed": 11072,
     "status": "ok",
     "timestamp": 1563927991854,
     "user": {
      "displayName": "Mai Anh Ly",
      "photoUrl": "",
      "userId": "13204928062056036662"
     },
     "user_tz": -600
    },
    "id": "roDXJhtPYqpk",
    "outputId": "72fb880f-91f8-429b-a8a6-25758a9e69fc"
   },
   "outputs": [
    {
     "data": {
      "text/plain": [
       "user_id\n",
       "1    19.562500\n",
       "2    15.234375\n",
       "3    12.093750\n",
       "4    13.750000\n",
       "5    13.335938\n",
       "Name: mean_days_between_orders, dtype: float32"
      ]
     },
     "execution_count": 33,
     "metadata": {
      "tags": []
     },
     "output_type": "execute_result"
    }
   ],
   "source": [
    "# Get orders after first\n",
    "\n",
    "orders_after_first = prior_products[prior_products['order_number'] > 1]\n",
    "\n",
    "# Get summary stats for days since prior order\n",
    "\n",
    "order_freq_after_first = orders_after_first.groupby(['user_id', 'order_id'])['days_since_prior_order'].max().reset_index()\\\n",
    "                         .groupby('user_id')['days_since_prior_order'].mean().astype('float32')\n",
    "\n",
    "order_freq_after_first.name = 'mean_days_between_orders'\n",
    "\n",
    "order_freq_after_first.head()"
   ]
  },
  {
   "cell_type": "code",
   "execution_count": 0,
   "metadata": {
    "colab": {
     "base_uri": "https://localhost:8080/",
     "height": 170
    },
    "colab_type": "code",
    "executionInfo": {
     "elapsed": 9127,
     "status": "ok",
     "timestamp": 1563927991856,
     "user": {
      "displayName": "Mai Anh Ly",
      "photoUrl": "",
      "userId": "13204928062056036662"
     },
     "user_tz": -600
    },
    "id": "sSCncdrz3VE3",
    "outputId": "ceebd752-29a2-449a-a0dd-b967450f3cdc"
   },
   "outputs": [
    {
     "data": {
      "text/plain": [
       "count    206209.000000\n",
       "mean         15.209417\n",
       "std           7.105550\n",
       "min           0.000000\n",
       "25%           9.414062\n",
       "50%          14.500000\n",
       "75%          20.281250\n",
       "max          30.000000\n",
       "Name: mean_days_between_orders, dtype: float64"
      ]
     },
     "execution_count": 34,
     "metadata": {
      "tags": []
     },
     "output_type": "execute_result"
    }
   ],
   "source": [
    "order_freq_after_first.describe()"
   ]
  },
  {
   "cell_type": "code",
   "execution_count": 0,
   "metadata": {
    "colab": {
     "base_uri": "https://localhost:8080/",
     "height": 392
    },
    "colab_type": "code",
    "executionInfo": {
     "elapsed": 7440,
     "status": "ok",
     "timestamp": 1563927991857,
     "user": {
      "displayName": "Mai Anh Ly",
      "photoUrl": "",
      "userId": "13204928062056036662"
     },
     "user_tz": -600
    },
    "id": "3XuEJGlcZDuG",
    "outputId": "1e0c437b-75bb-4b70-b691-b13d9d79c28e"
   },
   "outputs": [
    {
     "data": {
      "image/png": "[encoded data removed]",
      "text/plain": [
       "<Figure size 1080x432 with 1 Axes>"
      ]
     },
     "metadata": {
      "tags": []
     },
     "output_type": "display_data"
    }
   ],
   "source": [
    "order_freq_after_first.plot.hist(figsize=(15, 6), bins=30, edgecolor='white', linewidth=1.5)\n",
    "plt.xticks([0, 7, 14, 28, 30])\n",
    "plt.xlabel('Mean days between orders')\n",
    "plt.show()"
   ]
  },
  {
   "cell_type": "markdown",
   "metadata": {
    "colab_type": "text",
    "id": "PxjIg2ZQ3ZOH"
   },
   "source": [
    "From the histogram of __mean days between orders__, it appears that the amount of users who make weekly orders is approximately equal to the amount of users who make monthly orders. "
   ]
  },
  {
   "cell_type": "markdown",
   "metadata": {
    "colab_type": "text",
    "id": "zikWJraIeHp2"
   },
   "source": [
    "### Find days since last order"
   ]
  },
  {
   "cell_type": "code",
   "execution_count": 0,
   "metadata": {
    "colab": {},
    "colab_type": "code",
    "id": "dIZ7gn19aedR"
   },
   "outputs": [],
   "source": [
    "# Find user's last order in prior_products and save as dictionary\n",
    "\n",
    "last_order_num = prior_products.reset_index().groupby(['user_id'])['order_number'].max().to_dict()\n",
    "\n",
    "# Add highest order number per user_id as column\n",
    "\n",
    "prior_products['last_order_num'] = prior_products['user_id'].map(last_order_num)\n",
    "\n",
    "# Filter for all rows where order_number == user's last order\n",
    "\n",
    "last_order = prior_products[prior_products['order_number'] == prior_products['last_order_num']]\n",
    "\n",
    "# Filter unique rows of user id, order id, order number and days_since_prior_order \n",
    "\n",
    "last_order = last_order[['order_id', 'user_id', 'order_number', 'days_since_prior_order']].drop_duplicates().sort_values('user_id')\n",
    "\n",
    "# Create dictionary where user id are keys and days since prior order (now last order) are values\n",
    "\n",
    "last_order_dict = dict(zip(last_order['user_id'], last_order['days_since_prior_order']))"
   ]
  },
  {
   "cell_type": "markdown",
   "metadata": {
    "colab_type": "text",
    "id": "mvaBHDK6m34S"
   },
   "source": [
    "### Find most frequent weekday user made order"
   ]
  },
  {
   "cell_type": "code",
   "execution_count": 0,
   "metadata": {
    "colab": {
     "base_uri": "https://localhost:8080/",
     "height": 136
    },
    "colab_type": "code",
    "executionInfo": {
     "elapsed": 206188,
     "status": "ok",
     "timestamp": 1563928194962,
     "user": {
      "displayName": "Mai Anh Ly",
      "photoUrl": "",
      "userId": "13204928062056036662"
     },
     "user_tz": -600
    },
    "id": "AqdJBhdnm-T8",
    "outputId": "5f9b65a2-2ffc-4f58-948c-11c3a82b199c"
   },
   "outputs": [
    {
     "data": {
      "text/plain": [
       "user_id\n",
       "1    4\n",
       "2    2\n",
       "3    0\n",
       "4    5\n",
       "5    3\n",
       "Name: most_freq_dow, dtype: int8"
      ]
     },
     "execution_count": 37,
     "metadata": {
      "tags": []
     },
     "output_type": "execute_result"
    }
   ],
   "source": [
    "most_freq_dow = prior_products.groupby(['user_id', 'order_id'])['order_dow']\\\n",
    "                    .nth(0)\\\n",
    "                    .reset_index()\\\n",
    "                    .groupby(['user_id'])['order_dow']\\\n",
    "                    .apply(lambda x: x.value_counts().index[0]).astype('int8')\n",
    "\n",
    "most_freq_dow.name = 'most_freq_dow'\n",
    "most_freq_dow.head()"
   ]
  },
  {
   "cell_type": "code",
   "execution_count": 0,
   "metadata": {
    "colab": {
     "base_uri": "https://localhost:8080/",
     "height": 392
    },
    "colab_type": "code",
    "executionInfo": {
     "elapsed": 204362,
     "status": "ok",
     "timestamp": 1563928194965,
     "user": {
      "displayName": "Mai Anh Ly",
      "photoUrl": "",
      "userId": "13204928062056036662"
     },
     "user_tz": -600
    },
    "id": "_XJP8N2737t5",
    "outputId": "ba8757c3-7539-43c9-b68e-01762254016b"
   },
   "outputs": [
    {
     "data": {
      "image/png": "[encoded data removed]",
      "text/plain": [
       "<Figure size 720x432 with 1 Axes>"
      ]
     },
     "metadata": {
      "tags": []
     },
     "output_type": "display_data"
    }
   ],
   "source": [
    "# Plot most frequent day of ordering per user\n",
    "\n",
    "most_freq_dow.value_counts().sort_index().plot.bar(figsize=(10, 6))\n",
    "plt.xticks(rotation=0)\n",
    "plt.xlabel('Most frequent ordering day of week')\n",
    "plt.ylabel('Customers')\n",
    "plt.show()"
   ]
  },
  {
   "cell_type": "markdown",
   "metadata": {
    "colab_type": "text",
    "id": "34Qv6G6z4VyA"
   },
   "source": [
    "Most users frequently make an order on day 0 or day 6, with days 2 and 4 being the least frequent days where orders are submitted. There is no indication in the Instacart data dictionary what day of the week corresponds with which number, so it cannot be confirmed if Sunday or Monday is day 0.   "
   ]
  },
  {
   "cell_type": "markdown",
   "metadata": {
    "colab_type": "text",
    "id": "-rM_a3JAiOFT"
   },
   "source": [
    "### Find mean hour of order by user"
   ]
  },
  {
   "cell_type": "code",
   "execution_count": 0,
   "metadata": {
    "colab": {
     "base_uri": "https://localhost:8080/",
     "height": 136
    },
    "colab_type": "code",
    "executionInfo": {
     "elapsed": 131201,
     "status": "ok",
     "timestamp": 1563928207325,
     "user": {
      "displayName": "Mai Anh Ly",
      "photoUrl": "",
      "userId": "13204928062056036662"
     },
     "user_tz": -600
    },
    "id": "mdwrEedeiWxU",
    "outputId": "f4452001-f0fe-4e35-e005-c62ed171a6cc"
   },
   "outputs": [
    {
     "data": {
      "text/plain": [
       "user_id\n",
       "1    10.300000\n",
       "2    10.571428\n",
       "3    16.416666\n",
       "4    12.600000\n",
       "5    16.000000\n",
       "Name: mean_hour_order, dtype: float32"
      ]
     },
     "execution_count": 39,
     "metadata": {
      "tags": []
     },
     "output_type": "execute_result"
    }
   ],
   "source": [
    "mean_hour_order = prior_products.groupby(['user_id', 'order_id'])['order_hour_of_day']\\\n",
    "                      .nth(0)\\\n",
    "                      .reset_index()\\\n",
    "                      .groupby(['user_id'])['order_hour_of_day']\\\n",
    "                      .mean()\\\n",
    "                      .astype('float32')\n",
    "\n",
    "mean_hour_order.name = 'mean_hour_order'\n",
    "\n",
    "mean_hour_order.head()"
   ]
  },
  {
   "cell_type": "code",
   "execution_count": 0,
   "metadata": {
    "colab": {
     "base_uri": "https://localhost:8080/",
     "height": 392
    },
    "colab_type": "code",
    "executionInfo": {
     "elapsed": 129630,
     "status": "ok",
     "timestamp": 1563928207329,
     "user": {
      "displayName": "Mai Anh Ly",
      "photoUrl": "",
      "userId": "13204928062056036662"
     },
     "user_tz": -600
    },
    "id": "stNFYYnX6__W",
    "outputId": "54fe2f60-2ff7-476c-87e0-b97bbe03e777"
   },
   "outputs": [
    {
     "data": {
      "image/png": "[encoded data removed]",
      "text/plain": [
       "<Figure size 1080x432 with 1 Axes>"
      ]
     },
     "metadata": {
      "tags": []
     },
     "output_type": "display_data"
    }
   ],
   "source": [
    "# Plot mean hour of ordering per user\n",
    "\n",
    "mean_hour_order.plot.hist(figsize=(15, 6), bins=np.arange(0, 25, 1), edgecolor='white', linewidth=1.5)\n",
    "plt.xticks([0, 6, 12, 18, 24])\n",
    "plt.xlabel('Mean hour order is placed')\n",
    "plt.show()"
   ]
  },
  {
   "cell_type": "markdown",
   "metadata": {
    "colab_type": "text",
    "id": "CI7nzFIC7WX5"
   },
   "source": [
    "From the histogram above, most users place their orders in the afternoon between 12-3 PM, and there is very little ordering activity between 9 PM to 6 AM."
   ]
  },
  {
   "cell_type": "markdown",
   "metadata": {
    "colab_type": "text",
    "id": "38Tc2BGwiMCj"
   },
   "source": [
    "### Create user order history"
   ]
  },
  {
   "cell_type": "code",
   "execution_count": 0,
   "metadata": {
    "colab": {},
    "colab_type": "code",
    "id": "CK4vE1qZhwHW"
   },
   "outputs": [],
   "source": [
    "user_order_history = pd.concat([orders_with_repurchase, \n",
    "                                total_products_by_user, \n",
    "                                reorders_by_user,\n",
    "                                cart_size, \n",
    "                                order_freq_after_first,\n",
    "                                most_freq_dow,\n",
    "                                mean_hour_order], axis=1)\n",
    "\n",
    "# Use last_order_dict to map days since last order to user id\n",
    "\n",
    "user_order_history['days_since_last_order'] = user_order_history.index.map(last_order_dict)\n",
    "user_order_history['days_since_last_order'] = user_order_history['days_since_last_order'].astype('int32')"
   ]
  },
  {
   "cell_type": "code",
   "execution_count": 0,
   "metadata": {
    "colab": {
     "base_uri": "https://localhost:8080/",
     "height": 235
    },
    "colab_type": "code",
    "executionInfo": {
     "elapsed": 128243,
     "status": "ok",
     "timestamp": 1563928211936,
     "user": {
      "displayName": "Mai Anh Ly",
      "photoUrl": "",
      "userId": "13204928062056036662"
     },
     "user_tz": -600
    },
    "id": "NZWhuOIepmMj",
    "outputId": "8c4dfe86-1c66-4b25-f7ad-cec00f4da907"
   },
   "outputs": [
    {
     "data": {
      "text/html": [
       "<div>\n",
       "<style scoped>\n",
       "    .dataframe tbody tr th:only-of-type {\n",
       "        vertical-align: middle;\n",
       "    }\n",
       "\n",
       "    .dataframe tbody tr th {\n",
       "        vertical-align: top;\n",
       "    }\n",
       "\n",
       "    .dataframe thead th {\n",
       "        text-align: right;\n",
       "    }\n",
       "</style>\n",
       "<table border=\"1\" class=\"dataframe\">\n",
       "  <thead>\n",
       "    <tr style=\"text-align: right;\">\n",
       "      <th></th>\n",
       "      <th>num_prior_orders_with_repurchase</th>\n",
       "      <th>total_products_ordered</th>\n",
       "      <th>total_products_reordered</th>\n",
       "      <th>mean_cart_size</th>\n",
       "      <th>mean_days_between_orders</th>\n",
       "      <th>most_freq_dow</th>\n",
       "      <th>mean_hour_order</th>\n",
       "      <th>days_since_last_order</th>\n",
       "    </tr>\n",
       "    <tr>\n",
       "      <th>user_id</th>\n",
       "      <th></th>\n",
       "      <th></th>\n",
       "      <th></th>\n",
       "      <th></th>\n",
       "      <th></th>\n",
       "      <th></th>\n",
       "      <th></th>\n",
       "      <th></th>\n",
       "    </tr>\n",
       "  </thead>\n",
       "  <tbody>\n",
       "    <tr>\n",
       "      <th>1</th>\n",
       "      <td>9.0</td>\n",
       "      <td>59</td>\n",
       "      <td>41.0</td>\n",
       "      <td>5.900000</td>\n",
       "      <td>19.562500</td>\n",
       "      <td>4</td>\n",
       "      <td>10.300000</td>\n",
       "      <td>30</td>\n",
       "    </tr>\n",
       "    <tr>\n",
       "      <th>2</th>\n",
       "      <td>12.0</td>\n",
       "      <td>195</td>\n",
       "      <td>93.0</td>\n",
       "      <td>13.928572</td>\n",
       "      <td>15.234375</td>\n",
       "      <td>2</td>\n",
       "      <td>10.571428</td>\n",
       "      <td>13</td>\n",
       "    </tr>\n",
       "    <tr>\n",
       "      <th>3</th>\n",
       "      <td>11.0</td>\n",
       "      <td>88</td>\n",
       "      <td>55.0</td>\n",
       "      <td>7.333333</td>\n",
       "      <td>12.093750</td>\n",
       "      <td>0</td>\n",
       "      <td>16.416666</td>\n",
       "      <td>15</td>\n",
       "    </tr>\n",
       "    <tr>\n",
       "      <th>4</th>\n",
       "      <td>1.0</td>\n",
       "      <td>18</td>\n",
       "      <td>1.0</td>\n",
       "      <td>3.600000</td>\n",
       "      <td>13.750000</td>\n",
       "      <td>5</td>\n",
       "      <td>12.600000</td>\n",
       "      <td>0</td>\n",
       "    </tr>\n",
       "    <tr>\n",
       "      <th>5</th>\n",
       "      <td>3.0</td>\n",
       "      <td>37</td>\n",
       "      <td>14.0</td>\n",
       "      <td>9.250000</td>\n",
       "      <td>13.335938</td>\n",
       "      <td>3</td>\n",
       "      <td>16.000000</td>\n",
       "      <td>19</td>\n",
       "    </tr>\n",
       "  </tbody>\n",
       "</table>\n",
       "</div>"
      ],
      "text/plain": [
       "         num_prior_orders_with_repurchase  ...  days_since_last_order\n",
       "user_id                                    ...                       \n",
       "1                                     9.0  ...                     30\n",
       "2                                    12.0  ...                     13\n",
       "3                                    11.0  ...                     15\n",
       "4                                     1.0  ...                      0\n",
       "5                                     3.0  ...                     19\n",
       "\n",
       "[5 rows x 8 columns]"
      ]
     },
     "execution_count": 42,
     "metadata": {
      "tags": []
     },
     "output_type": "execute_result"
    }
   ],
   "source": [
    "# Check user_order_history\n",
    "\n",
    "user_order_history.head()"
   ]
  },
  {
   "cell_type": "code",
   "execution_count": 0,
   "metadata": {
    "colab": {
     "base_uri": "https://localhost:8080/",
     "height": 238
    },
    "colab_type": "code",
    "executionInfo": {
     "elapsed": 126547,
     "status": "ok",
     "timestamp": 1563928211938,
     "user": {
      "displayName": "Mai Anh Ly",
      "photoUrl": "",
      "userId": "13204928062056036662"
     },
     "user_tz": -600
    },
    "id": "50JVUPn3ppZj",
    "outputId": "96652a07-48a7-4072-8e70-d4d1ee81c446"
   },
   "outputs": [
    {
     "name": "stdout",
     "output_type": "stream",
     "text": [
      "<class 'pandas.core.frame.DataFrame'>\n",
      "Int64Index: 206209 entries, 1 to 206209\n",
      "Data columns (total 8 columns):\n",
      "num_prior_orders_with_repurchase    203164 non-null float64\n",
      "total_products_ordered              206209 non-null int32\n",
      "total_products_reordered            203164 non-null float64\n",
      "mean_cart_size                      206209 non-null float32\n",
      "mean_days_between_orders            206209 non-null float32\n",
      "most_freq_dow                       206209 non-null int8\n",
      "mean_hour_order                     206209 non-null float32\n",
      "days_since_last_order               206209 non-null int32\n",
      "dtypes: float32(3), float64(2), int32(2), int8(1)\n",
      "memory usage: 8.8 MB\n"
     ]
    }
   ],
   "source": [
    "user_order_history.info()"
   ]
  },
  {
   "cell_type": "code",
   "execution_count": 0,
   "metadata": {
    "colab": {
     "base_uri": "https://localhost:8080/",
     "height": 170
    },
    "colab_type": "code",
    "executionInfo": {
     "elapsed": 124899,
     "status": "ok",
     "timestamp": 1563928211940,
     "user": {
      "displayName": "Mai Anh Ly",
      "photoUrl": "",
      "userId": "13204928062056036662"
     },
     "user_tz": -600
    },
    "id": "gwbZJ4Y4rMLw",
    "outputId": "e0769549-7c3f-4eba-d934-f407f7d5dec3"
   },
   "outputs": [
    {
     "data": {
      "text/plain": [
       "num_prior_orders_with_repurchase    3045\n",
       "total_products_ordered                 0\n",
       "total_products_reordered            3045\n",
       "mean_cart_size                         0\n",
       "mean_days_between_orders               0\n",
       "most_freq_dow                          0\n",
       "mean_hour_order                        0\n",
       "days_since_last_order                  0\n",
       "dtype: int64"
      ]
     },
     "execution_count": 44,
     "metadata": {
      "tags": []
     },
     "output_type": "execute_result"
    }
   ],
   "source": [
    "# Count null values\n",
    "\n",
    "user_order_history.isnull().sum()"
   ]
  },
  {
   "cell_type": "code",
   "execution_count": 0,
   "metadata": {
    "colab": {},
    "colab_type": "code",
    "id": "fVsPKE-lrTct"
   },
   "outputs": [],
   "source": [
    "# Fill null values with 0\n",
    "\n",
    "user_order_history = user_order_history.fillna(0)"
   ]
  },
  {
   "cell_type": "code",
   "execution_count": 0,
   "metadata": {
    "colab": {},
    "colab_type": "code",
    "id": "w33epNszwLpj"
   },
   "outputs": [],
   "source": [
    "# Save user_order_history to file\n",
    "\n",
    "user_order_history.to_csv('../data/interim/user_order_history.v1.gz', compression='gzip', chunksize=1000)"
   ]
  },
  {
   "cell_type": "markdown",
   "metadata": {
    "colab_type": "text",
    "id": "Cjx2Q8MC9XBl"
   },
   "source": [
    "## User X order based features (last 3 orders)\n",
    "\n",
    "The Instacart dataset contains approximately 200,000 users who have made 4-100 orders per user. As the subset of the data used for training contains each user's last order, the minimum number of orders for each user in the prior orders dataset is 3. We know from earlier visualisation that most users in this dataset have made 5-10 orders.\n",
    "\n",
    "By explicitly considering recency, creating features based on a user's last 3 orders may be a more powerful predictor of user repurchasing habits than features that summarise the entirety of a user's ordering history. "
   ]
  },
  {
   "cell_type": "markdown",
   "metadata": {
    "colab_type": "text",
    "id": "qJ25SrYsCAbz"
   },
   "source": [
    "### Find number and % of repurchased items per order and subset to last 3 orders"
   ]
  },
  {
   "cell_type": "code",
   "execution_count": 15,
   "metadata": {
    "colab": {
     "base_uri": "https://localhost:8080/",
     "height": 204
    },
    "colab_type": "code",
    "executionInfo": {
     "elapsed": 13935,
     "status": "ok",
     "timestamp": 1564368127716,
     "user": {
      "displayName": "Mai Anh Ly",
      "photoUrl": "",
      "userId": "13204928062056036662"
     },
     "user_tz": -600
    },
    "id": "Sw_0JmF5bgVq",
    "outputId": "8ccedbde-81d0-4fa6-919e-8f23c6a7b8af"
   },
   "outputs": [
    {
     "data": {
      "text/html": [
       "<div>\n",
       "<style scoped>\n",
       "    .dataframe tbody tr th:only-of-type {\n",
       "        vertical-align: middle;\n",
       "    }\n",
       "\n",
       "    .dataframe tbody tr th {\n",
       "        vertical-align: top;\n",
       "    }\n",
       "\n",
       "    .dataframe thead th {\n",
       "        text-align: right;\n",
       "    }\n",
       "</style>\n",
       "<table border=\"1\" class=\"dataframe\">\n",
       "  <thead>\n",
       "    <tr style=\"text-align: right;\">\n",
       "      <th></th>\n",
       "      <th>user_id</th>\n",
       "      <th>order_number</th>\n",
       "      <th>cart_size</th>\n",
       "      <th>num_repurchased</th>\n",
       "      <th>prop_cart_repurchased</th>\n",
       "    </tr>\n",
       "  </thead>\n",
       "  <tbody>\n",
       "    <tr>\n",
       "      <th>0</th>\n",
       "      <td>1</td>\n",
       "      <td>1</td>\n",
       "      <td>5</td>\n",
       "      <td>0.0</td>\n",
       "      <td>0.000</td>\n",
       "    </tr>\n",
       "    <tr>\n",
       "      <th>1</th>\n",
       "      <td>1</td>\n",
       "      <td>2</td>\n",
       "      <td>6</td>\n",
       "      <td>3.0</td>\n",
       "      <td>0.500</td>\n",
       "    </tr>\n",
       "    <tr>\n",
       "      <th>2</th>\n",
       "      <td>1</td>\n",
       "      <td>3</td>\n",
       "      <td>5</td>\n",
       "      <td>3.0</td>\n",
       "      <td>0.600</td>\n",
       "    </tr>\n",
       "    <tr>\n",
       "      <th>3</th>\n",
       "      <td>1</td>\n",
       "      <td>4</td>\n",
       "      <td>5</td>\n",
       "      <td>5.0</td>\n",
       "      <td>1.000</td>\n",
       "    </tr>\n",
       "    <tr>\n",
       "      <th>4</th>\n",
       "      <td>1</td>\n",
       "      <td>5</td>\n",
       "      <td>8</td>\n",
       "      <td>5.0</td>\n",
       "      <td>0.625</td>\n",
       "    </tr>\n",
       "  </tbody>\n",
       "</table>\n",
       "</div>"
      ],
      "text/plain": [
       "   user_id  order_number  cart_size  num_repurchased  prop_cart_repurchased\n",
       "0        1             1          5              0.0                  0.000\n",
       "1        1             2          6              3.0                  0.500\n",
       "2        1             3          5              3.0                  0.600\n",
       "3        1             4          5              5.0                  1.000\n",
       "4        1             5          8              5.0                  0.625"
      ]
     },
     "execution_count": 15,
     "metadata": {
      "tags": []
     },
     "output_type": "execute_result"
    }
   ],
   "source": [
    "# Cart size per order per user \n",
    "all_orders_cart_size = prior_products.groupby(['user_id', 'order_number'])['add_to_cart_order']\\\n",
    "                           .max()\\\n",
    "                           .reset_index()\\\n",
    "                           .rename(columns={'add_to_cart_order': 'cart_size'})\n",
    "\n",
    "# Num repurchased per order per user\n",
    "repurchases_per_order = prior_reorders.groupby(['user_id', 'order_number'])\\\n",
    "                              .size()\\\n",
    "                              .reset_index()\\\n",
    "                              .rename(columns={0: 'num_repurchased'})\n",
    "\n",
    "# Merge \n",
    "cart_repurchases_df = pd.merge(all_orders_cart_size, repurchases_per_order, on=['user_id', 'order_number'], how='left')\\\n",
    "                          .fillna(0)\\\n",
    "                          .astype({'user_id': 'int32',\n",
    "                                   'order_number': 'int32',\n",
    "                                   'num_repurchased': 'float32'})\n",
    "\n",
    "# Find proportion per order\n",
    "cart_repurchases_df['prop_cart_repurchased'] = cart_repurchases_df['num_repurchased'] / cart_repurchases_df['cart_size']\n",
    "\n",
    "cart_repurchases_df.head()"
   ]
  },
  {
   "cell_type": "code",
   "execution_count": 16,
   "metadata": {
    "colab": {
     "base_uri": "https://localhost:8080/",
     "height": 235
    },
    "colab_type": "code",
    "executionInfo": {
     "elapsed": 11416,
     "status": "ok",
     "timestamp": 1564368127718,
     "user": {
      "displayName": "Mai Anh Ly",
      "photoUrl": "",
      "userId": "13204928062056036662"
     },
     "user_tz": -600
    },
    "id": "wQOWG-cSdPpB",
    "outputId": "a19fa78d-d94a-40fd-cbd8-8017cb00300b"
   },
   "outputs": [
    {
     "data": {
      "text/html": [
       "<div>\n",
       "<style scoped>\n",
       "    .dataframe tbody tr th:only-of-type {\n",
       "        vertical-align: middle;\n",
       "    }\n",
       "\n",
       "    .dataframe tbody tr th {\n",
       "        vertical-align: top;\n",
       "    }\n",
       "\n",
       "    .dataframe thead th {\n",
       "        text-align: right;\n",
       "    }\n",
       "</style>\n",
       "<table border=\"1\" class=\"dataframe\">\n",
       "  <thead>\n",
       "    <tr style=\"text-align: right;\">\n",
       "      <th></th>\n",
       "      <th>mean_cart_size</th>\n",
       "      <th>mean_items_repurchased</th>\n",
       "      <th>mean_prop_cart_repurchased</th>\n",
       "    </tr>\n",
       "    <tr>\n",
       "      <th>user_id</th>\n",
       "      <th></th>\n",
       "      <th></th>\n",
       "      <th></th>\n",
       "    </tr>\n",
       "  </thead>\n",
       "  <tbody>\n",
       "    <tr>\n",
       "      <th>1</th>\n",
       "      <td>5.900000</td>\n",
       "      <td>4.100000</td>\n",
       "      <td>0.705833</td>\n",
       "    </tr>\n",
       "    <tr>\n",
       "      <th>2</th>\n",
       "      <td>13.928571</td>\n",
       "      <td>6.642857</td>\n",
       "      <td>0.447961</td>\n",
       "    </tr>\n",
       "    <tr>\n",
       "      <th>3</th>\n",
       "      <td>7.333333</td>\n",
       "      <td>4.583333</td>\n",
       "      <td>0.658817</td>\n",
       "    </tr>\n",
       "    <tr>\n",
       "      <th>4</th>\n",
       "      <td>3.600000</td>\n",
       "      <td>0.200000</td>\n",
       "      <td>0.028571</td>\n",
       "    </tr>\n",
       "    <tr>\n",
       "      <th>5</th>\n",
       "      <td>9.250000</td>\n",
       "      <td>3.500000</td>\n",
       "      <td>0.377778</td>\n",
       "    </tr>\n",
       "  </tbody>\n",
       "</table>\n",
       "</div>"
      ],
      "text/plain": [
       "         mean_cart_size  mean_items_repurchased  mean_prop_cart_repurchased\n",
       "user_id                                                                    \n",
       "1              5.900000                4.100000                    0.705833\n",
       "2             13.928571                6.642857                    0.447961\n",
       "3              7.333333                4.583333                    0.658817\n",
       "4              3.600000                0.200000                    0.028571\n",
       "5              9.250000                3.500000                    0.377778"
      ]
     },
     "execution_count": 16,
     "metadata": {
      "tags": []
     },
     "output_type": "execute_result"
    }
   ],
   "source": [
    "# Group by user and take mean\n",
    "\n",
    "all_mean_cart_repurchased = cart_repurchases_df.groupby('user_id')[['cart_size', 'num_repurchased', 'prop_cart_repurchased']]\\\n",
    "                                .mean()\\\n",
    "                                .rename(columns={'cart_size': 'mean_cart_size',\n",
    "                                                 'num_repurchased': 'mean_items_repurchased',\n",
    "                                                 'prop_cart_repurchased': 'mean_prop_cart_repurchased'})\n",
    "\n",
    "all_mean_cart_repurchased.head()"
   ]
  },
  {
   "cell_type": "code",
   "execution_count": 17,
   "metadata": {
    "colab": {
     "base_uri": "https://localhost:8080/",
     "height": 235
    },
    "colab_type": "code",
    "executionInfo": {
     "elapsed": 14766,
     "status": "ok",
     "timestamp": 1564368132851,
     "user": {
      "displayName": "Mai Anh Ly",
      "photoUrl": "",
      "userId": "13204928062056036662"
     },
     "user_tz": -600
    },
    "id": "ibx5-fQNefmh",
    "outputId": "e13c8e15-d112-4f8a-a19f-6b9ea57f25c9"
   },
   "outputs": [
    {
     "data": {
      "text/html": [
       "<div>\n",
       "<style scoped>\n",
       "    .dataframe tbody tr th:only-of-type {\n",
       "        vertical-align: middle;\n",
       "    }\n",
       "\n",
       "    .dataframe tbody tr th {\n",
       "        vertical-align: top;\n",
       "    }\n",
       "\n",
       "    .dataframe thead th {\n",
       "        text-align: right;\n",
       "    }\n",
       "</style>\n",
       "<table border=\"1\" class=\"dataframe\">\n",
       "  <thead>\n",
       "    <tr style=\"text-align: right;\">\n",
       "      <th></th>\n",
       "      <th>n3_mean_cart_size</th>\n",
       "      <th>n3_mean_items_repurchased</th>\n",
       "      <th>n3_mean_prop_cart_repurchased</th>\n",
       "    </tr>\n",
       "    <tr>\n",
       "      <th>user_id</th>\n",
       "      <th></th>\n",
       "      <th></th>\n",
       "      <th></th>\n",
       "    </tr>\n",
       "  </thead>\n",
       "  <tbody>\n",
       "    <tr>\n",
       "      <th>1</th>\n",
       "      <td>7.000000</td>\n",
       "      <td>5.333333</td>\n",
       "      <td>0.777778</td>\n",
       "    </tr>\n",
       "    <tr>\n",
       "      <th>2</th>\n",
       "      <td>14.666667</td>\n",
       "      <td>7.000000</td>\n",
       "      <td>0.401316</td>\n",
       "    </tr>\n",
       "    <tr>\n",
       "      <th>3</th>\n",
       "      <td>5.666667</td>\n",
       "      <td>5.333333</td>\n",
       "      <td>0.944444</td>\n",
       "    </tr>\n",
       "    <tr>\n",
       "      <th>4</th>\n",
       "      <td>4.000000</td>\n",
       "      <td>0.333333</td>\n",
       "      <td>0.047619</td>\n",
       "    </tr>\n",
       "    <tr>\n",
       "      <th>5</th>\n",
       "      <td>8.666667</td>\n",
       "      <td>4.666667</td>\n",
       "      <td>0.503704</td>\n",
       "    </tr>\n",
       "  </tbody>\n",
       "</table>\n",
       "</div>"
      ],
      "text/plain": [
       "         n3_mean_cart_size  ...  n3_mean_prop_cart_repurchased\n",
       "user_id                     ...                               \n",
       "1                 7.000000  ...                       0.777778\n",
       "2                14.666667  ...                       0.401316\n",
       "3                 5.666667  ...                       0.944444\n",
       "4                 4.000000  ...                       0.047619\n",
       "5                 8.666667  ...                       0.503704\n",
       "\n",
       "[5 rows x 3 columns]"
      ]
     },
     "execution_count": 17,
     "metadata": {
      "tags": []
     },
     "output_type": "execute_result"
    }
   ],
   "source": [
    "# Select last 3 orders per user, group by user and take mean\n",
    "\n",
    "n3_mean_cart_repurchased = cart_repurchases_df.groupby('user_id')\\\n",
    "                                .tail(3)\\\n",
    "                                .groupby('user_id')[['cart_size', 'num_repurchased', 'prop_cart_repurchased']]\\\n",
    "                                .mean()\\\n",
    "                                .rename(columns={'cart_size': 'n3_mean_cart_size',\n",
    "                                                 'num_repurchased': 'n3_mean_items_repurchased',\n",
    "                                                 'prop_cart_repurchased': 'n3_mean_prop_cart_repurchased'})\n",
    "\n",
    "n3_mean_cart_repurchased.head()"
   ]
  },
  {
   "cell_type": "code",
   "execution_count": 27,
   "metadata": {
    "colab": {
     "base_uri": "https://localhost:8080/",
     "height": 441
    },
    "colab_type": "code",
    "executionInfo": {
     "elapsed": 1593,
     "status": "ok",
     "timestamp": 1564368419764,
     "user": {
      "displayName": "Mai Anh Ly",
      "photoUrl": "",
      "userId": "13204928062056036662"
     },
     "user_tz": -600
    },
    "id": "2Wky3DR6gAvE",
    "outputId": "f04bc83a-8ae3-4191-a1f6-89f7ed9327ee"
   },
   "outputs": [
    {
     "data": {
      "image/png": "[encoded data removed]",
      "text/plain": [
       "<Figure size 1080x432 with 1 Axes>"
      ]
     },
     "metadata": {
      "tags": []
     },
     "output_type": "display_data"
    }
   ],
   "source": [
    "# Visualise mean % of repurchased items per order \n",
    "\n",
    "plt.figure(figsize=(15, 6))\n",
    "(all_mean_cart_repurchased['mean_prop_cart_repurchased']*100).plot.hist(bins=np.arange(0, 110, 10), color='#01597f', linewidth=4, alpha=0.8, label='All orders')\n",
    "(n3_mean_cart_repurchased['n3_mean_prop_cart_repurchased']*100).plot.hist(bins=np.arange(0, 110, 10), color='#80bfb7', linewidth=4, alpha=0.8, label='Last 3 orders')\n",
    "plt.axvline(x=(all_mean_cart_repurchased['mean_prop_cart_repurchased']*100).median(), color='#01597f', linestyle='dashed', lw=3, alpha=0.8)\n",
    "plt.axvline(x=(n3_mean_cart_repurchased['n3_mean_prop_cart_repurchased']*100).median(), color='#80bfb7', linestyle='dashed', lw=3, alpha=0.8)\n",
    "\n",
    "plt.xticks(np.arange(0, 110, 10), fontsize=16)\n",
    "plt.yticks(fontsize=16)\n",
    "plt.ylabel('Customers', labelpad=10, fontsize=18)\n",
    "plt.xlabel('Mean % of repurchases per order', labelpad=10, fontsize=18)\n",
    "plt.legend(bbox_to_anchor=(1.01, 1), loc=2, borderaxespad=0., fontsize=16)\n",
    "sns.despine()\n",
    "\n",
    "plt.tight_layout()\n",
    "plt.savefig('../image/perc_repurchase_per_cart_median_line.jpg')\n",
    "plt.show()"
   ]
  },
  {
   "cell_type": "markdown",
   "metadata": {
    "colab_type": "text",
    "id": "DvsweubLFPLe"
   },
   "source": [
    "The histogram above indicates:\n",
    "- Previously purchased items make up an average of 30-60% of a user's order when all of their orders are considered.\n",
    "- Previously purchased items make up an average of 50-90% of a user's order when restricted to their 3 latest orders. \n",
    "\n",
    "Considering most users in the dataset have made 5-10 orders, this suggests that the more orders a user makes, the more they purchase items they have previously bought. "
   ]
  },
  {
   "cell_type": "code",
   "execution_count": 0,
   "metadata": {
    "colab": {
     "base_uri": "https://localhost:8080/",
     "height": 255
    },
    "colab_type": "code",
    "executionInfo": {
     "elapsed": 1287,
     "status": "ok",
     "timestamp": 1563930916648,
     "user": {
      "displayName": "Mai Anh Ly",
      "photoUrl": "",
      "userId": "13204928062056036662"
     },
     "user_tz": -600
    },
    "id": "xqnhRaTaF6sz",
    "outputId": "d050f0e2-f9f8-49f9-d290-c79bd25d0acf"
   },
   "outputs": [
    {
     "data": {
      "text/html": [
       "<div>\n",
       "<style scoped>\n",
       "    .dataframe tbody tr th:only-of-type {\n",
       "        vertical-align: middle;\n",
       "    }\n",
       "\n",
       "    .dataframe tbody tr th {\n",
       "        vertical-align: top;\n",
       "    }\n",
       "\n",
       "    .dataframe thead th {\n",
       "        text-align: right;\n",
       "    }\n",
       "</style>\n",
       "<table border=\"1\" class=\"dataframe\">\n",
       "  <thead>\n",
       "    <tr style=\"text-align: right;\">\n",
       "      <th></th>\n",
       "      <th>num_prior_orders_with_repurchase</th>\n",
       "      <th>total_products_ordered</th>\n",
       "      <th>total_products_reordered</th>\n",
       "      <th>mean_cart_size</th>\n",
       "      <th>mean_days_between_orders</th>\n",
       "      <th>most_freq_dow</th>\n",
       "      <th>mean_hour_order</th>\n",
       "      <th>days_since_last_order</th>\n",
       "      <th>n3_mean_cart_size</th>\n",
       "      <th>n3_mean_items_repurchased</th>\n",
       "      <th>n3_mean_prop_cart_repurchased</th>\n",
       "    </tr>\n",
       "    <tr>\n",
       "      <th>user_id</th>\n",
       "      <th></th>\n",
       "      <th></th>\n",
       "      <th></th>\n",
       "      <th></th>\n",
       "      <th></th>\n",
       "      <th></th>\n",
       "      <th></th>\n",
       "      <th></th>\n",
       "      <th></th>\n",
       "      <th></th>\n",
       "      <th></th>\n",
       "    </tr>\n",
       "  </thead>\n",
       "  <tbody>\n",
       "    <tr>\n",
       "      <th>1</th>\n",
       "      <td>9.0</td>\n",
       "      <td>59</td>\n",
       "      <td>41.0</td>\n",
       "      <td>5.900000</td>\n",
       "      <td>19.562500</td>\n",
       "      <td>4</td>\n",
       "      <td>10.300000</td>\n",
       "      <td>30</td>\n",
       "      <td>7.000000</td>\n",
       "      <td>5.333333</td>\n",
       "      <td>0.777778</td>\n",
       "    </tr>\n",
       "    <tr>\n",
       "      <th>2</th>\n",
       "      <td>12.0</td>\n",
       "      <td>195</td>\n",
       "      <td>93.0</td>\n",
       "      <td>13.928572</td>\n",
       "      <td>15.234375</td>\n",
       "      <td>2</td>\n",
       "      <td>10.571428</td>\n",
       "      <td>13</td>\n",
       "      <td>14.666667</td>\n",
       "      <td>7.000000</td>\n",
       "      <td>0.401316</td>\n",
       "    </tr>\n",
       "    <tr>\n",
       "      <th>3</th>\n",
       "      <td>11.0</td>\n",
       "      <td>88</td>\n",
       "      <td>55.0</td>\n",
       "      <td>7.333333</td>\n",
       "      <td>12.093750</td>\n",
       "      <td>0</td>\n",
       "      <td>16.416666</td>\n",
       "      <td>15</td>\n",
       "      <td>5.666667</td>\n",
       "      <td>5.333333</td>\n",
       "      <td>0.944444</td>\n",
       "    </tr>\n",
       "    <tr>\n",
       "      <th>4</th>\n",
       "      <td>1.0</td>\n",
       "      <td>18</td>\n",
       "      <td>1.0</td>\n",
       "      <td>3.600000</td>\n",
       "      <td>13.750000</td>\n",
       "      <td>5</td>\n",
       "      <td>12.600000</td>\n",
       "      <td>0</td>\n",
       "      <td>4.000000</td>\n",
       "      <td>0.333333</td>\n",
       "      <td>0.047619</td>\n",
       "    </tr>\n",
       "    <tr>\n",
       "      <th>5</th>\n",
       "      <td>3.0</td>\n",
       "      <td>37</td>\n",
       "      <td>14.0</td>\n",
       "      <td>9.250000</td>\n",
       "      <td>13.335938</td>\n",
       "      <td>3</td>\n",
       "      <td>16.000000</td>\n",
       "      <td>19</td>\n",
       "      <td>8.666667</td>\n",
       "      <td>4.666667</td>\n",
       "      <td>0.503704</td>\n",
       "    </tr>\n",
       "  </tbody>\n",
       "</table>\n",
       "</div>"
      ],
      "text/plain": [
       "         num_prior_orders_with_repurchase  ...  n3_mean_prop_cart_repurchased\n",
       "user_id                                    ...                               \n",
       "1                                     9.0  ...                       0.777778\n",
       "2                                    12.0  ...                       0.401316\n",
       "3                                    11.0  ...                       0.944444\n",
       "4                                     1.0  ...                       0.047619\n",
       "5                                     3.0  ...                       0.503704\n",
       "\n",
       "[5 rows x 11 columns]"
      ]
     },
     "execution_count": 84,
     "metadata": {
      "tags": []
     },
     "output_type": "execute_result"
    }
   ],
   "source": [
    "# Concatenate n3 df to user_order_history\n",
    "\n",
    "user_order_history_2 = pd.concat([user_order_history, \n",
    "                                  n3_mean_cart_repurchased],\n",
    "                                 axis=1)\n",
    "\n",
    "user_order_history_2.head() "
   ]
  },
  {
   "cell_type": "code",
   "execution_count": 0,
   "metadata": {
    "colab": {
     "base_uri": "https://localhost:8080/",
     "height": 221
    },
    "colab_type": "code",
    "executionInfo": {
     "elapsed": 15924,
     "status": "ok",
     "timestamp": 1563930933044,
     "user": {
      "displayName": "Mai Anh Ly",
      "photoUrl": "",
      "userId": "13204928062056036662"
     },
     "user_tz": -600
    },
    "id": "x2cYgmskGoYc",
    "outputId": "8930ade0-70bb-4bc1-e6fc-bd39817ca0e8"
   },
   "outputs": [
    {
     "data": {
      "text/plain": [
       "num_prior_orders_with_repurchase    0\n",
       "total_products_ordered              0\n",
       "total_products_reordered            0\n",
       "mean_cart_size                      0\n",
       "mean_days_between_orders            0\n",
       "most_freq_dow                       0\n",
       "mean_hour_order                     0\n",
       "days_since_last_order               0\n",
       "n3_mean_cart_size                   0\n",
       "n3_mean_items_repurchased           0\n",
       "n3_mean_prop_cart_repurchased       0\n",
       "dtype: int64"
      ]
     },
     "execution_count": 85,
     "metadata": {
      "tags": []
     },
     "output_type": "execute_result"
    }
   ],
   "source": [
    "# Count null values\n",
    "\n",
    "user_order_history_2.isnull().sum()"
   ]
  },
  {
   "cell_type": "code",
   "execution_count": 10,
   "metadata": {
    "colab": {
     "base_uri": "https://localhost:8080/",
     "height": 180
    },
    "colab_type": "code",
    "executionInfo": {
     "elapsed": 8941,
     "status": "error",
     "timestamp": 1564368058377,
     "user": {
      "displayName": "Mai Anh Ly",
      "photoUrl": "",
      "userId": "13204928062056036662"
     },
     "user_tz": -600
    },
    "id": "XcQyNpKAGtD7",
    "outputId": "a82ce2a8-3dcc-4e4b-931e-70ae532c159d"
   },
   "outputs": [
    {
     "ename": "NameError",
     "evalue": "ignored",
     "output_type": "error",
     "traceback": [
      "\u001b[0;31m---------------------------------------------------------------------------\u001b[0m",
      "\u001b[0;31mNameError\u001b[0m                                 Traceback (most recent call last)",
      "\u001b[0;32m<ipython-input-10-b1ce86a139d8>\u001b[0m in \u001b[0;36m<module>\u001b[0;34m()\u001b[0m\n\u001b[1;32m      1\u001b[0m \u001b[0;34m\u001b[0m\u001b[0m\n\u001b[0;32m----> 2\u001b[0;31m \u001b[0muser_order_history_2\u001b[0m\u001b[0;34m.\u001b[0m\u001b[0mto_csv\u001b[0m\u001b[0;34m(\u001b[0m\u001b[0;34m'../data/interim/user_order_history.v2.gz'\u001b[0m\u001b[0;34m,\u001b[0m \u001b[0mcompression\u001b[0m\u001b[0;34m=\u001b[0m\u001b[0;34m'gzip'\u001b[0m\u001b[0;34m,\u001b[0m \u001b[0mchunksize\u001b[0m\u001b[0;34m=\u001b[0m\u001b[0;36m1000\u001b[0m\u001b[0;34m)\u001b[0m\u001b[0;34m\u001b[0m\u001b[0;34m\u001b[0m\u001b[0m\n\u001b[0m",
      "\u001b[0;31mNameError\u001b[0m: name 'user_order_history_2' is not defined"
     ]
    }
   ],
   "source": [
    "# Save to file\n",
    "\n",
    "user_order_history_2.to_csv('../data/interim/user_order_history.v2.gz', compression='gzip', chunksize=1000)"
   ]
  },
  {
   "cell_type": "markdown",
   "metadata": {
    "colab_type": "text",
    "id": "PRrwSM-fBwiB"
   },
   "source": [
    "## User X product-based features\n",
    "\n",
    "### Find most popular reordered products by user"
   ]
  },
  {
   "cell_type": "code",
   "execution_count": 11,
   "metadata": {
    "colab": {
     "base_uri": "https://localhost:8080/",
     "height": 136
    },
    "colab_type": "code",
    "executionInfo": {
     "elapsed": 23501,
     "status": "ok",
     "timestamp": 1564368088012,
     "user": {
      "displayName": "Mai Anh Ly",
      "photoUrl": "",
      "userId": "13204928062056036662"
     },
     "user_tz": -600
    },
    "id": "joY11DNiB6vZ",
    "outputId": "b39fcbab-7fe0-419d-d0a5-b2acdf9fac57"
   },
   "outputs": [
    {
     "data": {
      "text/plain": [
       "product_id\n",
       "24852    55166\n",
       "13176    45231\n",
       "21137    38131\n",
       "21903    36557\n",
       "47209    29031\n",
       "Name: user_id, dtype: int64"
      ]
     },
     "execution_count": 11,
     "metadata": {
      "tags": []
     },
     "output_type": "execute_result"
    }
   ],
   "source": [
    "# Count reordered by user\n",
    "\n",
    "top_10_reorder_user = prior_reorders.groupby('product_id')['user_id'].nunique().sort_values(ascending=False).head(10)\n",
    "\n",
    "top_10_reorder_user.head()"
   ]
  },
  {
   "cell_type": "code",
   "execution_count": 12,
   "metadata": {
    "colab": {
     "base_uri": "https://localhost:8080/",
     "height": 136
    },
    "colab_type": "code",
    "executionInfo": {
     "elapsed": 21481,
     "status": "ok",
     "timestamp": 1564368088017,
     "user": {
      "displayName": "Mai Anh Ly",
      "photoUrl": "",
      "userId": "13204928062056036662"
     },
     "user_tz": -600
    },
    "id": "77gbcgMMClJ3",
    "outputId": "5a35480f-41b9-4612-fadf-9923d53707bf"
   },
   "outputs": [
    {
     "data": {
      "text/plain": [
       "product_id\n",
       "Banana                    55166\n",
       "Bag of Organic Bananas    45231\n",
       "Organic Strawberries      38131\n",
       "Organic Baby Spinach      36557\n",
       "Organic Hass Avocado      29031\n",
       "Name: user_id, dtype: int64"
      ]
     },
     "execution_count": 12,
     "metadata": {
      "tags": []
     },
     "output_type": "execute_result"
    }
   ],
   "source": [
    "# Map index to product name\n",
    "\n",
    "top_10_reorder_user.index = top_10_reorder_user.index.map(product_id_to_name)\n",
    "\n",
    "top_10_reorder_user.head()"
   ]
  },
  {
   "cell_type": "code",
   "execution_count": 14,
   "metadata": {
    "colab": {
     "base_uri": "https://localhost:8080/",
     "height": 585
    },
    "colab_type": "code",
    "executionInfo": {
     "elapsed": 7841,
     "status": "ok",
     "timestamp": 1564368102546,
     "user": {
      "displayName": "Mai Anh Ly",
      "photoUrl": "",
      "userId": "13204928062056036662"
     },
     "user_tz": -600
    },
    "id": "4fo57kTHDD5K",
    "outputId": "bd526ada-ba14-4e9e-fd54-d7c43bc363e3"
   },
   "outputs": [
    {
     "data": {
      "image/png": "[encoded data removed]",
      "text/plain": [
       "<Figure size 1080x576 with 1 Axes>"
      ]
     },
     "metadata": {
      "tags": []
     },
     "output_type": "display_data"
    }
   ],
   "source": [
    "# Count reordered products by user\n",
    "\n",
    "(top_10_reorder_user / prior_products['user_id'].nunique() * 100).plot.bar(figsize=(15, 8), width=0.9, color='#01597f')\n",
    "plt.ylabel('% total customers', labelpad=10, fontsize=18)\n",
    "#plt.ylim((20000, 55000))\n",
    "plt.yticks(fontsize=16)\n",
    "plt.xticks(rotation=80, fontsize=18)\n",
    "plt.xlabel('')\n",
    "plt.title('Top 10 most reordered products by customers', fontsize=18)\n",
    "sns.despine()\n",
    "\n",
    "plt.tight_layout()\n",
    "plt.savefig('../image/top10_reorders_by_user.jpg')\n",
    "plt.show()"
   ]
  },
  {
   "cell_type": "markdown",
   "metadata": {
    "colab_type": "text",
    "id": "Zp8Za9giEbcV"
   },
   "source": [
    "The barplot above shows that:\n",
    " - Approximately 55,000 customers have reordered __bananas__ and 45,000 have reordered __organic bananas__. This represents roughly more than 25% and more than 20% of all customers.\n",
    " - All top 10 products are either __fresh fruits__ or __vegetables__\n",
    " - 6 of the top 10 products are described as __organic__ "
   ]
  },
  {
   "cell_type": "markdown",
   "metadata": {
    "colab_type": "text",
    "id": "9-L4k7OQDhNM"
   },
   "source": [
    "### Find most popular reordered aisles by user"
   ]
  },
  {
   "cell_type": "code",
   "execution_count": 0,
   "metadata": {
    "colab": {
     "base_uri": "https://localhost:8080/",
     "height": 136
    },
    "colab_type": "code",
    "executionInfo": {
     "elapsed": 30578,
     "status": "ok",
     "timestamp": 1563931242703,
     "user": {
      "displayName": "Mai Anh Ly",
      "photoUrl": "",
      "userId": "13204928062056036662"
     },
     "user_tz": -600
    },
    "id": "4OpSKzxWDk3Z",
    "outputId": "2dd7e595-4feb-4f00-de93-c7e1ea695efc"
   },
   "outputs": [
    {
     "data": {
      "text/plain": [
       "aisle_id\n",
       "fresh fruits                  144358\n",
       "fresh vegetables              120315\n",
       "packaged vegetables fruits    113043\n",
       "yogurt                         86954\n",
       "packaged cheese                81093\n",
       "Name: user_id, dtype: int64"
      ]
     },
     "execution_count": 95,
     "metadata": {
      "tags": []
     },
     "output_type": "execute_result"
    }
   ],
   "source": [
    "# Count reordered aisles by user\n",
    "\n",
    "top_10_reorder_aisles = prior_reorders.groupby('aisle_id')['user_id'].nunique().sort_values(ascending=False).head(10)\n",
    "\n",
    "# Map index to aisle name\n",
    "\n",
    "top_10_reorder_aisles.index = top_10_reorder_aisles.index.map(aisle_id_to_name)\n",
    "\n",
    "top_10_reorder_aisles.head()"
   ]
  },
  {
   "cell_type": "code",
   "execution_count": 0,
   "metadata": {
    "colab": {
     "base_uri": "https://localhost:8080/",
     "height": 585
    },
    "colab_type": "code",
    "executionInfo": {
     "elapsed": 2042,
     "status": "ok",
     "timestamp": 1563931251194,
     "user": {
      "displayName": "Mai Anh Ly",
      "photoUrl": "",
      "userId": "13204928062056036662"
     },
     "user_tz": -600
    },
    "id": "OMYvYxmsD8ET",
    "outputId": "3cee51e1-a7a6-4aa0-a16e-14d7cba57ea1"
   },
   "outputs": [
    {
     "data": {
      "image/png": "[encoded data removed]",
      "text/plain": [
       "<Figure size 1080x576 with 1 Axes>"
      ]
     },
     "metadata": {
      "tags": []
     },
     "output_type": "display_data"
    }
   ],
   "source": [
    "# Count reordered aisles by user\n",
    "\n",
    "(top_10_reorder_aisles / prior_products['user_id'].nunique() * 100).plot.bar(figsize=(15, 8), width=0.9, color='#01597f')\n",
    "plt.ylabel('% customers', labelpad=10, fontsize=18)\n",
    "plt.yticks(fontsize=16)\n",
    "plt.xticks(rotation=80, fontsize=18)\n",
    "plt.xlabel('')\n",
    "plt.title('Top 10 most reordered aisles by customers', fontsize=18)\n",
    "sns.despine()\n",
    "\n",
    "plt.tight_layout()\n",
    "#plt.savefig('../image/top10_reorder_aisles_by_user.jpg')\n",
    "plt.show()"
   ]
  },
  {
   "cell_type": "code",
   "execution_count": 0,
   "metadata": {
    "colab": {
     "base_uri": "https://localhost:8080/",
     "height": 170
    },
    "colab_type": "code",
    "executionInfo": {
     "elapsed": 3489,
     "status": "ok",
     "timestamp": 1563931261650,
     "user": {
      "displayName": "Mai Anh Ly",
      "photoUrl": "",
      "userId": "13204928062056036662"
     },
     "user_tz": -600
    },
    "id": "MdogA9G4FWfC",
    "outputId": "3a581608-a701-499e-a7f2-013cac725b49"
   },
   "outputs": [
    {
     "data": {
      "text/plain": [
       "product_id\n",
       "31      packaged vegetables fruits\n",
       "45                fresh vegetables\n",
       "143                   fresh fruits\n",
       "157                    fresh herbs\n",
       "1672              packaged produce\n",
       "Name: aisle, dtype: category\n",
       "Categories (134, object): [air fresheners candles, asian foods, baby accessories, baby bath body care, ...,\n",
       "                           vitamins supplements, water seltzer sparkling water, white wines, yogurt]"
      ]
     },
     "execution_count": 97,
     "metadata": {
      "tags": []
     },
     "output_type": "execute_result"
    }
   ],
   "source": [
    "# Find all aisles within the produce department\n",
    "\n",
    "all_products[all_products['department'] == 'produce']['aisle'].drop_duplicates()"
   ]
  },
  {
   "cell_type": "code",
   "execution_count": 0,
   "metadata": {
    "colab": {
     "base_uri": "https://localhost:8080/",
     "height": 255
    },
    "colab_type": "code",
    "executionInfo": {
     "elapsed": 1468,
     "status": "ok",
     "timestamp": 1563931261651,
     "user": {
      "displayName": "Mai Anh Ly",
      "photoUrl": "",
      "userId": "13204928062056036662"
     },
     "user_tz": -600
    },
    "id": "OdRUMyB3GIjm",
    "outputId": "76448909-955d-4e77-a1bf-4643969dd2b1"
   },
   "outputs": [
    {
     "data": {
      "text/plain": [
       "product_id\n",
       "9                              yogurt\n",
       "98                  specialty cheeses\n",
       "121                   packaged cheese\n",
       "127              other creams cheeses\n",
       "137                   soy lactosefree\n",
       "329                              milk\n",
       "469                             cream\n",
       "651                            butter\n",
       "1258    refrigerated pudding desserts\n",
       "1541                             eggs\n",
       "Name: aisle, dtype: category\n",
       "Categories (134, object): [air fresheners candles, asian foods, baby accessories, baby bath body care, ...,\n",
       "                           vitamins supplements, water seltzer sparkling water, white wines, yogurt]"
      ]
     },
     "execution_count": 98,
     "metadata": {
      "tags": []
     },
     "output_type": "execute_result"
    }
   ],
   "source": [
    "# Find all aisles within the dairy department\n",
    "\n",
    "all_products[all_products['department'] == 'dairy eggs']['aisle'].drop_duplicates()"
   ]
  },
  {
   "cell_type": "markdown",
   "metadata": {
    "colab_type": "text",
    "id": "KZxLG_C3F0zv"
   },
   "source": [
    "The barplot of __the top 10 most reordered aisles by customer__ shows that:\n",
    "\n",
    "- The top 3 most popular aisles are within the __produce__ department\n",
    "- More than half of all customers in the dataset have ordered products from the top 3 aisles\n",
    "- The next 3 most popular aisles are within the __dairy eggs__ department. The 10th most popular aisle __soy lactosefree__ is also within this department."
   ]
  },
  {
   "cell_type": "markdown",
   "metadata": {
    "colab_type": "text",
    "id": "_y78MPRUHX4V"
   },
   "source": [
    "### Find most popular reordered departments by customer"
   ]
  },
  {
   "cell_type": "code",
   "execution_count": 0,
   "metadata": {
    "colab": {
     "base_uri": "https://localhost:8080/",
     "height": 585
    },
    "colab_type": "code",
    "executionInfo": {
     "elapsed": 17292,
     "status": "ok",
     "timestamp": 1563931322287,
     "user": {
      "displayName": "Mai Anh Ly",
      "photoUrl": "",
      "userId": "13204928062056036662"
     },
     "user_tz": -600
    },
    "id": "0uiR-z6BG5kU",
    "outputId": "85613fdd-8812-4d05-d942-edd936835ba2"
   },
   "outputs": [
    {
     "data": {
      "image/png": "[encoded data removed]",
      "text/plain": [
       "<Figure size 1080x576 with 1 Axes>"
      ]
     },
     "metadata": {
      "tags": []
     },
     "output_type": "display_data"
    }
   ],
   "source": [
    "# Count reordered departments by user\n",
    "\n",
    "top_10_reorder_dep = prior_reorders.groupby('department_id')['user_id'].nunique().sort_values(ascending=False).head(10)\n",
    "\n",
    "# Map id to name\n",
    "\n",
    "top_10_reorder_dep.index = top_10_reorder_dep.index.map(dep_id_to_name)\n",
    "\n",
    "(top_10_reorder_dep / prior_products['user_id'].nunique() * 100).plot.bar(figsize=(15, 8), width=0.9, color='#01597f')\n",
    "plt.ylabel('% customers', labelpad=10, fontsize=18)\n",
    "plt.yticks(fontsize=16)\n",
    "plt.xticks(rotation=80, fontsize=18)\n",
    "plt.xlabel('')\n",
    "plt.title('Top 10 most reordered departments by customers', fontsize=18)\n",
    "sns.despine()\n",
    "\n",
    "plt.tight_layout()\n",
    "#plt.savefig('../image/top10_reorder_aisles_by_user.jpg')\n",
    "plt.show()"
   ]
  },
  {
   "cell_type": "markdown",
   "metadata": {
    "colab_type": "text",
    "id": "KBUXHWdyH1mO"
   },
   "source": [
    "From the barplot above:\n",
    "\n",
    "- More than half of all customers have reordered products from __produce__, __dairy eggs__,  __beverages__, __snacks__ and __frozen__ departments"
   ]
  },
  {
   "cell_type": "markdown",
   "metadata": {
    "colab_type": "text",
    "id": "skmH2-3cJN_v"
   },
   "source": [
    "### Conclusions from analysis\n",
    "\n",
    "- Products classified as __produce__ are most frequently reordered by users. Thus it could be useful to create features based on the __mean number of produce items per order__ for each user id\n",
    "- __Organic__ products are frequently reordered. This suggests that there are customers that have a preference for these products, so it would be useful to create a __mean organic items per order__ feature for each user id. \n",
    "- The above suggests dietary preferences may influence product repuchases. We can also create similar features for __chocolate__ and __gluten-free__ products\n",
    "- The plot showing the most popular reordered aisles/departments suggests it is likely that customers repurchase items coming from the same aisle/department. We can describe this behaviour by counting  __times ordered from aisle/department__  for each user and mapping this value for a user-product id pair in the `training` data."
   ]
  },
  {
   "cell_type": "markdown",
   "metadata": {
    "colab_type": "text",
    "id": "c3obEt7tMuj9"
   },
   "source": [
    "### Create features describing user purchases by department"
   ]
  },
  {
   "cell_type": "code",
   "execution_count": 0,
   "metadata": {
    "colab": {
     "base_uri": "https://localhost:8080/",
     "height": 374
    },
    "colab_type": "code",
    "executionInfo": {
     "elapsed": 620,
     "status": "ok",
     "timestamp": 1563931409028,
     "user": {
      "displayName": "Mai Anh Ly",
      "photoUrl": "",
      "userId": "13204928062056036662"
     },
     "user_tz": -600
    },
    "id": "D1HYYHUlkxch",
    "outputId": "31b713a2-29cb-4504-db59-3ac168d8a4f5"
   },
   "outputs": [
    {
     "data": {
      "text/plain": [
       "{1: 'frozen',\n",
       " 2: 'other',\n",
       " 3: 'bakery',\n",
       " 4: 'produce',\n",
       " 5: 'alcohol',\n",
       " 6: 'international',\n",
       " 7: 'beverages',\n",
       " 8: 'pets',\n",
       " 9: 'dry goods pasta',\n",
       " 10: 'bulk',\n",
       " 11: 'personal care',\n",
       " 12: 'meat seafood',\n",
       " 13: 'pantry',\n",
       " 14: 'breakfast',\n",
       " 15: 'canned goods',\n",
       " 16: 'dairy eggs',\n",
       " 17: 'household',\n",
       " 18: 'babies',\n",
       " 19: 'snacks',\n",
       " 20: 'deli',\n",
       " 21: 'missing'}"
      ]
     },
     "execution_count": 102,
     "metadata": {
      "tags": []
     },
     "output_type": "execute_result"
    }
   ],
   "source": [
    "# Print department id to name dictionary\n",
    "\n",
    "dep_id_to_name"
   ]
  },
  {
   "cell_type": "code",
   "execution_count": 0,
   "metadata": {
    "colab": {
     "base_uri": "https://localhost:8080/",
     "height": 235
    },
    "colab_type": "code",
    "executionInfo": {
     "elapsed": 11669,
     "status": "ok",
     "timestamp": 1563932575984,
     "user": {
      "displayName": "Mai Anh Ly",
      "photoUrl": "",
      "userId": "13204928062056036662"
     },
     "user_tz": -600
    },
    "id": "k7NNWPsRH1A9",
    "outputId": "57390e37-329f-4467-9074-770203544280"
   },
   "outputs": [
    {
     "data": {
      "text/html": [
       "<div>\n",
       "<style scoped>\n",
       "    .dataframe tbody tr th:only-of-type {\n",
       "        vertical-align: middle;\n",
       "    }\n",
       "\n",
       "    .dataframe tbody tr th {\n",
       "        vertical-align: top;\n",
       "    }\n",
       "\n",
       "    .dataframe thead th {\n",
       "        text-align: right;\n",
       "    }\n",
       "</style>\n",
       "<table border=\"1\" class=\"dataframe\">\n",
       "  <thead>\n",
       "    <tr style=\"text-align: right;\">\n",
       "      <th></th>\n",
       "      <th>mean_produce_items</th>\n",
       "      <th>mean_dairy_items</th>\n",
       "      <th>mean_beverage_items</th>\n",
       "      <th>mean_snack_items</th>\n",
       "    </tr>\n",
       "    <tr>\n",
       "      <th>user_id</th>\n",
       "      <th></th>\n",
       "      <th></th>\n",
       "      <th></th>\n",
       "      <th></th>\n",
       "    </tr>\n",
       "  </thead>\n",
       "  <tbody>\n",
       "    <tr>\n",
       "      <th>1</th>\n",
       "      <td>2.500000</td>\n",
       "      <td>1.444444</td>\n",
       "      <td>1.3</td>\n",
       "      <td>2.200000</td>\n",
       "    </tr>\n",
       "    <tr>\n",
       "      <th>2</th>\n",
       "      <td>2.571429</td>\n",
       "      <td>4.363636</td>\n",
       "      <td>1.5</td>\n",
       "      <td>3.230769</td>\n",
       "    </tr>\n",
       "    <tr>\n",
       "      <th>3</th>\n",
       "      <td>3.166667</td>\n",
       "      <td>1.909091</td>\n",
       "      <td>1.0</td>\n",
       "      <td>1.285714</td>\n",
       "    </tr>\n",
       "    <tr>\n",
       "      <th>4</th>\n",
       "      <td>2.000000</td>\n",
       "      <td>NaN</td>\n",
       "      <td>1.0</td>\n",
       "      <td>1.000000</td>\n",
       "    </tr>\n",
       "    <tr>\n",
       "      <th>5</th>\n",
       "      <td>4.750000</td>\n",
       "      <td>2.666667</td>\n",
       "      <td>NaN</td>\n",
       "      <td>1.000000</td>\n",
       "    </tr>\n",
       "  </tbody>\n",
       "</table>\n",
       "</div>"
      ],
      "text/plain": [
       "         mean_produce_items  ...  mean_snack_items\n",
       "user_id                      ...                  \n",
       "1                  2.500000  ...          2.200000\n",
       "2                  2.571429  ...          3.230769\n",
       "3                  3.166667  ...          1.285714\n",
       "4                  2.000000  ...          1.000000\n",
       "5                  4.750000  ...          1.000000\n",
       "\n",
       "[5 rows x 4 columns]"
      ]
     },
     "execution_count": 139,
     "metadata": {
      "tags": []
     },
     "output_type": "execute_result"
    }
   ],
   "source": [
    "# Find mean department items per order by user\n",
    "\n",
    "top_4_dep_tups = [(4, 'mean_produce_items'),\n",
    "                  (16, 'mean_dairy_items'),\n",
    "                  (7, 'mean_beverage_items'),\n",
    "                  (19, 'mean_snack_items')]\n",
    "\n",
    "mean_dep_items = []\n",
    "\n",
    "for dep_id, col_name in top_4_dep_tups:\n",
    "    mean_dep = find_mean_items_cat(dep_id, 'department_id', prior_products, col_name)\n",
    "    mean_dep_items.append(mean_dep)\n",
    "    \n",
    "mean_dep_items_df = pd.concat(mean_dep_items, axis=1) \n",
    "\n",
    "mean_dep_items_df.head()"
   ]
  },
  {
   "cell_type": "markdown",
   "metadata": {
    "colab_type": "text",
    "id": "hQYRedyxpcb0"
   },
   "source": [
    "## Create features describing purchases of speciality items by user"
   ]
  },
  {
   "cell_type": "code",
   "execution_count": 0,
   "metadata": {
    "colab": {
     "base_uri": "https://localhost:8080/",
     "height": 235
    },
    "colab_type": "code",
    "executionInfo": {
     "elapsed": 39852,
     "status": "ok",
     "timestamp": 1563932606201,
     "user": {
      "displayName": "Mai Anh Ly",
      "photoUrl": "",
      "userId": "13204928062056036662"
     },
     "user_tz": -600
    },
    "id": "V8FEQX61NCIZ",
    "outputId": "429fe479-168f-4a04-d7f6-8ae42eb80f88"
   },
   "outputs": [
    {
     "data": {
      "text/html": [
       "<div>\n",
       "<style scoped>\n",
       "    .dataframe tbody tr th:only-of-type {\n",
       "        vertical-align: middle;\n",
       "    }\n",
       "\n",
       "    .dataframe tbody tr th {\n",
       "        vertical-align: top;\n",
       "    }\n",
       "\n",
       "    .dataframe thead th {\n",
       "        text-align: right;\n",
       "    }\n",
       "</style>\n",
       "<table border=\"1\" class=\"dataframe\">\n",
       "  <thead>\n",
       "    <tr style=\"text-align: right;\">\n",
       "      <th></th>\n",
       "      <th>mean_organic_per_order</th>\n",
       "      <th>mean_choc_per_order</th>\n",
       "      <th>mean_gf_per_order</th>\n",
       "    </tr>\n",
       "    <tr>\n",
       "      <th>user_id</th>\n",
       "      <th></th>\n",
       "      <th></th>\n",
       "      <th></th>\n",
       "    </tr>\n",
       "  </thead>\n",
       "  <tbody>\n",
       "    <tr>\n",
       "      <th>1</th>\n",
       "      <td>1.500000</td>\n",
       "      <td>1.000000</td>\n",
       "      <td>NaN</td>\n",
       "    </tr>\n",
       "    <tr>\n",
       "      <th>2</th>\n",
       "      <td>3.571429</td>\n",
       "      <td>2.000000</td>\n",
       "      <td>1.666667</td>\n",
       "    </tr>\n",
       "    <tr>\n",
       "      <th>3</th>\n",
       "      <td>2.727273</td>\n",
       "      <td>1.166667</td>\n",
       "      <td>1.000000</td>\n",
       "    </tr>\n",
       "    <tr>\n",
       "      <th>4</th>\n",
       "      <td>2.000000</td>\n",
       "      <td>NaN</td>\n",
       "      <td>NaN</td>\n",
       "    </tr>\n",
       "    <tr>\n",
       "      <th>5</th>\n",
       "      <td>4.500000</td>\n",
       "      <td>NaN</td>\n",
       "      <td>NaN</td>\n",
       "    </tr>\n",
       "  </tbody>\n",
       "</table>\n",
       "</div>"
      ],
      "text/plain": [
       "         mean_organic_per_order  mean_choc_per_order  mean_gf_per_order\n",
       "user_id                                                                \n",
       "1                      1.500000             1.000000                NaN\n",
       "2                      3.571429             2.000000           1.666667\n",
       "3                      2.727273             1.166667           1.000000\n",
       "4                      2.000000                  NaN                NaN\n",
       "5                      4.500000                  NaN                NaN"
      ]
     },
     "execution_count": 140,
     "metadata": {
      "tags": []
     },
     "output_type": "execute_result"
    }
   ],
   "source": [
    "# Find mean organic, chocolate, gluten-free items per order\n",
    "\n",
    "mean_regex_items = []\n",
    "\n",
    "for name, pattern in zip(['mean_organic_per_order', 'mean_choc_per_order', 'mean_gf_per_order'],['[Oo]rganic', '[Cc]hoc', '[Gg]luten[\\s-]?[Ffree]']):\n",
    "    \n",
    "    mean_items = find_mean_items_regex(prior_products, all_products.reset_index(), 'product_name', pattern, name)\n",
    "    mean_regex_items.append(mean_items)\n",
    "    \n",
    "mean_regex_items_df = pd.concat(mean_regex_items, axis=1)  \n",
    "\n",
    "mean_regex_items_df.head()"
   ]
  },
  {
   "cell_type": "code",
   "execution_count": 0,
   "metadata": {
    "colab": {
     "base_uri": "https://localhost:8080/",
     "height": 235
    },
    "colab_type": "code",
    "executionInfo": {
     "elapsed": 505,
     "status": "ok",
     "timestamp": 1563932633750,
     "user": {
      "displayName": "Mai Anh Ly",
      "photoUrl": "",
      "userId": "13204928062056036662"
     },
     "user_tz": -600
    },
    "id": "UTAx3Wt_OyFA",
    "outputId": "43b1c16a-6869-4da8-ed96-0106f200b6dc"
   },
   "outputs": [
    {
     "data": {
      "text/html": [
       "<div>\n",
       "<style scoped>\n",
       "    .dataframe tbody tr th:only-of-type {\n",
       "        vertical-align: middle;\n",
       "    }\n",
       "\n",
       "    .dataframe tbody tr th {\n",
       "        vertical-align: top;\n",
       "    }\n",
       "\n",
       "    .dataframe thead th {\n",
       "        text-align: right;\n",
       "    }\n",
       "</style>\n",
       "<table border=\"1\" class=\"dataframe\">\n",
       "  <thead>\n",
       "    <tr style=\"text-align: right;\">\n",
       "      <th></th>\n",
       "      <th>mean_organic_per_order</th>\n",
       "      <th>mean_choc_per_order</th>\n",
       "      <th>mean_gf_per_order</th>\n",
       "      <th>mean_produce_items</th>\n",
       "      <th>mean_dairy_items</th>\n",
       "      <th>mean_beverage_items</th>\n",
       "      <th>mean_snack_items</th>\n",
       "    </tr>\n",
       "    <tr>\n",
       "      <th>user_id</th>\n",
       "      <th></th>\n",
       "      <th></th>\n",
       "      <th></th>\n",
       "      <th></th>\n",
       "      <th></th>\n",
       "      <th></th>\n",
       "      <th></th>\n",
       "    </tr>\n",
       "  </thead>\n",
       "  <tbody>\n",
       "    <tr>\n",
       "      <th>1</th>\n",
       "      <td>1.500000</td>\n",
       "      <td>1.000000</td>\n",
       "      <td>NaN</td>\n",
       "      <td>2.500000</td>\n",
       "      <td>1.444444</td>\n",
       "      <td>1.3</td>\n",
       "      <td>2.200000</td>\n",
       "    </tr>\n",
       "    <tr>\n",
       "      <th>2</th>\n",
       "      <td>3.571429</td>\n",
       "      <td>2.000000</td>\n",
       "      <td>1.666667</td>\n",
       "      <td>2.571429</td>\n",
       "      <td>4.363636</td>\n",
       "      <td>1.5</td>\n",
       "      <td>3.230769</td>\n",
       "    </tr>\n",
       "    <tr>\n",
       "      <th>3</th>\n",
       "      <td>2.727273</td>\n",
       "      <td>1.166667</td>\n",
       "      <td>1.000000</td>\n",
       "      <td>3.166667</td>\n",
       "      <td>1.909091</td>\n",
       "      <td>1.0</td>\n",
       "      <td>1.285714</td>\n",
       "    </tr>\n",
       "    <tr>\n",
       "      <th>4</th>\n",
       "      <td>2.000000</td>\n",
       "      <td>NaN</td>\n",
       "      <td>NaN</td>\n",
       "      <td>2.000000</td>\n",
       "      <td>NaN</td>\n",
       "      <td>1.0</td>\n",
       "      <td>1.000000</td>\n",
       "    </tr>\n",
       "    <tr>\n",
       "      <th>5</th>\n",
       "      <td>4.500000</td>\n",
       "      <td>NaN</td>\n",
       "      <td>NaN</td>\n",
       "      <td>4.750000</td>\n",
       "      <td>2.666667</td>\n",
       "      <td>NaN</td>\n",
       "      <td>1.000000</td>\n",
       "    </tr>\n",
       "  </tbody>\n",
       "</table>\n",
       "</div>"
      ],
      "text/plain": [
       "         mean_organic_per_order  ...  mean_snack_items\n",
       "user_id                          ...                  \n",
       "1                      1.500000  ...          2.200000\n",
       "2                      3.571429  ...          3.230769\n",
       "3                      2.727273  ...          1.285714\n",
       "4                      2.000000  ...          1.000000\n",
       "5                      4.500000  ...          1.000000\n",
       "\n",
       "[5 rows x 7 columns]"
      ]
     },
     "execution_count": 141,
     "metadata": {
      "tags": []
     },
     "output_type": "execute_result"
    }
   ],
   "source": [
    "# Create user X products feature dataframe indexed by user and product id\n",
    "\n",
    "user_X_products = pd.concat([mean_regex_items_df, mean_dep_items_df], axis=1)\n",
    "\n",
    "user_X_products.head()"
   ]
  },
  {
   "cell_type": "code",
   "execution_count": 0,
   "metadata": {
    "colab": {},
    "colab_type": "code",
    "id": "YzrFI3TJHTKq"
   },
   "outputs": [],
   "source": [
    "# Fill null values with 0\n",
    "\n",
    "user_X_products = user_X_products.fillna(0)"
   ]
  },
  {
   "cell_type": "code",
   "execution_count": 0,
   "metadata": {
    "colab": {
     "base_uri": "https://localhost:8080/",
     "height": 255
    },
    "colab_type": "code",
    "executionInfo": {
     "elapsed": 521,
     "status": "ok",
     "timestamp": 1563932640640,
     "user": {
      "displayName": "Mai Anh Ly",
      "photoUrl": "",
      "userId": "13204928062056036662"
     },
     "user_tz": -600
    },
    "id": "xyvszKvlIox7",
    "outputId": "6ab7af34-cb58-4d2a-e553-f7b62da737a2"
   },
   "outputs": [
    {
     "data": {
      "text/html": [
       "<div>\n",
       "<style scoped>\n",
       "    .dataframe tbody tr th:only-of-type {\n",
       "        vertical-align: middle;\n",
       "    }\n",
       "\n",
       "    .dataframe tbody tr th {\n",
       "        vertical-align: top;\n",
       "    }\n",
       "\n",
       "    .dataframe thead th {\n",
       "        text-align: right;\n",
       "    }\n",
       "</style>\n",
       "<table border=\"1\" class=\"dataframe\">\n",
       "  <thead>\n",
       "    <tr style=\"text-align: right;\">\n",
       "      <th></th>\n",
       "      <th>num_prior_orders_with_repurchase</th>\n",
       "      <th>total_products_ordered</th>\n",
       "      <th>total_products_reordered</th>\n",
       "      <th>mean_cart_size</th>\n",
       "      <th>mean_days_between_orders</th>\n",
       "      <th>most_freq_dow</th>\n",
       "      <th>mean_hour_order</th>\n",
       "      <th>days_since_last_order</th>\n",
       "      <th>n3_mean_cart_size</th>\n",
       "      <th>n3_mean_items_repurchased</th>\n",
       "      <th>n3_mean_prop_cart_repurchased</th>\n",
       "      <th>mean_organic_per_order</th>\n",
       "      <th>mean_choc_per_order</th>\n",
       "      <th>mean_gf_per_order</th>\n",
       "      <th>mean_produce_items</th>\n",
       "      <th>mean_dairy_items</th>\n",
       "      <th>mean_beverage_items</th>\n",
       "      <th>mean_snack_items</th>\n",
       "    </tr>\n",
       "    <tr>\n",
       "      <th>user_id</th>\n",
       "      <th></th>\n",
       "      <th></th>\n",
       "      <th></th>\n",
       "      <th></th>\n",
       "      <th></th>\n",
       "      <th></th>\n",
       "      <th></th>\n",
       "      <th></th>\n",
       "      <th></th>\n",
       "      <th></th>\n",
       "      <th></th>\n",
       "      <th></th>\n",
       "      <th></th>\n",
       "      <th></th>\n",
       "      <th></th>\n",
       "      <th></th>\n",
       "      <th></th>\n",
       "      <th></th>\n",
       "    </tr>\n",
       "  </thead>\n",
       "  <tbody>\n",
       "    <tr>\n",
       "      <th>1</th>\n",
       "      <td>9.0</td>\n",
       "      <td>59</td>\n",
       "      <td>41.0</td>\n",
       "      <td>5.900000</td>\n",
       "      <td>19.562500</td>\n",
       "      <td>4</td>\n",
       "      <td>10.300000</td>\n",
       "      <td>30</td>\n",
       "      <td>7.000000</td>\n",
       "      <td>5.333333</td>\n",
       "      <td>0.777778</td>\n",
       "      <td>1.500000</td>\n",
       "      <td>1.000000</td>\n",
       "      <td>0.000000</td>\n",
       "      <td>2.500000</td>\n",
       "      <td>1.444444</td>\n",
       "      <td>1.3</td>\n",
       "      <td>2.200000</td>\n",
       "    </tr>\n",
       "    <tr>\n",
       "      <th>2</th>\n",
       "      <td>12.0</td>\n",
       "      <td>195</td>\n",
       "      <td>93.0</td>\n",
       "      <td>13.928572</td>\n",
       "      <td>15.234375</td>\n",
       "      <td>2</td>\n",
       "      <td>10.571428</td>\n",
       "      <td>13</td>\n",
       "      <td>14.666667</td>\n",
       "      <td>7.000000</td>\n",
       "      <td>0.401316</td>\n",
       "      <td>3.571429</td>\n",
       "      <td>2.000000</td>\n",
       "      <td>1.666667</td>\n",
       "      <td>2.571429</td>\n",
       "      <td>4.363636</td>\n",
       "      <td>1.5</td>\n",
       "      <td>3.230769</td>\n",
       "    </tr>\n",
       "    <tr>\n",
       "      <th>3</th>\n",
       "      <td>11.0</td>\n",
       "      <td>88</td>\n",
       "      <td>55.0</td>\n",
       "      <td>7.333333</td>\n",
       "      <td>12.093750</td>\n",
       "      <td>0</td>\n",
       "      <td>16.416666</td>\n",
       "      <td>15</td>\n",
       "      <td>5.666667</td>\n",
       "      <td>5.333333</td>\n",
       "      <td>0.944444</td>\n",
       "      <td>2.727273</td>\n",
       "      <td>1.166667</td>\n",
       "      <td>1.000000</td>\n",
       "      <td>3.166667</td>\n",
       "      <td>1.909091</td>\n",
       "      <td>1.0</td>\n",
       "      <td>1.285714</td>\n",
       "    </tr>\n",
       "    <tr>\n",
       "      <th>4</th>\n",
       "      <td>1.0</td>\n",
       "      <td>18</td>\n",
       "      <td>1.0</td>\n",
       "      <td>3.600000</td>\n",
       "      <td>13.750000</td>\n",
       "      <td>5</td>\n",
       "      <td>12.600000</td>\n",
       "      <td>0</td>\n",
       "      <td>4.000000</td>\n",
       "      <td>0.333333</td>\n",
       "      <td>0.047619</td>\n",
       "      <td>2.000000</td>\n",
       "      <td>0.000000</td>\n",
       "      <td>0.000000</td>\n",
       "      <td>2.000000</td>\n",
       "      <td>0.000000</td>\n",
       "      <td>1.0</td>\n",
       "      <td>1.000000</td>\n",
       "    </tr>\n",
       "    <tr>\n",
       "      <th>5</th>\n",
       "      <td>3.0</td>\n",
       "      <td>37</td>\n",
       "      <td>14.0</td>\n",
       "      <td>9.250000</td>\n",
       "      <td>13.335938</td>\n",
       "      <td>3</td>\n",
       "      <td>16.000000</td>\n",
       "      <td>19</td>\n",
       "      <td>8.666667</td>\n",
       "      <td>4.666667</td>\n",
       "      <td>0.503704</td>\n",
       "      <td>4.500000</td>\n",
       "      <td>0.000000</td>\n",
       "      <td>0.000000</td>\n",
       "      <td>4.750000</td>\n",
       "      <td>2.666667</td>\n",
       "      <td>0.0</td>\n",
       "      <td>1.000000</td>\n",
       "    </tr>\n",
       "  </tbody>\n",
       "</table>\n",
       "</div>"
      ],
      "text/plain": [
       "         num_prior_orders_with_repurchase  ...  mean_snack_items\n",
       "user_id                                    ...                  \n",
       "1                                     9.0  ...          2.200000\n",
       "2                                    12.0  ...          3.230769\n",
       "3                                    11.0  ...          1.285714\n",
       "4                                     1.0  ...          1.000000\n",
       "5                                     3.0  ...          1.000000\n",
       "\n",
       "[5 rows x 18 columns]"
      ]
     },
     "execution_count": 143,
     "metadata": {
      "tags": []
     },
     "output_type": "execute_result"
    }
   ],
   "source": [
    "# Concatenate with user_order_history_2\n",
    "\n",
    "user_order_history_3 = pd.concat([user_order_history_2, user_X_products],\n",
    "                                 axis=1)\n",
    "\n",
    "user_order_history_3.head()"
   ]
  },
  {
   "cell_type": "code",
   "execution_count": 0,
   "metadata": {
    "colab": {
     "base_uri": "https://localhost:8080/",
     "height": 408
    },
    "colab_type": "code",
    "executionInfo": {
     "elapsed": 2858,
     "status": "ok",
     "timestamp": 1563932651233,
     "user": {
      "displayName": "Mai Anh Ly",
      "photoUrl": "",
      "userId": "13204928062056036662"
     },
     "user_tz": -600
    },
    "id": "6uLKnmoxL2c6",
    "outputId": "16d56ae7-8d93-4edf-f88a-ef6d1efb8940"
   },
   "outputs": [
    {
     "name": "stdout",
     "output_type": "stream",
     "text": [
      "<class 'pandas.core.frame.DataFrame'>\n",
      "Int64Index: 206209 entries, 1 to 206209\n",
      "Data columns (total 18 columns):\n",
      "num_prior_orders_with_repurchase    206209 non-null float64\n",
      "total_products_ordered              206209 non-null int32\n",
      "total_products_reordered            206209 non-null float64\n",
      "mean_cart_size                      206209 non-null float32\n",
      "mean_days_between_orders            206209 non-null float32\n",
      "most_freq_dow                       206209 non-null int8\n",
      "mean_hour_order                     206209 non-null float32\n",
      "days_since_last_order               206209 non-null int32\n",
      "n3_mean_cart_size                   206209 non-null float64\n",
      "n3_mean_items_repurchased           206209 non-null float32\n",
      "n3_mean_prop_cart_repurchased       206209 non-null float32\n",
      "mean_organic_per_order              205682 non-null float32\n",
      "mean_choc_per_order                 205682 non-null float32\n",
      "mean_gf_per_order                   205682 non-null float32\n",
      "mean_produce_items                  205682 non-null float32\n",
      "mean_dairy_items                    205682 non-null float32\n",
      "mean_beverage_items                 205682 non-null float32\n",
      "mean_snack_items                    205682 non-null float32\n",
      "dtypes: float32(12), float64(3), int32(2), int8(1)\n",
      "memory usage: 17.5 MB\n"
     ]
    }
   ],
   "source": [
    "user_order_history_3.info()"
   ]
  },
  {
   "cell_type": "code",
   "execution_count": 0,
   "metadata": {
    "colab": {
     "base_uri": "https://localhost:8080/",
     "height": 340
    },
    "colab_type": "code",
    "executionInfo": {
     "elapsed": 1399,
     "status": "ok",
     "timestamp": 1563932652199,
     "user": {
      "displayName": "Mai Anh Ly",
      "photoUrl": "",
      "userId": "13204928062056036662"
     },
     "user_tz": -600
    },
    "id": "lXz3ccPBI_ks",
    "outputId": "7eb4ebea-e6db-47cf-bc76-be9fc77cc08b"
   },
   "outputs": [
    {
     "data": {
      "text/plain": [
       "num_prior_orders_with_repurchase      0\n",
       "total_products_ordered                0\n",
       "total_products_reordered              0\n",
       "mean_cart_size                        0\n",
       "mean_days_between_orders              0\n",
       "most_freq_dow                         0\n",
       "mean_hour_order                       0\n",
       "days_since_last_order                 0\n",
       "n3_mean_cart_size                     0\n",
       "n3_mean_items_repurchased             0\n",
       "n3_mean_prop_cart_repurchased         0\n",
       "mean_organic_per_order              527\n",
       "mean_choc_per_order                 527\n",
       "mean_gf_per_order                   527\n",
       "mean_produce_items                  527\n",
       "mean_dairy_items                    527\n",
       "mean_beverage_items                 527\n",
       "mean_snack_items                    527\n",
       "dtype: int64"
      ]
     },
     "execution_count": 145,
     "metadata": {
      "tags": []
     },
     "output_type": "execute_result"
    }
   ],
   "source": [
    "# Check for null values\n",
    "\n",
    "user_order_history_3.isnull().sum()"
   ]
  },
  {
   "cell_type": "code",
   "execution_count": 0,
   "metadata": {
    "colab": {},
    "colab_type": "code",
    "id": "gr_lueUXJF1T"
   },
   "outputs": [],
   "source": [
    "# Fill null values\n",
    "\n",
    "user_order_history_3 = user_order_history_3.fillna(0)"
   ]
  },
  {
   "cell_type": "code",
   "execution_count": 0,
   "metadata": {
    "colab": {},
    "colab_type": "code",
    "id": "LUdbosqCJLis"
   },
   "outputs": [],
   "source": [
    "# Save to file\n",
    "\n",
    "user_order_history_3.to_csv('../data/interim/user_order_history.v3.gz', compression='gzip', chunksize=1000)"
   ]
  },
  {
   "cell_type": "code",
   "execution_count": 0,
   "metadata": {
    "colab": {
     "base_uri": "https://localhost:8080/",
     "height": 204
    },
    "colab_type": "code",
    "executionInfo": {
     "elapsed": 11307,
     "status": "ok",
     "timestamp": 1563932678253,
     "user": {
      "displayName": "Mai Anh Ly",
      "photoUrl": "",
      "userId": "13204928062056036662"
     },
     "user_tz": -600
    },
    "id": "iPXYDEatOC_Z",
    "outputId": "586ca6a8-a14f-4919-8682-d5fd916a8d0b"
   },
   "outputs": [
    {
     "data": {
      "text/html": [
       "<div>\n",
       "<style scoped>\n",
       "    .dataframe tbody tr th:only-of-type {\n",
       "        vertical-align: middle;\n",
       "    }\n",
       "\n",
       "    .dataframe tbody tr th {\n",
       "        vertical-align: top;\n",
       "    }\n",
       "\n",
       "    .dataframe thead th {\n",
       "        text-align: right;\n",
       "    }\n",
       "</style>\n",
       "<table border=\"1\" class=\"dataframe\">\n",
       "  <thead>\n",
       "    <tr style=\"text-align: right;\">\n",
       "      <th></th>\n",
       "      <th>user_id</th>\n",
       "      <th>aisle_id</th>\n",
       "      <th>times_ordered_from_aisle</th>\n",
       "    </tr>\n",
       "  </thead>\n",
       "  <tbody>\n",
       "    <tr>\n",
       "      <th>0</th>\n",
       "      <td>1</td>\n",
       "      <td>21</td>\n",
       "      <td>8</td>\n",
       "    </tr>\n",
       "    <tr>\n",
       "      <th>1</th>\n",
       "      <td>1</td>\n",
       "      <td>23</td>\n",
       "      <td>12</td>\n",
       "    </tr>\n",
       "    <tr>\n",
       "      <th>2</th>\n",
       "      <td>1</td>\n",
       "      <td>24</td>\n",
       "      <td>5</td>\n",
       "    </tr>\n",
       "    <tr>\n",
       "      <th>3</th>\n",
       "      <td>1</td>\n",
       "      <td>45</td>\n",
       "      <td>1</td>\n",
       "    </tr>\n",
       "    <tr>\n",
       "      <th>4</th>\n",
       "      <td>1</td>\n",
       "      <td>53</td>\n",
       "      <td>2</td>\n",
       "    </tr>\n",
       "  </tbody>\n",
       "</table>\n",
       "</div>"
      ],
      "text/plain": [
       "   user_id  aisle_id  times_ordered_from_aisle\n",
       "0        1        21                         8\n",
       "1        1        23                        12\n",
       "2        1        24                         5\n",
       "3        1        45                         1\n",
       "4        1        53                         2"
      ]
     },
     "execution_count": 148,
     "metadata": {
      "tags": []
     },
     "output_type": "execute_result"
    }
   ],
   "source": [
    "# Find times user ordered from aisle\n",
    "\n",
    "times_aisle_ordered = prior_products.groupby(['user_id', 'aisle_id']).size().reset_index().rename(columns={0: 'times_ordered_from_aisle'})\n",
    "times_aisle_ordered.head()"
   ]
  },
  {
   "cell_type": "code",
   "execution_count": 0,
   "metadata": {
    "colab": {},
    "colab_type": "code",
    "id": "LzoFTCd0Jx2K"
   },
   "outputs": [],
   "source": [
    "# Save to file\n",
    "\n",
    "times_aisle_ordered.to_csv('../data/interim/times_aisle_ordered_prior.gz', compression='gzip', chunksize=1000)"
   ]
  },
  {
   "cell_type": "markdown",
   "metadata": {
    "colab_type": "text",
    "id": "pTPX4Y4wNCTM"
   },
   "source": [
    "## Import `training`"
   ]
  },
  {
   "cell_type": "code",
   "execution_count": 0,
   "metadata": {
    "colab": {
     "base_uri": "https://localhost:8080/",
     "height": 204
    },
    "colab_type": "code",
    "executionInfo": {
     "elapsed": 2423,
     "status": "ok",
     "timestamp": 1563931609839,
     "user": {
      "displayName": "Mai Anh Ly",
      "photoUrl": "",
      "userId": "13204928062056036662"
     },
     "user_tz": -600
    },
    "id": "pYC66JLBNEoo",
    "outputId": "2c19a0d7-a822-4176-af2b-a2f74f2ac011"
   },
   "outputs": [
    {
     "data": {
      "text/html": [
       "<div>\n",
       "<style scoped>\n",
       "    .dataframe tbody tr th:only-of-type {\n",
       "        vertical-align: middle;\n",
       "    }\n",
       "\n",
       "    .dataframe tbody tr th {\n",
       "        vertical-align: top;\n",
       "    }\n",
       "\n",
       "    .dataframe thead th {\n",
       "        text-align: right;\n",
       "    }\n",
       "</style>\n",
       "<table border=\"1\" class=\"dataframe\">\n",
       "  <thead>\n",
       "    <tr style=\"text-align: right;\">\n",
       "      <th></th>\n",
       "      <th>order_id</th>\n",
       "      <th>product_id</th>\n",
       "      <th>add_to_cart_order</th>\n",
       "      <th>reordered</th>\n",
       "      <th>user_id</th>\n",
       "      <th>order_number</th>\n",
       "      <th>order_dow</th>\n",
       "      <th>order_hour_of_day</th>\n",
       "      <th>days_since_prior_order</th>\n",
       "      <th>aisle_id</th>\n",
       "      <th>department_id</th>\n",
       "    </tr>\n",
       "  </thead>\n",
       "  <tbody>\n",
       "    <tr>\n",
       "      <th>0</th>\n",
       "      <td>1</td>\n",
       "      <td>49302</td>\n",
       "      <td>1</td>\n",
       "      <td>1</td>\n",
       "      <td>112108</td>\n",
       "      <td>4</td>\n",
       "      <td>4</td>\n",
       "      <td>10</td>\n",
       "      <td>9.0</td>\n",
       "      <td>120</td>\n",
       "      <td>16</td>\n",
       "    </tr>\n",
       "    <tr>\n",
       "      <th>1</th>\n",
       "      <td>1</td>\n",
       "      <td>11109</td>\n",
       "      <td>2</td>\n",
       "      <td>1</td>\n",
       "      <td>112108</td>\n",
       "      <td>4</td>\n",
       "      <td>4</td>\n",
       "      <td>10</td>\n",
       "      <td>9.0</td>\n",
       "      <td>108</td>\n",
       "      <td>16</td>\n",
       "    </tr>\n",
       "    <tr>\n",
       "      <th>2</th>\n",
       "      <td>1</td>\n",
       "      <td>10246</td>\n",
       "      <td>3</td>\n",
       "      <td>0</td>\n",
       "      <td>112108</td>\n",
       "      <td>4</td>\n",
       "      <td>4</td>\n",
       "      <td>10</td>\n",
       "      <td>9.0</td>\n",
       "      <td>83</td>\n",
       "      <td>4</td>\n",
       "    </tr>\n",
       "    <tr>\n",
       "      <th>3</th>\n",
       "      <td>1</td>\n",
       "      <td>49683</td>\n",
       "      <td>4</td>\n",
       "      <td>0</td>\n",
       "      <td>112108</td>\n",
       "      <td>4</td>\n",
       "      <td>4</td>\n",
       "      <td>10</td>\n",
       "      <td>9.0</td>\n",
       "      <td>83</td>\n",
       "      <td>4</td>\n",
       "    </tr>\n",
       "    <tr>\n",
       "      <th>4</th>\n",
       "      <td>1</td>\n",
       "      <td>43633</td>\n",
       "      <td>5</td>\n",
       "      <td>1</td>\n",
       "      <td>112108</td>\n",
       "      <td>4</td>\n",
       "      <td>4</td>\n",
       "      <td>10</td>\n",
       "      <td>9.0</td>\n",
       "      <td>95</td>\n",
       "      <td>15</td>\n",
       "    </tr>\n",
       "  </tbody>\n",
       "</table>\n",
       "</div>"
      ],
      "text/plain": [
       "   order_id  product_id  ...  aisle_id  department_id\n",
       "0         1       49302  ...       120             16\n",
       "1         1       11109  ...       108             16\n",
       "2         1       10246  ...        83              4\n",
       "3         1       49683  ...        83              4\n",
       "4         1       43633  ...        95             15\n",
       "\n",
       "[5 rows x 11 columns]"
      ]
     },
     "execution_count": 115,
     "metadata": {
      "tags": []
     },
     "output_type": "execute_result"
    }
   ],
   "source": [
    "training = pd.read_csv(\"../data/training/train_products.final.gz\", compression='gzip', low_memory=True, dtype=prior_products_dtype)\n",
    "\n",
    "training.head()"
   ]
  },
  {
   "cell_type": "markdown",
   "metadata": {
    "colab_type": "text",
    "id": "Kvu3ItMaNiSz"
   },
   "source": [
    "## Merge `training` and `user_order_history`"
   ]
  },
  {
   "cell_type": "code",
   "execution_count": 0,
   "metadata": {
    "colab": {
     "base_uri": "https://localhost:8080/",
     "height": 224
    },
    "colab_type": "code",
    "executionInfo": {
     "elapsed": 5931,
     "status": "ok",
     "timestamp": 1563932678256,
     "user": {
      "displayName": "Mai Anh Ly",
      "photoUrl": "",
      "userId": "13204928062056036662"
     },
     "user_tz": -600
    },
    "id": "Z-tj8dHCNl_O",
    "outputId": "1e321c3a-4407-4262-f32b-6253d4796fa8"
   },
   "outputs": [
    {
     "data": {
      "text/html": [
       "<div>\n",
       "<style scoped>\n",
       "    .dataframe tbody tr th:only-of-type {\n",
       "        vertical-align: middle;\n",
       "    }\n",
       "\n",
       "    .dataframe tbody tr th {\n",
       "        vertical-align: top;\n",
       "    }\n",
       "\n",
       "    .dataframe thead th {\n",
       "        text-align: right;\n",
       "    }\n",
       "</style>\n",
       "<table border=\"1\" class=\"dataframe\">\n",
       "  <thead>\n",
       "    <tr style=\"text-align: right;\">\n",
       "      <th></th>\n",
       "      <th>order_id</th>\n",
       "      <th>product_id</th>\n",
       "      <th>add_to_cart_order</th>\n",
       "      <th>reordered</th>\n",
       "      <th>user_id</th>\n",
       "      <th>order_number</th>\n",
       "      <th>order_dow</th>\n",
       "      <th>order_hour_of_day</th>\n",
       "      <th>days_since_prior_order</th>\n",
       "      <th>aisle_id</th>\n",
       "      <th>department_id</th>\n",
       "      <th>num_prior_orders_with_repurchase</th>\n",
       "      <th>total_products_ordered</th>\n",
       "      <th>total_products_reordered</th>\n",
       "      <th>mean_cart_size</th>\n",
       "      <th>mean_days_between_orders</th>\n",
       "      <th>most_freq_dow</th>\n",
       "      <th>mean_hour_order</th>\n",
       "      <th>days_since_last_order</th>\n",
       "      <th>n3_mean_cart_size</th>\n",
       "      <th>n3_mean_items_repurchased</th>\n",
       "      <th>n3_mean_prop_cart_repurchased</th>\n",
       "      <th>mean_organic_per_order</th>\n",
       "      <th>mean_choc_per_order</th>\n",
       "      <th>mean_gf_per_order</th>\n",
       "      <th>mean_produce_items</th>\n",
       "      <th>mean_dairy_items</th>\n",
       "      <th>mean_beverage_items</th>\n",
       "      <th>mean_snack_items</th>\n",
       "    </tr>\n",
       "  </thead>\n",
       "  <tbody>\n",
       "    <tr>\n",
       "      <th>0</th>\n",
       "      <td>1</td>\n",
       "      <td>49302</td>\n",
       "      <td>1</td>\n",
       "      <td>1</td>\n",
       "      <td>112108</td>\n",
       "      <td>4</td>\n",
       "      <td>4</td>\n",
       "      <td>10</td>\n",
       "      <td>9.0</td>\n",
       "      <td>120</td>\n",
       "      <td>16</td>\n",
       "      <td>2.0</td>\n",
       "      <td>21</td>\n",
       "      <td>9.0</td>\n",
       "      <td>7.0</td>\n",
       "      <td>11.0</td>\n",
       "      <td>1</td>\n",
       "      <td>15.0</td>\n",
       "      <td>15</td>\n",
       "      <td>7.0</td>\n",
       "      <td>3.0</td>\n",
       "      <td>0.475</td>\n",
       "      <td>3.0</td>\n",
       "      <td>1.0</td>\n",
       "      <td>0.0</td>\n",
       "      <td>1.5</td>\n",
       "      <td>3.0</td>\n",
       "      <td>1.333333</td>\n",
       "      <td>1.5</td>\n",
       "    </tr>\n",
       "    <tr>\n",
       "      <th>1</th>\n",
       "      <td>1</td>\n",
       "      <td>11109</td>\n",
       "      <td>2</td>\n",
       "      <td>1</td>\n",
       "      <td>112108</td>\n",
       "      <td>4</td>\n",
       "      <td>4</td>\n",
       "      <td>10</td>\n",
       "      <td>9.0</td>\n",
       "      <td>108</td>\n",
       "      <td>16</td>\n",
       "      <td>2.0</td>\n",
       "      <td>21</td>\n",
       "      <td>9.0</td>\n",
       "      <td>7.0</td>\n",
       "      <td>11.0</td>\n",
       "      <td>1</td>\n",
       "      <td>15.0</td>\n",
       "      <td>15</td>\n",
       "      <td>7.0</td>\n",
       "      <td>3.0</td>\n",
       "      <td>0.475</td>\n",
       "      <td>3.0</td>\n",
       "      <td>1.0</td>\n",
       "      <td>0.0</td>\n",
       "      <td>1.5</td>\n",
       "      <td>3.0</td>\n",
       "      <td>1.333333</td>\n",
       "      <td>1.5</td>\n",
       "    </tr>\n",
       "    <tr>\n",
       "      <th>2</th>\n",
       "      <td>1</td>\n",
       "      <td>10246</td>\n",
       "      <td>3</td>\n",
       "      <td>0</td>\n",
       "      <td>112108</td>\n",
       "      <td>4</td>\n",
       "      <td>4</td>\n",
       "      <td>10</td>\n",
       "      <td>9.0</td>\n",
       "      <td>83</td>\n",
       "      <td>4</td>\n",
       "      <td>2.0</td>\n",
       "      <td>21</td>\n",
       "      <td>9.0</td>\n",
       "      <td>7.0</td>\n",
       "      <td>11.0</td>\n",
       "      <td>1</td>\n",
       "      <td>15.0</td>\n",
       "      <td>15</td>\n",
       "      <td>7.0</td>\n",
       "      <td>3.0</td>\n",
       "      <td>0.475</td>\n",
       "      <td>3.0</td>\n",
       "      <td>1.0</td>\n",
       "      <td>0.0</td>\n",
       "      <td>1.5</td>\n",
       "      <td>3.0</td>\n",
       "      <td>1.333333</td>\n",
       "      <td>1.5</td>\n",
       "    </tr>\n",
       "    <tr>\n",
       "      <th>3</th>\n",
       "      <td>1</td>\n",
       "      <td>49683</td>\n",
       "      <td>4</td>\n",
       "      <td>0</td>\n",
       "      <td>112108</td>\n",
       "      <td>4</td>\n",
       "      <td>4</td>\n",
       "      <td>10</td>\n",
       "      <td>9.0</td>\n",
       "      <td>83</td>\n",
       "      <td>4</td>\n",
       "      <td>2.0</td>\n",
       "      <td>21</td>\n",
       "      <td>9.0</td>\n",
       "      <td>7.0</td>\n",
       "      <td>11.0</td>\n",
       "      <td>1</td>\n",
       "      <td>15.0</td>\n",
       "      <td>15</td>\n",
       "      <td>7.0</td>\n",
       "      <td>3.0</td>\n",
       "      <td>0.475</td>\n",
       "      <td>3.0</td>\n",
       "      <td>1.0</td>\n",
       "      <td>0.0</td>\n",
       "      <td>1.5</td>\n",
       "      <td>3.0</td>\n",
       "      <td>1.333333</td>\n",
       "      <td>1.5</td>\n",
       "    </tr>\n",
       "    <tr>\n",
       "      <th>4</th>\n",
       "      <td>1</td>\n",
       "      <td>43633</td>\n",
       "      <td>5</td>\n",
       "      <td>1</td>\n",
       "      <td>112108</td>\n",
       "      <td>4</td>\n",
       "      <td>4</td>\n",
       "      <td>10</td>\n",
       "      <td>9.0</td>\n",
       "      <td>95</td>\n",
       "      <td>15</td>\n",
       "      <td>2.0</td>\n",
       "      <td>21</td>\n",
       "      <td>9.0</td>\n",
       "      <td>7.0</td>\n",
       "      <td>11.0</td>\n",
       "      <td>1</td>\n",
       "      <td>15.0</td>\n",
       "      <td>15</td>\n",
       "      <td>7.0</td>\n",
       "      <td>3.0</td>\n",
       "      <td>0.475</td>\n",
       "      <td>3.0</td>\n",
       "      <td>1.0</td>\n",
       "      <td>0.0</td>\n",
       "      <td>1.5</td>\n",
       "      <td>3.0</td>\n",
       "      <td>1.333333</td>\n",
       "      <td>1.5</td>\n",
       "    </tr>\n",
       "  </tbody>\n",
       "</table>\n",
       "</div>"
      ],
      "text/plain": [
       "   order_id  product_id  ...  mean_beverage_items  mean_snack_items\n",
       "0         1       49302  ...             1.333333               1.5\n",
       "1         1       11109  ...             1.333333               1.5\n",
       "2         1       10246  ...             1.333333               1.5\n",
       "3         1       49683  ...             1.333333               1.5\n",
       "4         1       43633  ...             1.333333               1.5\n",
       "\n",
       "[5 rows x 29 columns]"
      ]
     },
     "execution_count": 149,
     "metadata": {
      "tags": []
     },
     "output_type": "execute_result"
    }
   ],
   "source": [
    "training_2 = pd.merge(training, user_order_history_3.reset_index(), on='user_id', how='left')\n",
    "\n",
    "training_2.head()"
   ]
  },
  {
   "cell_type": "code",
   "execution_count": 0,
   "metadata": {
    "colab": {
     "base_uri": "https://localhost:8080/",
     "height": 595
    },
    "colab_type": "code",
    "executionInfo": {
     "elapsed": 6684,
     "status": "ok",
     "timestamp": 1563932680618,
     "user": {
      "displayName": "Mai Anh Ly",
      "photoUrl": "",
      "userId": "13204928062056036662"
     },
     "user_tz": -600
    },
    "id": "Zvx5lzPeNzTk",
    "outputId": "36f1fe76-7a0b-4fb1-f98c-ee43672af2bc"
   },
   "outputs": [
    {
     "name": "stdout",
     "output_type": "stream",
     "text": [
      "<class 'pandas.core.frame.DataFrame'>\n",
      "Int64Index: 1384617 entries, 0 to 1384616\n",
      "Data columns (total 29 columns):\n",
      "order_id                            1384617 non-null int32\n",
      "product_id                          1384617 non-null int32\n",
      "add_to_cart_order                   1384617 non-null int8\n",
      "reordered                           1384617 non-null int8\n",
      "user_id                             1384617 non-null int32\n",
      "order_number                        1384617 non-null int32\n",
      "order_dow                           1384617 non-null int8\n",
      "order_hour_of_day                   1384617 non-null int8\n",
      "days_since_prior_order              1384617 non-null float16\n",
      "aisle_id                            1384617 non-null int32\n",
      "department_id                       1384617 non-null int32\n",
      "num_prior_orders_with_repurchase    1384617 non-null float64\n",
      "total_products_ordered              1384617 non-null int32\n",
      "total_products_reordered            1384617 non-null float64\n",
      "mean_cart_size                      1384617 non-null float32\n",
      "mean_days_between_orders            1384617 non-null float32\n",
      "most_freq_dow                       1384617 non-null int8\n",
      "mean_hour_order                     1384617 non-null float32\n",
      "days_since_last_order               1384617 non-null int32\n",
      "n3_mean_cart_size                   1384617 non-null float64\n",
      "n3_mean_items_repurchased           1384617 non-null float32\n",
      "n3_mean_prop_cart_repurchased       1384617 non-null float32\n",
      "mean_organic_per_order              1384617 non-null float32\n",
      "mean_choc_per_order                 1384617 non-null float32\n",
      "mean_gf_per_order                   1384617 non-null float32\n",
      "mean_produce_items                  1384617 non-null float32\n",
      "mean_dairy_items                    1384617 non-null float32\n",
      "mean_beverage_items                 1384617 non-null float32\n",
      "mean_snack_items                    1384617 non-null float32\n",
      "dtypes: float16(1), float32(12), float64(3), int32(8), int8(5)\n",
      "memory usage: 157.1 MB\n"
     ]
    }
   ],
   "source": [
    "training_2.info()"
   ]
  },
  {
   "cell_type": "markdown",
   "metadata": {
    "colab_type": "text",
    "id": "gK9Jn147N1EN"
   },
   "source": [
    "## Merge `training_2` and `times_ordered_from_aisle`"
   ]
  },
  {
   "cell_type": "code",
   "execution_count": 0,
   "metadata": {
    "colab": {
     "base_uri": "https://localhost:8080/",
     "height": 224
    },
    "colab_type": "code",
    "executionInfo": {
     "elapsed": 4096,
     "status": "ok",
     "timestamp": 1563932176194,
     "user": {
      "displayName": "Mai Anh Ly",
      "photoUrl": "",
      "userId": "13204928062056036662"
     },
     "user_tz": -600
    },
    "id": "5nlc5cpjN7og",
    "outputId": "672084a4-bf4c-479d-b601-dee649467656"
   },
   "outputs": [
    {
     "data": {
      "text/html": [
       "<div>\n",
       "<style scoped>\n",
       "    .dataframe tbody tr th:only-of-type {\n",
       "        vertical-align: middle;\n",
       "    }\n",
       "\n",
       "    .dataframe tbody tr th {\n",
       "        vertical-align: top;\n",
       "    }\n",
       "\n",
       "    .dataframe thead th {\n",
       "        text-align: right;\n",
       "    }\n",
       "</style>\n",
       "<table border=\"1\" class=\"dataframe\">\n",
       "  <thead>\n",
       "    <tr style=\"text-align: right;\">\n",
       "      <th></th>\n",
       "      <th>order_id</th>\n",
       "      <th>product_id</th>\n",
       "      <th>add_to_cart_order</th>\n",
       "      <th>reordered</th>\n",
       "      <th>user_id</th>\n",
       "      <th>order_number</th>\n",
       "      <th>order_dow</th>\n",
       "      <th>order_hour_of_day</th>\n",
       "      <th>days_since_prior_order</th>\n",
       "      <th>aisle_id</th>\n",
       "      <th>department_id</th>\n",
       "      <th>num_prior_orders_with_repurchase</th>\n",
       "      <th>total_products_ordered</th>\n",
       "      <th>total_products_reordered</th>\n",
       "      <th>mean_cart_size</th>\n",
       "      <th>mean_days_between_orders</th>\n",
       "      <th>most_freq_dow</th>\n",
       "      <th>mean_hour_order</th>\n",
       "      <th>days_since_last_order</th>\n",
       "      <th>n3_mean_cart_size</th>\n",
       "      <th>n3_mean_items_repurchased</th>\n",
       "      <th>n3_mean_prop_cart_repurchased</th>\n",
       "      <th>mean_organic_per_order</th>\n",
       "      <th>mean_choc_per_order</th>\n",
       "      <th>mean_gf_per_order</th>\n",
       "      <th>mean_produce_items</th>\n",
       "      <th>mean_dairy_items</th>\n",
       "      <th>times_ordered_from_aisle</th>\n",
       "    </tr>\n",
       "  </thead>\n",
       "  <tbody>\n",
       "    <tr>\n",
       "      <th>0</th>\n",
       "      <td>1</td>\n",
       "      <td>49302</td>\n",
       "      <td>1</td>\n",
       "      <td>1</td>\n",
       "      <td>112108</td>\n",
       "      <td>4</td>\n",
       "      <td>4</td>\n",
       "      <td>10</td>\n",
       "      <td>9.0</td>\n",
       "      <td>120</td>\n",
       "      <td>16</td>\n",
       "      <td>2.0</td>\n",
       "      <td>21</td>\n",
       "      <td>9.0</td>\n",
       "      <td>7.0</td>\n",
       "      <td>11.0</td>\n",
       "      <td>1</td>\n",
       "      <td>15.0</td>\n",
       "      <td>15</td>\n",
       "      <td>7.0</td>\n",
       "      <td>3.0</td>\n",
       "      <td>0.475</td>\n",
       "      <td>3.0</td>\n",
       "      <td>1.0</td>\n",
       "      <td>0.0</td>\n",
       "      <td>1.5</td>\n",
       "      <td>3.0</td>\n",
       "      <td>2.0</td>\n",
       "    </tr>\n",
       "    <tr>\n",
       "      <th>1</th>\n",
       "      <td>1</td>\n",
       "      <td>11109</td>\n",
       "      <td>2</td>\n",
       "      <td>1</td>\n",
       "      <td>112108</td>\n",
       "      <td>4</td>\n",
       "      <td>4</td>\n",
       "      <td>10</td>\n",
       "      <td>9.0</td>\n",
       "      <td>108</td>\n",
       "      <td>16</td>\n",
       "      <td>2.0</td>\n",
       "      <td>21</td>\n",
       "      <td>9.0</td>\n",
       "      <td>7.0</td>\n",
       "      <td>11.0</td>\n",
       "      <td>1</td>\n",
       "      <td>15.0</td>\n",
       "      <td>15</td>\n",
       "      <td>7.0</td>\n",
       "      <td>3.0</td>\n",
       "      <td>0.475</td>\n",
       "      <td>3.0</td>\n",
       "      <td>1.0</td>\n",
       "      <td>0.0</td>\n",
       "      <td>1.5</td>\n",
       "      <td>3.0</td>\n",
       "      <td>2.0</td>\n",
       "    </tr>\n",
       "    <tr>\n",
       "      <th>2</th>\n",
       "      <td>1</td>\n",
       "      <td>10246</td>\n",
       "      <td>3</td>\n",
       "      <td>0</td>\n",
       "      <td>112108</td>\n",
       "      <td>4</td>\n",
       "      <td>4</td>\n",
       "      <td>10</td>\n",
       "      <td>9.0</td>\n",
       "      <td>83</td>\n",
       "      <td>4</td>\n",
       "      <td>2.0</td>\n",
       "      <td>21</td>\n",
       "      <td>9.0</td>\n",
       "      <td>7.0</td>\n",
       "      <td>11.0</td>\n",
       "      <td>1</td>\n",
       "      <td>15.0</td>\n",
       "      <td>15</td>\n",
       "      <td>7.0</td>\n",
       "      <td>3.0</td>\n",
       "      <td>0.475</td>\n",
       "      <td>3.0</td>\n",
       "      <td>1.0</td>\n",
       "      <td>0.0</td>\n",
       "      <td>1.5</td>\n",
       "      <td>3.0</td>\n",
       "      <td>2.0</td>\n",
       "    </tr>\n",
       "    <tr>\n",
       "      <th>3</th>\n",
       "      <td>1</td>\n",
       "      <td>49683</td>\n",
       "      <td>4</td>\n",
       "      <td>0</td>\n",
       "      <td>112108</td>\n",
       "      <td>4</td>\n",
       "      <td>4</td>\n",
       "      <td>10</td>\n",
       "      <td>9.0</td>\n",
       "      <td>83</td>\n",
       "      <td>4</td>\n",
       "      <td>2.0</td>\n",
       "      <td>21</td>\n",
       "      <td>9.0</td>\n",
       "      <td>7.0</td>\n",
       "      <td>11.0</td>\n",
       "      <td>1</td>\n",
       "      <td>15.0</td>\n",
       "      <td>15</td>\n",
       "      <td>7.0</td>\n",
       "      <td>3.0</td>\n",
       "      <td>0.475</td>\n",
       "      <td>3.0</td>\n",
       "      <td>1.0</td>\n",
       "      <td>0.0</td>\n",
       "      <td>1.5</td>\n",
       "      <td>3.0</td>\n",
       "      <td>2.0</td>\n",
       "    </tr>\n",
       "    <tr>\n",
       "      <th>4</th>\n",
       "      <td>1</td>\n",
       "      <td>43633</td>\n",
       "      <td>5</td>\n",
       "      <td>1</td>\n",
       "      <td>112108</td>\n",
       "      <td>4</td>\n",
       "      <td>4</td>\n",
       "      <td>10</td>\n",
       "      <td>9.0</td>\n",
       "      <td>95</td>\n",
       "      <td>15</td>\n",
       "      <td>2.0</td>\n",
       "      <td>21</td>\n",
       "      <td>9.0</td>\n",
       "      <td>7.0</td>\n",
       "      <td>11.0</td>\n",
       "      <td>1</td>\n",
       "      <td>15.0</td>\n",
       "      <td>15</td>\n",
       "      <td>7.0</td>\n",
       "      <td>3.0</td>\n",
       "      <td>0.475</td>\n",
       "      <td>3.0</td>\n",
       "      <td>1.0</td>\n",
       "      <td>0.0</td>\n",
       "      <td>1.5</td>\n",
       "      <td>3.0</td>\n",
       "      <td>5.0</td>\n",
       "    </tr>\n",
       "  </tbody>\n",
       "</table>\n",
       "</div>"
      ],
      "text/plain": [
       "   order_id  product_id  ...  mean_dairy_items  times_ordered_from_aisle\n",
       "0         1       49302  ...               3.0                       2.0\n",
       "1         1       11109  ...               3.0                       2.0\n",
       "2         1       10246  ...               3.0                       2.0\n",
       "3         1       49683  ...               3.0                       2.0\n",
       "4         1       43633  ...               3.0                       5.0\n",
       "\n",
       "[5 rows x 28 columns]"
      ]
     },
     "execution_count": 133,
     "metadata": {
      "tags": []
     },
     "output_type": "execute_result"
    }
   ],
   "source": [
    "training_3 = pd.merge(training_2, times_aisle_ordered, on=['user_id', 'aisle_id'], how='left')\n",
    "\n",
    "training_3.head()"
   ]
  },
  {
   "cell_type": "code",
   "execution_count": 0,
   "metadata": {
    "colab": {
     "base_uri": "https://localhost:8080/",
     "height": 578
    },
    "colab_type": "code",
    "executionInfo": {
     "elapsed": 2084,
     "status": "ok",
     "timestamp": 1563932178149,
     "user": {
      "displayName": "Mai Anh Ly",
      "photoUrl": "",
      "userId": "13204928062056036662"
     },
     "user_tz": -600
    },
    "id": "l7w4KdvOOLPF",
    "outputId": "64ebd23d-3af3-445f-d0a2-d7a89356bf8e"
   },
   "outputs": [
    {
     "name": "stdout",
     "output_type": "stream",
     "text": [
      "<class 'pandas.core.frame.DataFrame'>\n",
      "Int64Index: 1384617 entries, 0 to 1384616\n",
      "Data columns (total 28 columns):\n",
      "order_id                            1384617 non-null int32\n",
      "product_id                          1384617 non-null int32\n",
      "add_to_cart_order                   1384617 non-null int8\n",
      "reordered                           1384617 non-null int8\n",
      "user_id                             1384617 non-null int32\n",
      "order_number                        1384617 non-null int32\n",
      "order_dow                           1384617 non-null int8\n",
      "order_hour_of_day                   1384617 non-null int8\n",
      "days_since_prior_order              1384617 non-null float16\n",
      "aisle_id                            1384617 non-null int32\n",
      "department_id                       1384617 non-null int32\n",
      "num_prior_orders_with_repurchase    1384617 non-null float64\n",
      "total_products_ordered              1384617 non-null int32\n",
      "total_products_reordered            1384617 non-null float64\n",
      "mean_cart_size                      1384617 non-null float32\n",
      "mean_days_between_orders            1384617 non-null float32\n",
      "most_freq_dow                       1384617 non-null int8\n",
      "mean_hour_order                     1384617 non-null float32\n",
      "days_since_last_order               1384617 non-null int32\n",
      "n3_mean_cart_size                   1384617 non-null float64\n",
      "n3_mean_items_repurchased           1384617 non-null float32\n",
      "n3_mean_prop_cart_repurchased       1384617 non-null float32\n",
      "mean_organic_per_order              1384617 non-null float32\n",
      "mean_choc_per_order                 1384617 non-null float32\n",
      "mean_gf_per_order                   1384617 non-null float32\n",
      "mean_produce_items                  1384617 non-null float32\n",
      "mean_dairy_items                    1384617 non-null float32\n",
      "times_ordered_from_aisle            1161862 non-null float64\n",
      "dtypes: float16(1), float32(10), float64(4), int32(8), int8(5)\n",
      "memory usage: 157.1 MB\n"
     ]
    }
   ],
   "source": [
    "training_3.info()"
   ]
  },
  {
   "cell_type": "code",
   "execution_count": 0,
   "metadata": {
    "colab": {
     "base_uri": "https://localhost:8080/",
     "height": 510
    },
    "colab_type": "code",
    "executionInfo": {
     "elapsed": 1246,
     "status": "ok",
     "timestamp": 1563932179636,
     "user": {
      "displayName": "Mai Anh Ly",
      "photoUrl": "",
      "userId": "13204928062056036662"
     },
     "user_tz": -600
    },
    "id": "ZHajGyWYmLKk",
    "outputId": "a796c8e5-7b1f-45c6-95f8-a230bc962428"
   },
   "outputs": [
    {
     "data": {
      "text/plain": [
       "order_id                                 0\n",
       "product_id                               0\n",
       "add_to_cart_order                        0\n",
       "reordered                                0\n",
       "user_id                                  0\n",
       "order_number                             0\n",
       "order_dow                                0\n",
       "order_hour_of_day                        0\n",
       "days_since_prior_order                   0\n",
       "aisle_id                                 0\n",
       "department_id                            0\n",
       "num_prior_orders_with_repurchase         0\n",
       "total_products_ordered                   0\n",
       "total_products_reordered                 0\n",
       "mean_cart_size                           0\n",
       "mean_days_between_orders                 0\n",
       "most_freq_dow                            0\n",
       "mean_hour_order                          0\n",
       "days_since_last_order                    0\n",
       "n3_mean_cart_size                        0\n",
       "n3_mean_items_repurchased                0\n",
       "n3_mean_prop_cart_repurchased            0\n",
       "mean_organic_per_order                   0\n",
       "mean_choc_per_order                      0\n",
       "mean_gf_per_order                        0\n",
       "mean_produce_items                       0\n",
       "mean_dairy_items                         0\n",
       "times_ordered_from_aisle            222755\n",
       "dtype: int64"
      ]
     },
     "execution_count": 135,
     "metadata": {
      "tags": []
     },
     "output_type": "execute_result"
    }
   ],
   "source": [
    "# Check for null values\n",
    "\n",
    "training_3.isnull().sum()"
   ]
  },
  {
   "cell_type": "code",
   "execution_count": 0,
   "metadata": {
    "colab": {},
    "colab_type": "code",
    "id": "cMTVeAEBmRrJ"
   },
   "outputs": [],
   "source": [
    "# Fill null values\n",
    "\n",
    "training_3 = training_3.fillna(0) "
   ]
  },
  {
   "cell_type": "code",
   "execution_count": 0,
   "metadata": {
    "colab": {},
    "colab_type": "code",
    "id": "EY4e8MX3Oukl"
   },
   "outputs": [],
   "source": [
    "# Save to file\n",
    "\n",
    "training_3.to_csv('../data/training/train_features.gz', compression='gzip', chunksize=1000)"
   ]
  },
  {
   "cell_type": "markdown",
   "metadata": {
    "colab_type": "text",
    "id": "OyfoM6n5LxV-"
   },
   "source": [
    "## Summary\n",
    "\n",
    "- 18 features indexed by user were created based on each user's ordering behaviour, categories of products frequently ordered, and total and recent history. This was saved as `user_order_history.v3.gz` in the `data/interim/` project filepath. This table was then merged with the `training` set on the `user_id` column.\n",
    "- Times each user ordered from every aisle was also saved as `times_aisle_ordered_prior.gz` in the `data/interim/` filepath. This table was merged with a `training` set on the `user_id` and `aisle_id` columns.\n",
    "- The `training` subset table was merged with features created in this notebook and saved as `train_features.gz` in the `data/training/` filepath. "
   ]
  }
 ],
 "metadata": {
  "accelerator": "GPU",
  "colab": {
   "collapsed_sections": [
    "skmH2-3cJN_v"
   ],
   "name": "FINAL-02-creating_features_for_modelling.ipynb",
   "provenance": [],
   "version": "0.3.2"
  },
  "kernelspec": {
   "display_name": "Python [default]",
   "language": "python",
   "name": "python3"
  },
  "language_info": {
   "codemirror_mode": {
    "name": "ipython",
    "version": 3
   },
   "file_extension": ".py",
   "mimetype": "text/x-python",
   "name": "python",
   "nbconvert_exporter": "python",
   "pygments_lexer": "ipython3",
   "version": "3.6.8"
  },
  "toc": {
   "nav_menu": {},
   "number_sections": true,
   "sideBar": true,
   "skip_h1_title": true,
   "title_cell": "Table of Contents",
   "title_sidebar": "Contents",
   "toc_cell": true,
   "toc_position": {},
   "toc_section_display": true,
   "toc_window_display": false
  }
 },
 "nbformat": 4,
 "nbformat_minor": 1
}
